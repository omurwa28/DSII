{
 "cells": [
  {
   "cell_type": "code",
   "execution_count": 1,
   "metadata": {},
   "outputs": [
    {
     "data": {
      "text/html": [
       "        <script type=\"text/javascript\">\n",
       "        window.PlotlyConfig = {MathJaxConfig: 'local'};\n",
       "        if (window.MathJax) {MathJax.Hub.Config({SVG: {font: \"STIX-Web\"}});}\n",
       "        if (typeof require !== 'undefined') {\n",
       "        require.undef(\"plotly\");\n",
       "        requirejs.config({\n",
       "            paths: {\n",
       "                'plotly': ['https://cdn.plot.ly/plotly-latest.min']\n",
       "            }\n",
       "        });\n",
       "        require(['plotly'], function(Plotly) {\n",
       "            window._Plotly = Plotly;\n",
       "        });\n",
       "        }\n",
       "        </script>\n",
       "        "
      ]
     },
     "metadata": {},
     "output_type": "display_data"
    },
    {
     "data": {
      "text/html": [
       "\n",
       "    <div class=\"bk-root\">\n",
       "        <a href=\"https://bokeh.org\" target=\"_blank\" class=\"bk-logo bk-logo-small bk-logo-notebook\"></a>\n",
       "        <span id=\"1001\">Loading BokehJS ...</span>\n",
       "    </div>"
      ]
     },
     "metadata": {},
     "output_type": "display_data"
    },
    {
     "data": {
      "application/javascript": [
       "\n",
       "(function(root) {\n",
       "  function now() {\n",
       "    return new Date();\n",
       "  }\n",
       "\n",
       "  var force = true;\n",
       "\n",
       "  if (typeof root._bokeh_onload_callbacks === \"undefined\" || force === true) {\n",
       "    root._bokeh_onload_callbacks = [];\n",
       "    root._bokeh_is_loading = undefined;\n",
       "  }\n",
       "\n",
       "  var JS_MIME_TYPE = 'application/javascript';\n",
       "  var HTML_MIME_TYPE = 'text/html';\n",
       "  var EXEC_MIME_TYPE = 'application/vnd.bokehjs_exec.v0+json';\n",
       "  var CLASS_NAME = 'output_bokeh rendered_html';\n",
       "\n",
       "  /**\n",
       "   * Render data to the DOM node\n",
       "   */\n",
       "  function render(props, node) {\n",
       "    var script = document.createElement(\"script\");\n",
       "    node.appendChild(script);\n",
       "  }\n",
       "\n",
       "  /**\n",
       "   * Handle when an output is cleared or removed\n",
       "   */\n",
       "  function handleClearOutput(event, handle) {\n",
       "    var cell = handle.cell;\n",
       "\n",
       "    var id = cell.output_area._bokeh_element_id;\n",
       "    var server_id = cell.output_area._bokeh_server_id;\n",
       "    // Clean up Bokeh references\n",
       "    if (id != null && id in Bokeh.index) {\n",
       "      Bokeh.index[id].model.document.clear();\n",
       "      delete Bokeh.index[id];\n",
       "    }\n",
       "\n",
       "    if (server_id !== undefined) {\n",
       "      // Clean up Bokeh references\n",
       "      var cmd = \"from bokeh.io.state import curstate; print(curstate().uuid_to_server['\" + server_id + \"'].get_sessions()[0].document.roots[0]._id)\";\n",
       "      cell.notebook.kernel.execute(cmd, {\n",
       "        iopub: {\n",
       "          output: function(msg) {\n",
       "            var id = msg.content.text.trim();\n",
       "            if (id in Bokeh.index) {\n",
       "              Bokeh.index[id].model.document.clear();\n",
       "              delete Bokeh.index[id];\n",
       "            }\n",
       "          }\n",
       "        }\n",
       "      });\n",
       "      // Destroy server and session\n",
       "      var cmd = \"import bokeh.io.notebook as ion; ion.destroy_server('\" + server_id + \"')\";\n",
       "      cell.notebook.kernel.execute(cmd);\n",
       "    }\n",
       "  }\n",
       "\n",
       "  /**\n",
       "   * Handle when a new output is added\n",
       "   */\n",
       "  function handleAddOutput(event, handle) {\n",
       "    var output_area = handle.output_area;\n",
       "    var output = handle.output;\n",
       "\n",
       "    // limit handleAddOutput to display_data with EXEC_MIME_TYPE content only\n",
       "    if ((output.output_type != \"display_data\") || (!output.data.hasOwnProperty(EXEC_MIME_TYPE))) {\n",
       "      return\n",
       "    }\n",
       "\n",
       "    var toinsert = output_area.element.find(\".\" + CLASS_NAME.split(' ')[0]);\n",
       "\n",
       "    if (output.metadata[EXEC_MIME_TYPE][\"id\"] !== undefined) {\n",
       "      toinsert[toinsert.length - 1].firstChild.textContent = output.data[JS_MIME_TYPE];\n",
       "      // store reference to embed id on output_area\n",
       "      output_area._bokeh_element_id = output.metadata[EXEC_MIME_TYPE][\"id\"];\n",
       "    }\n",
       "    if (output.metadata[EXEC_MIME_TYPE][\"server_id\"] !== undefined) {\n",
       "      var bk_div = document.createElement(\"div\");\n",
       "      bk_div.innerHTML = output.data[HTML_MIME_TYPE];\n",
       "      var script_attrs = bk_div.children[0].attributes;\n",
       "      for (var i = 0; i < script_attrs.length; i++) {\n",
       "        toinsert[toinsert.length - 1].firstChild.setAttribute(script_attrs[i].name, script_attrs[i].value);\n",
       "      }\n",
       "      // store reference to server id on output_area\n",
       "      output_area._bokeh_server_id = output.metadata[EXEC_MIME_TYPE][\"server_id\"];\n",
       "    }\n",
       "  }\n",
       "\n",
       "  function register_renderer(events, OutputArea) {\n",
       "\n",
       "    function append_mime(data, metadata, element) {\n",
       "      // create a DOM node to render to\n",
       "      var toinsert = this.create_output_subarea(\n",
       "        metadata,\n",
       "        CLASS_NAME,\n",
       "        EXEC_MIME_TYPE\n",
       "      );\n",
       "      this.keyboard_manager.register_events(toinsert);\n",
       "      // Render to node\n",
       "      var props = {data: data, metadata: metadata[EXEC_MIME_TYPE]};\n",
       "      render(props, toinsert[toinsert.length - 1]);\n",
       "      element.append(toinsert);\n",
       "      return toinsert\n",
       "    }\n",
       "\n",
       "    /* Handle when an output is cleared or removed */\n",
       "    events.on('clear_output.CodeCell', handleClearOutput);\n",
       "    events.on('delete.Cell', handleClearOutput);\n",
       "\n",
       "    /* Handle when a new output is added */\n",
       "    events.on('output_added.OutputArea', handleAddOutput);\n",
       "\n",
       "    /**\n",
       "     * Register the mime type and append_mime function with output_area\n",
       "     */\n",
       "    OutputArea.prototype.register_mime_type(EXEC_MIME_TYPE, append_mime, {\n",
       "      /* Is output safe? */\n",
       "      safe: true,\n",
       "      /* Index of renderer in `output_area.display_order` */\n",
       "      index: 0\n",
       "    });\n",
       "  }\n",
       "\n",
       "  // register the mime type if in Jupyter Notebook environment and previously unregistered\n",
       "  if (root.Jupyter !== undefined) {\n",
       "    var events = require('base/js/events');\n",
       "    var OutputArea = require('notebook/js/outputarea').OutputArea;\n",
       "\n",
       "    if (OutputArea.prototype.mime_types().indexOf(EXEC_MIME_TYPE) == -1) {\n",
       "      register_renderer(events, OutputArea);\n",
       "    }\n",
       "  }\n",
       "\n",
       "  \n",
       "  if (typeof (root._bokeh_timeout) === \"undefined\" || force === true) {\n",
       "    root._bokeh_timeout = Date.now() + 5000;\n",
       "    root._bokeh_failed_load = false;\n",
       "  }\n",
       "\n",
       "  var NB_LOAD_WARNING = {'data': {'text/html':\n",
       "     \"<div style='background-color: #fdd'>\\n\"+\n",
       "     \"<p>\\n\"+\n",
       "     \"BokehJS does not appear to have successfully loaded. If loading BokehJS from CDN, this \\n\"+\n",
       "     \"may be due to a slow or bad network connection. Possible fixes:\\n\"+\n",
       "     \"</p>\\n\"+\n",
       "     \"<ul>\\n\"+\n",
       "     \"<li>re-rerun `output_notebook()` to attempt to load from CDN again, or</li>\\n\"+\n",
       "     \"<li>use INLINE resources instead, as so:</li>\\n\"+\n",
       "     \"</ul>\\n\"+\n",
       "     \"<code>\\n\"+\n",
       "     \"from bokeh.resources import INLINE\\n\"+\n",
       "     \"output_notebook(resources=INLINE)\\n\"+\n",
       "     \"</code>\\n\"+\n",
       "     \"</div>\"}};\n",
       "\n",
       "  function display_loaded() {\n",
       "    var el = document.getElementById(\"1001\");\n",
       "    if (el != null) {\n",
       "      el.textContent = \"BokehJS is loading...\";\n",
       "    }\n",
       "    if (root.Bokeh !== undefined) {\n",
       "      if (el != null) {\n",
       "        el.textContent = \"BokehJS \" + root.Bokeh.version + \" successfully loaded.\";\n",
       "      }\n",
       "    } else if (Date.now() < root._bokeh_timeout) {\n",
       "      setTimeout(display_loaded, 100)\n",
       "    }\n",
       "  }\n",
       "\n",
       "\n",
       "  function run_callbacks() {\n",
       "    try {\n",
       "      root._bokeh_onload_callbacks.forEach(function(callback) {\n",
       "        if (callback != null)\n",
       "          callback();\n",
       "      });\n",
       "    } finally {\n",
       "      delete root._bokeh_onload_callbacks\n",
       "    }\n",
       "    console.debug(\"Bokeh: all callbacks have finished\");\n",
       "  }\n",
       "\n",
       "  function load_libs(css_urls, js_urls, callback) {\n",
       "    if (css_urls == null) css_urls = [];\n",
       "    if (js_urls == null) js_urls = [];\n",
       "\n",
       "    root._bokeh_onload_callbacks.push(callback);\n",
       "    if (root._bokeh_is_loading > 0) {\n",
       "      console.debug(\"Bokeh: BokehJS is being loaded, scheduling callback at\", now());\n",
       "      return null;\n",
       "    }\n",
       "    if (js_urls == null || js_urls.length === 0) {\n",
       "      run_callbacks();\n",
       "      return null;\n",
       "    }\n",
       "    console.debug(\"Bokeh: BokehJS not loaded, scheduling load and callback at\", now());\n",
       "    root._bokeh_is_loading = css_urls.length + js_urls.length;\n",
       "\n",
       "    function on_load() {\n",
       "      root._bokeh_is_loading--;\n",
       "      if (root._bokeh_is_loading === 0) {\n",
       "        console.debug(\"Bokeh: all BokehJS libraries/stylesheets loaded\");\n",
       "        run_callbacks()\n",
       "      }\n",
       "    }\n",
       "\n",
       "    function on_error() {\n",
       "      console.error(\"failed to load \" + url);\n",
       "    }\n",
       "\n",
       "    for (var i = 0; i < css_urls.length; i++) {\n",
       "      var url = css_urls[i];\n",
       "      const element = document.createElement(\"link\");\n",
       "      element.onload = on_load;\n",
       "      element.onerror = on_error;\n",
       "      element.rel = \"stylesheet\";\n",
       "      element.type = \"text/css\";\n",
       "      element.href = url;\n",
       "      console.debug(\"Bokeh: injecting link tag for BokehJS stylesheet: \", url);\n",
       "      document.body.appendChild(element);\n",
       "    }\n",
       "\n",
       "    for (var i = 0; i < js_urls.length; i++) {\n",
       "      var url = js_urls[i];\n",
       "      var element = document.createElement('script');\n",
       "      element.onload = on_load;\n",
       "      element.onerror = on_error;\n",
       "      element.async = false;\n",
       "      element.src = url;\n",
       "      console.debug(\"Bokeh: injecting script tag for BokehJS library: \", url);\n",
       "      document.head.appendChild(element);\n",
       "    }\n",
       "  };var element = document.getElementById(\"1001\");\n",
       "  if (element == null) {\n",
       "    console.error(\"Bokeh: ERROR: autoload.js configured with elementid '1001' but no matching script tag was found. \")\n",
       "    return false;\n",
       "  }\n",
       "\n",
       "  function inject_raw_css(css) {\n",
       "    const element = document.createElement(\"style\");\n",
       "    element.appendChild(document.createTextNode(css));\n",
       "    document.body.appendChild(element);\n",
       "  }\n",
       "\n",
       "  \n",
       "  var js_urls = [\"https://cdn.pydata.org/bokeh/release/bokeh-1.4.0.min.js\", \"https://cdn.pydata.org/bokeh/release/bokeh-widgets-1.4.0.min.js\", \"https://cdn.pydata.org/bokeh/release/bokeh-tables-1.4.0.min.js\", \"https://cdn.pydata.org/bokeh/release/bokeh-gl-1.4.0.min.js\"];\n",
       "  var css_urls = [];\n",
       "  \n",
       "\n",
       "  var inline_js = [\n",
       "    function(Bokeh) {\n",
       "      Bokeh.set_log_level(\"info\");\n",
       "    },\n",
       "    function(Bokeh) {\n",
       "    \n",
       "    \n",
       "    }\n",
       "  ];\n",
       "\n",
       "  function run_inline_js() {\n",
       "    \n",
       "    if (root.Bokeh !== undefined || force === true) {\n",
       "      \n",
       "    for (var i = 0; i < inline_js.length; i++) {\n",
       "      inline_js[i].call(root, root.Bokeh);\n",
       "    }\n",
       "    if (force === true) {\n",
       "        display_loaded();\n",
       "      }} else if (Date.now() < root._bokeh_timeout) {\n",
       "      setTimeout(run_inline_js, 100);\n",
       "    } else if (!root._bokeh_failed_load) {\n",
       "      console.log(\"Bokeh: BokehJS failed to load within specified timeout.\");\n",
       "      root._bokeh_failed_load = true;\n",
       "    } else if (force !== true) {\n",
       "      var cell = $(document.getElementById(\"1001\")).parents('.cell').data().cell;\n",
       "      cell.output_area.append_execute_result(NB_LOAD_WARNING)\n",
       "    }\n",
       "\n",
       "  }\n",
       "\n",
       "  if (root._bokeh_is_loading === 0) {\n",
       "    console.debug(\"Bokeh: BokehJS loaded, going straight to plotting\");\n",
       "    run_inline_js();\n",
       "  } else {\n",
       "    load_libs(css_urls, js_urls, function() {\n",
       "      console.debug(\"Bokeh: BokehJS plotting callback run at\", now());\n",
       "      run_inline_js();\n",
       "    });\n",
       "  }\n",
       "}(window));"
      ],
      "application/vnd.bokehjs_load.v0+json": "\n(function(root) {\n  function now() {\n    return new Date();\n  }\n\n  var force = true;\n\n  if (typeof root._bokeh_onload_callbacks === \"undefined\" || force === true) {\n    root._bokeh_onload_callbacks = [];\n    root._bokeh_is_loading = undefined;\n  }\n\n  \n\n  \n  if (typeof (root._bokeh_timeout) === \"undefined\" || force === true) {\n    root._bokeh_timeout = Date.now() + 5000;\n    root._bokeh_failed_load = false;\n  }\n\n  var NB_LOAD_WARNING = {'data': {'text/html':\n     \"<div style='background-color: #fdd'>\\n\"+\n     \"<p>\\n\"+\n     \"BokehJS does not appear to have successfully loaded. If loading BokehJS from CDN, this \\n\"+\n     \"may be due to a slow or bad network connection. Possible fixes:\\n\"+\n     \"</p>\\n\"+\n     \"<ul>\\n\"+\n     \"<li>re-rerun `output_notebook()` to attempt to load from CDN again, or</li>\\n\"+\n     \"<li>use INLINE resources instead, as so:</li>\\n\"+\n     \"</ul>\\n\"+\n     \"<code>\\n\"+\n     \"from bokeh.resources import INLINE\\n\"+\n     \"output_notebook(resources=INLINE)\\n\"+\n     \"</code>\\n\"+\n     \"</div>\"}};\n\n  function display_loaded() {\n    var el = document.getElementById(\"1001\");\n    if (el != null) {\n      el.textContent = \"BokehJS is loading...\";\n    }\n    if (root.Bokeh !== undefined) {\n      if (el != null) {\n        el.textContent = \"BokehJS \" + root.Bokeh.version + \" successfully loaded.\";\n      }\n    } else if (Date.now() < root._bokeh_timeout) {\n      setTimeout(display_loaded, 100)\n    }\n  }\n\n\n  function run_callbacks() {\n    try {\n      root._bokeh_onload_callbacks.forEach(function(callback) {\n        if (callback != null)\n          callback();\n      });\n    } finally {\n      delete root._bokeh_onload_callbacks\n    }\n    console.debug(\"Bokeh: all callbacks have finished\");\n  }\n\n  function load_libs(css_urls, js_urls, callback) {\n    if (css_urls == null) css_urls = [];\n    if (js_urls == null) js_urls = [];\n\n    root._bokeh_onload_callbacks.push(callback);\n    if (root._bokeh_is_loading > 0) {\n      console.debug(\"Bokeh: BokehJS is being loaded, scheduling callback at\", now());\n      return null;\n    }\n    if (js_urls == null || js_urls.length === 0) {\n      run_callbacks();\n      return null;\n    }\n    console.debug(\"Bokeh: BokehJS not loaded, scheduling load and callback at\", now());\n    root._bokeh_is_loading = css_urls.length + js_urls.length;\n\n    function on_load() {\n      root._bokeh_is_loading--;\n      if (root._bokeh_is_loading === 0) {\n        console.debug(\"Bokeh: all BokehJS libraries/stylesheets loaded\");\n        run_callbacks()\n      }\n    }\n\n    function on_error() {\n      console.error(\"failed to load \" + url);\n    }\n\n    for (var i = 0; i < css_urls.length; i++) {\n      var url = css_urls[i];\n      const element = document.createElement(\"link\");\n      element.onload = on_load;\n      element.onerror = on_error;\n      element.rel = \"stylesheet\";\n      element.type = \"text/css\";\n      element.href = url;\n      console.debug(\"Bokeh: injecting link tag for BokehJS stylesheet: \", url);\n      document.body.appendChild(element);\n    }\n\n    for (var i = 0; i < js_urls.length; i++) {\n      var url = js_urls[i];\n      var element = document.createElement('script');\n      element.onload = on_load;\n      element.onerror = on_error;\n      element.async = false;\n      element.src = url;\n      console.debug(\"Bokeh: injecting script tag for BokehJS library: \", url);\n      document.head.appendChild(element);\n    }\n  };var element = document.getElementById(\"1001\");\n  if (element == null) {\n    console.error(\"Bokeh: ERROR: autoload.js configured with elementid '1001' but no matching script tag was found. \")\n    return false;\n  }\n\n  function inject_raw_css(css) {\n    const element = document.createElement(\"style\");\n    element.appendChild(document.createTextNode(css));\n    document.body.appendChild(element);\n  }\n\n  \n  var js_urls = [\"https://cdn.pydata.org/bokeh/release/bokeh-1.4.0.min.js\", \"https://cdn.pydata.org/bokeh/release/bokeh-widgets-1.4.0.min.js\", \"https://cdn.pydata.org/bokeh/release/bokeh-tables-1.4.0.min.js\", \"https://cdn.pydata.org/bokeh/release/bokeh-gl-1.4.0.min.js\"];\n  var css_urls = [];\n  \n\n  var inline_js = [\n    function(Bokeh) {\n      Bokeh.set_log_level(\"info\");\n    },\n    function(Bokeh) {\n    \n    \n    }\n  ];\n\n  function run_inline_js() {\n    \n    if (root.Bokeh !== undefined || force === true) {\n      \n    for (var i = 0; i < inline_js.length; i++) {\n      inline_js[i].call(root, root.Bokeh);\n    }\n    if (force === true) {\n        display_loaded();\n      }} else if (Date.now() < root._bokeh_timeout) {\n      setTimeout(run_inline_js, 100);\n    } else if (!root._bokeh_failed_load) {\n      console.log(\"Bokeh: BokehJS failed to load within specified timeout.\");\n      root._bokeh_failed_load = true;\n    } else if (force !== true) {\n      var cell = $(document.getElementById(\"1001\")).parents('.cell').data().cell;\n      cell.output_area.append_execute_result(NB_LOAD_WARNING)\n    }\n\n  }\n\n  if (root._bokeh_is_loading === 0) {\n    console.debug(\"Bokeh: BokehJS loaded, going straight to plotting\");\n    run_inline_js();\n  } else {\n    load_libs(css_urls, js_urls, function() {\n      console.debug(\"Bokeh: BokehJS plotting callback run at\", now());\n      run_inline_js();\n    });\n  }\n}(window));"
     },
     "metadata": {},
     "output_type": "display_data"
    }
   ],
   "source": [
    "import numpy as np \n",
    "from scipy.spatial import distance\n",
    "\n",
    "from ipywidgets import interact, interactive, fixed, interact_manual\n",
    "import ipywidgets as widgets\n",
    " \n",
    "from plotly.offline import download_plotlyjs, init_notebook_mode, plot, iplot\n",
    "from plotly import graph_objs as go\n",
    "init_notebook_mode(connected=True)\n",
    "import numpy as np\n",
    "\n",
    "import random\n",
    "\n",
    "from IPython.display import display, Math\n",
    "\n",
    "from bokeh.io import show, output_notebook, reset_output\n",
    "from bokeh.plotting import figure, show\n",
    "from scipy.stats import norm \n",
    "from bokeh import plotting as pl\n",
    "from bokeh.models import HoverTool, Arrow, OpenHead, NormalHead, VeeHead, Span, ColumnDataSource, PointDrawTool, TableColumn,  DataTable\n",
    "\n",
    "reset_output()\n",
    "output_notebook()"
   ]
  },
  {
   "cell_type": "code",
   "execution_count": null,
   "metadata": {},
   "outputs": [],
   "source": [
    "''' In order for us to get into the details of linear algebra first we will have to learn to speak its language.\n",
    "Hence in this in this section we are going to focus on some core concepts in linear algebra. These will be -\n",
    "\n",
    "1) Scalars and Vectors \n",
    "2) Matrices \n",
    "3) Algebra of Matrices \n",
    "4) Inverse and transpose of a Matrix \n",
    "5) Eigenvectors and Eigenvalues \n",
    "\n",
    "In this notebook we are going to talk about-\n",
    "  1) Scalars and vectors  definitions  <br>\n",
    "  3) Magnitude of a vector  <br>\n",
    "  4) Unit vector <br>\n",
    "  5) Vector arithmetic <br>\n",
    "So lets get started!'''"
   ]
  },
  {
   "cell_type": "markdown",
   "metadata": {},
   "source": [
    "## Scalars and Vectors"
   ]
  },
  {
   "cell_type": "code",
   "execution_count": null,
   "metadata": {},
   "outputs": [],
   "source": [
    "\"\"\" One of the fundamental quantities we will work with is a scalar. A scalar, simply put is any real number. For example, \n",
    "if you measure your weight, you are representing \n",
    "your weight with a real number. This is called a scalar. The height of a building, is a scalar. Scalar are a single value, \n",
    "they can be positive or negative. For example -45 celcius is a scalar quantity as well.\n",
    "\n",
    "A vector is an ordered collection of elements. We usually write a vector  𝐀  as -\n",
    "\n",
    "𝐀  = [ 𝑎1,𝑎2 ]\n",
    "where  𝑎1  and  𝑎2  are scalars. We will be using square brackets to represent vectors and matrices which w\n",
    "\n",
    "They are also called components or elements of the vector  𝐀 \n",
    "\n",
    "The order of (  𝑎1,𝑎2 ) matters. This is because if have another vector  𝐁  = [ 𝑎2,𝑎1 ], then\n",
    "\n",
    "𝐀   ≠   𝐁 \n",
    "For  𝐀  to be equal to  𝐁  we need the order of  𝑎1  and  𝑎2  to be the same both vectors.\n",
    "\n",
    "The definition that we have presented seems a bit too theoretical. So lets try to get an intuitive feel for what all of \n",
    "the above means. For example, we mentioned earlier that weight was a scalar. With weight, you really just need that single \n",
    "number to describe what your are measuring on the scale. If that is the case why do you need a vector?\n",
    "\n",
    "Well try and describe to someone a position of a building on the map.\n",
    "\n",
    "Question: How many numbers do you need to describe the location of building on a paper map\n",
    "\n",
    "Answer: Lay out a paper map. Try to find any street or building on it. You will find you will need two numbers on the map. \n",
    "The latitude and the longitude. So the position on the map can be written down as -\n",
    "\n",
    "Position on map = [latitude, longitude]\n",
    "\n",
    "this is a vector quantity! How? Well, the position has two components. Also, it is ordered, meaning we cannot swap the \n",
    "latitude and longitude values, if we do then we will get a completely different location.\n",
    "\n",
    "\n",
    "There are many quantities that can be considered as vectors- Position on a map, velocity of an object, airflow, force applied\n",
    "to a object.\n",
    "\n",
    "We will talk a little bit about position as a vector because it is the easiest way to highlight some of the ideas the basic \n",
    "ideas behind vectors\n",
    "\n",
    "Usually positions of objects are represented on a something called a cartesian grid. In python we can easily do this. \n",
    "We going to plot the position of point (x,y) on a grid.\"\"\""
   ]
  },
  {
   "cell_type": "code",
   "execution_count": 2,
   "metadata": {},
   "outputs": [
    {
     "data": {
      "text/html": [
       "\n",
       "\n",
       "\n",
       "\n",
       "\n",
       "\n",
       "  <div class=\"bk-root\" id=\"b8df8322-c66a-4896-bd92-956accad890f\" data-root-id=\"1002\"></div>\n"
      ]
     },
     "metadata": {},
     "output_type": "display_data"
    },
    {
     "data": {
      "application/javascript": [
       "(function(root) {\n",
       "  function embed_document(root) {\n",
       "    \n",
       "  var docs_json = {\"98336101-bdea-4a6d-bfd6-0690703d9020\":{\"roots\":{\"references\":[{\"attributes\":{\"below\":[{\"id\":\"1013\",\"type\":\"LinearAxis\"}],\"center\":[{\"id\":\"1017\",\"type\":\"Grid\"},{\"id\":\"1022\",\"type\":\"Grid\"},{\"id\":\"1040\",\"type\":\"Arrow\"}],\"left\":[{\"id\":\"1018\",\"type\":\"LinearAxis\"}],\"plot_height\":400,\"plot_width\":400,\"renderers\":[{\"id\":\"1045\",\"type\":\"GlyphRenderer\"}],\"title\":{\"id\":\"1003\",\"type\":\"Title\"},\"toolbar\":{\"id\":\"1030\",\"type\":\"Toolbar\"},\"x_range\":{\"id\":\"1005\",\"type\":\"Range1d\"},\"x_scale\":{\"id\":\"1009\",\"type\":\"LinearScale\"},\"y_range\":{\"id\":\"1007\",\"type\":\"Range1d\"},\"y_scale\":{\"id\":\"1011\",\"type\":\"LinearScale\"}},\"id\":\"1002\",\"subtype\":\"Figure\",\"type\":\"Plot\"},{\"attributes\":{\"data_source\":{\"id\":\"1038\",\"type\":\"ColumnDataSource\"},\"glyph\":{\"id\":\"1043\",\"type\":\"Scatter\"},\"hover_glyph\":null,\"muted_glyph\":null,\"nonselection_glyph\":{\"id\":\"1044\",\"type\":\"Scatter\"},\"selection_glyph\":null,\"view\":{\"id\":\"1046\",\"type\":\"CDSView\"}},\"id\":\"1045\",\"type\":\"GlyphRenderer\"},{\"attributes\":{\"callback\":null},\"id\":\"1028\",\"type\":\"TapTool\"},{\"attributes\":{\"fill_alpha\":{\"value\":0.1},\"fill_color\":{\"value\":\"#1f77b4\"},\"line_alpha\":{\"value\":0.1},\"line_color\":{\"value\":\"#1f77b4\"},\"size\":{\"units\":\"screen\",\"value\":12},\"x\":{\"field\":\"x\"},\"y\":{\"field\":\"y\"}},\"id\":\"1044\",\"type\":\"Scatter\"},{\"attributes\":{},\"id\":\"1056\",\"type\":\"Selection\"},{\"attributes\":{\"callback\":null,\"data\":{\"color\":[\"red\"],\"x\":[4],\"y\":[5]},\"selected\":{\"id\":\"1056\",\"type\":\"Selection\"},\"selection_policy\":{\"id\":\"1055\",\"type\":\"UnionRenderers\"}},\"id\":\"1038\",\"type\":\"ColumnDataSource\"},{\"attributes\":{\"ticker\":{\"id\":\"1014\",\"type\":\"BasicTicker\"}},\"id\":\"1017\",\"type\":\"Grid\"},{\"attributes\":{\"callback\":null,\"end\":10},\"id\":\"1005\",\"type\":\"Range1d\"},{\"attributes\":{},\"id\":\"1029\",\"type\":\"WheelZoomTool\"},{\"attributes\":{\"empty_value\":\"black\",\"renderers\":[{\"id\":\"1045\",\"type\":\"GlyphRenderer\"}]},\"id\":\"1047\",\"type\":\"PointDrawTool\"},{\"attributes\":{\"text\":\"Red point is point P \"},\"id\":\"1003\",\"type\":\"Title\"},{\"attributes\":{},\"id\":\"1051\",\"type\":\"BasicTickFormatter\"},{\"attributes\":{\"source\":{\"id\":\"1038\",\"type\":\"ColumnDataSource\"}},\"id\":\"1046\",\"type\":\"CDSView\"},{\"attributes\":{},\"id\":\"1011\",\"type\":\"LinearScale\"},{\"attributes\":{},\"id\":\"1019\",\"type\":\"BasicTicker\"},{\"attributes\":{\"active_drag\":\"auto\",\"active_inspect\":\"auto\",\"active_multi\":null,\"active_scroll\":\"auto\",\"active_tap\":{\"id\":\"1047\",\"type\":\"PointDrawTool\"},\"tools\":[{\"id\":\"1023\",\"type\":\"BoxZoomTool\"},{\"id\":\"1024\",\"type\":\"PanTool\"},{\"id\":\"1025\",\"type\":\"SaveTool\"},{\"id\":\"1026\",\"type\":\"HoverTool\"},{\"id\":\"1027\",\"type\":\"ResetTool\"},{\"id\":\"1028\",\"type\":\"TapTool\"},{\"id\":\"1029\",\"type\":\"WheelZoomTool\"},{\"id\":\"1047\",\"type\":\"PointDrawTool\"}]},\"id\":\"1030\",\"type\":\"Toolbar\"},{\"attributes\":{\"dimension\":1,\"ticker\":{\"id\":\"1019\",\"type\":\"BasicTicker\"}},\"id\":\"1022\",\"type\":\"Grid\"},{\"attributes\":{},\"id\":\"1014\",\"type\":\"BasicTicker\"},{\"attributes\":{\"axis_label\":\"y axis\",\"formatter\":{\"id\":\"1051\",\"type\":\"BasicTickFormatter\"},\"ticker\":{\"id\":\"1019\",\"type\":\"BasicTicker\"}},\"id\":\"1018\",\"type\":\"LinearAxis\"},{\"attributes\":{\"end\":{\"id\":\"1039\",\"type\":\"NormalHead\"},\"source\":{\"id\":\"1038\",\"type\":\"ColumnDataSource\"},\"start\":null,\"x_end\":{\"field\":\"x\"},\"x_start\":{\"value\":0},\"y_end\":{\"field\":\"y\"},\"y_start\":{\"value\":0}},\"id\":\"1040\",\"type\":\"Arrow\"},{\"attributes\":{},\"id\":\"1053\",\"type\":\"BasicTickFormatter\"},{\"attributes\":{},\"id\":\"1055\",\"type\":\"UnionRenderers\"},{\"attributes\":{\"bottom_units\":\"screen\",\"fill_alpha\":{\"value\":0.5},\"fill_color\":{\"value\":\"lightgrey\"},\"left_units\":\"screen\",\"level\":\"overlay\",\"line_alpha\":{\"value\":1.0},\"line_color\":{\"value\":\"black\"},\"line_dash\":[4,4],\"line_width\":{\"value\":2},\"render_mode\":\"css\",\"right_units\":\"screen\",\"top_units\":\"screen\"},\"id\":\"1057\",\"type\":\"BoxAnnotation\"},{\"attributes\":{},\"id\":\"1039\",\"type\":\"NormalHead\"},{\"attributes\":{},\"id\":\"1009\",\"type\":\"LinearScale\"},{\"attributes\":{\"callback\":null,\"end\":10},\"id\":\"1007\",\"type\":\"Range1d\"},{\"attributes\":{\"overlay\":{\"id\":\"1057\",\"type\":\"BoxAnnotation\"}},\"id\":\"1023\",\"type\":\"BoxZoomTool\"},{\"attributes\":{},\"id\":\"1024\",\"type\":\"PanTool\"},{\"attributes\":{},\"id\":\"1025\",\"type\":\"SaveTool\"},{\"attributes\":{\"fill_color\":{\"field\":\"color\"},\"line_color\":{\"field\":\"color\"},\"size\":{\"units\":\"screen\",\"value\":12},\"x\":{\"field\":\"x\"},\"y\":{\"field\":\"y\"}},\"id\":\"1043\",\"type\":\"Scatter\"},{\"attributes\":{\"axis_label\":\"x axis\",\"formatter\":{\"id\":\"1053\",\"type\":\"BasicTickFormatter\"},\"ticker\":{\"id\":\"1014\",\"type\":\"BasicTicker\"}},\"id\":\"1013\",\"type\":\"LinearAxis\"},{\"attributes\":{},\"id\":\"1027\",\"type\":\"ResetTool\"},{\"attributes\":{\"callback\":null,\"tooltips\":[[\"xvalue\",\"$x\"],[\"yvalue\",\"$y\"]]},\"id\":\"1026\",\"type\":\"HoverTool\"}],\"root_ids\":[\"1002\"]},\"title\":\"Bokeh Application\",\"version\":\"1.4.0\"}};\n",
       "  var render_items = [{\"docid\":\"98336101-bdea-4a6d-bfd6-0690703d9020\",\"roots\":{\"1002\":\"b8df8322-c66a-4896-bd92-956accad890f\"}}];\n",
       "  root.Bokeh.embed.embed_items_notebook(docs_json, render_items);\n",
       "\n",
       "  }\n",
       "  if (root.Bokeh !== undefined) {\n",
       "    embed_document(root);\n",
       "  } else {\n",
       "    var attempts = 0;\n",
       "    var timer = setInterval(function(root) {\n",
       "      if (root.Bokeh !== undefined) {\n",
       "        clearInterval(timer);\n",
       "        embed_document(root);\n",
       "      } else {\n",
       "        attempts++;\n",
       "        if (attempts > 100) {\n",
       "          clearInterval(timer);\n",
       "          console.log(\"Bokeh: ERROR: Unable to run BokehJS code because BokehJS library is missing\");\n",
       "        }\n",
       "      }\n",
       "    }, 10, root)\n",
       "  }\n",
       "})(window);"
      ],
      "application/vnd.bokehjs_exec.v0+json": ""
     },
     "metadata": {
      "application/vnd.bokehjs_exec.v0+json": {
       "id": "1002"
      }
     },
     "output_type": "display_data"
    }
   ],
   "source": [
    "# vector \n",
    "tools_to_show= 'box_zoom,pan,save,hover,reset,tap,wheel_zoom'        \n",
    "\n",
    "\n",
    "fig = pl.figure(x_range =[0,10],\n",
    "                    y_range =[0,10], \n",
    "                    plot_height =400, \n",
    "                    plot_width= 400, \n",
    "                   tools= tools_to_show,\n",
    "                   x_axis_label = \"x axis\",\n",
    "                    y_axis_label = \"y axis\", \n",
    "                   title  = \"Red point is point P \"\n",
    "                   )\n",
    "    \n",
    "    \n",
    "source = ColumnDataSource({\n",
    "    'x': [4], 'y': [5], 'color': ['red']\n",
    "})\n",
    "    \n",
    "fig.add_layout(Arrow(end=NormalHead(fill_color=\"black\"),\n",
    "                       x_start=0,\n",
    "                       y_start=0,\n",
    "                       x_end=\"x\",\n",
    "                       y_end=\"y\", \n",
    "                    source = source))\n",
    "renderer = fig.scatter(\"x\",\"y\",size = 12, color= \"color\", source  =source)\n",
    "# fig.text(x=source.data[\"x\"][0] , y=source.data[\"y\"][0]+0.2, text=[\"P\"])\n",
    "draw_tool = PointDrawTool(renderers=[renderer], empty_value='black')\n",
    "fig.add_tools(draw_tool)\n",
    "fig.toolbar.active_tap = draw_tool\n",
    "\n",
    "hover = fig.select(dict(type=HoverTool))\n",
    "hover.tooltips = [(\"xvalue\", \"$x\"), (\"yvalue\", \"$y\")]\n",
    "show(fig)"
   ]
  },
  {
   "cell_type": "code",
   "execution_count": null,
   "metadata": {},
   "outputs": [],
   "source": [
    "\"\"\" In the plot above we have a position of a point on the grid. For example, lets say that the point P is you on a football \n",
    "field \n",
    "and 1 unit on the grid is 1 meter. So to get to where you are, starting from the football field we are going to have to walk\n",
    "4 meter right and 5 meter up. We can say that your position which is a vector has direction which is given by the components \n",
    "4 units right and 5 units up.\n",
    "\n",
    "Magnitude of a vector\n",
    "Vectors have another proper called magnitude. The magnitude (also known as the absolute value) is the distance between two \n",
    "vectors. In simple terms magnitude the length of the black line in the plot.\n",
    "\n",
    "Magnitude of the vector is defined as -\n",
    "\n",
    "| 𝐀 | =  (𝑎12+𝑎22)⎯⎯⎯⎯⎯⎯⎯⎯⎯⎯⎯⎯⎯⎯⎯⎯⎯√ \n",
    "\n",
    "In python we can represent vectors as either lists or numpy arrays. To calculate magnitude easily, we will represent \n",
    "it as a numpy array.\"\"\""
   ]
  },
  {
   "cell_type": "code",
   "execution_count": 3,
   "metadata": {},
   "outputs": [
    {
     "name": "stdout",
     "output_type": "stream",
     "text": [
      "magnitude of point P is 9.0\n"
     ]
    }
   ],
   "source": [
    "# vector in numpy\n",
    "\n",
    "A =np.array([5,4])\n",
    "# magnitude of a vector using numpy linear algebra package\n",
    "magnitude = np.linalg.norm(A,1)\n",
    "print(\"magnitude of point P is {}\".format(magnitude))"
   ]
  },
  {
   "cell_type": "code",
   "execution_count": null,
   "metadata": {},
   "outputs": [],
   "source": [
    "The magnitude of point any P represents the distance between the point (0,0) which is called the origin and the point P."
   ]
  },
  {
   "cell_type": "markdown",
   "metadata": {},
   "source": [
    "### Unit vector\n"
   ]
  },
  {
   "cell_type": "code",
   "execution_count": null,
   "metadata": {},
   "outputs": [],
   "source": [
    "Unit vector\n",
    "When we talk about vectors there is also also a sense of direction that we can capture. Take point P for example, \n",
    "we calculated its magnitude but would two vectors  𝐏1  and  𝐏2  be the same if they have the same magnitude, not really \n",
    "because on the x-y grid you have them point in different directions. Take a look at the plot below"
   ]
  },
  {
   "cell_type": "code",
   "execution_count": 4,
   "metadata": {},
   "outputs": [
    {
     "data": {
      "text/html": [
       "\n",
       "\n",
       "\n",
       "\n",
       "\n",
       "\n",
       "  <div class=\"bk-root\" id=\"e976eb8d-411d-46f2-a5e7-cf207f74de7f\" data-root-id=\"1114\"></div>\n"
      ]
     },
     "metadata": {},
     "output_type": "display_data"
    },
    {
     "data": {
      "application/javascript": [
       "(function(root) {\n",
       "  function embed_document(root) {\n",
       "    \n",
       "  var docs_json = {\"50ce1139-16c4-425b-9017-6eb80b153772\":{\"roots\":{\"references\":[{\"attributes\":{\"below\":[{\"id\":\"1125\",\"type\":\"LinearAxis\"}],\"center\":[{\"id\":\"1129\",\"type\":\"Grid\"},{\"id\":\"1134\",\"type\":\"Grid\"},{\"id\":\"1157\",\"type\":\"Arrow\"}],\"left\":[{\"id\":\"1130\",\"type\":\"LinearAxis\"}],\"plot_height\":400,\"plot_width\":400,\"renderers\":[{\"id\":\"1154\",\"type\":\"GlyphRenderer\"}],\"title\":{\"id\":\"1115\",\"type\":\"Title\"},\"toolbar\":{\"id\":\"1142\",\"type\":\"Toolbar\"},\"x_range\":{\"id\":\"1117\",\"type\":\"Range1d\"},\"x_scale\":{\"id\":\"1121\",\"type\":\"LinearScale\"},\"y_range\":{\"id\":\"1119\",\"type\":\"Range1d\"},\"y_scale\":{\"id\":\"1123\",\"type\":\"LinearScale\"}},\"id\":\"1114\",\"subtype\":\"Figure\",\"type\":\"Plot\"},{\"attributes\":{\"fill_color\":{\"field\":\"color\"},\"line_color\":{\"field\":\"color\"},\"size\":{\"units\":\"screen\",\"value\":12},\"x\":{\"field\":\"x\"},\"y\":{\"field\":\"y\"}},\"id\":\"1152\",\"type\":\"Scatter\"},{\"attributes\":{\"data_source\":{\"id\":\"1150\",\"type\":\"ColumnDataSource\"},\"glyph\":{\"id\":\"1152\",\"type\":\"Scatter\"},\"hover_glyph\":null,\"muted_glyph\":null,\"nonselection_glyph\":{\"id\":\"1153\",\"type\":\"Scatter\"},\"selection_glyph\":null,\"view\":{\"id\":\"1155\",\"type\":\"CDSView\"}},\"id\":\"1154\",\"type\":\"GlyphRenderer\"},{\"attributes\":{},\"id\":\"1137\",\"type\":\"SaveTool\"},{\"attributes\":{},\"id\":\"1136\",\"type\":\"PanTool\"},{\"attributes\":{\"overlay\":{\"id\":\"1174\",\"type\":\"BoxAnnotation\"}},\"id\":\"1135\",\"type\":\"BoxZoomTool\"},{\"attributes\":{\"dimension\":1,\"ticker\":{\"id\":\"1131\",\"type\":\"BasicTicker\"}},\"id\":\"1134\",\"type\":\"Grid\"},{\"attributes\":{},\"id\":\"1156\",\"type\":\"NormalHead\"},{\"attributes\":{\"source\":{\"id\":\"1150\",\"type\":\"ColumnDataSource\"}},\"id\":\"1155\",\"type\":\"CDSView\"},{\"attributes\":{\"end\":{\"id\":\"1156\",\"type\":\"NormalHead\"},\"source\":{\"id\":\"1150\",\"type\":\"ColumnDataSource\"},\"start\":null,\"x_end\":{\"field\":\"x\"},\"x_start\":{\"value\":0},\"y_end\":{\"field\":\"y\"},\"y_start\":{\"value\":0}},\"id\":\"1157\",\"type\":\"Arrow\"},{\"attributes\":{},\"id\":\"1139\",\"type\":\"ResetTool\"},{\"attributes\":{},\"id\":\"1170\",\"type\":\"BasicTickFormatter\"},{\"attributes\":{\"bottom_units\":\"screen\",\"fill_alpha\":{\"value\":0.5},\"fill_color\":{\"value\":\"lightgrey\"},\"left_units\":\"screen\",\"level\":\"overlay\",\"line_alpha\":{\"value\":1.0},\"line_color\":{\"value\":\"black\"},\"line_dash\":[4,4],\"line_width\":{\"value\":2},\"render_mode\":\"css\",\"right_units\":\"screen\",\"top_units\":\"screen\"},\"id\":\"1174\",\"type\":\"BoxAnnotation\"},{\"attributes\":{},\"id\":\"1121\",\"type\":\"LinearScale\"},{\"attributes\":{\"callback\":null},\"id\":\"1140\",\"type\":\"TapTool\"},{\"attributes\":{\"text\":\"Two vectors with the same magnitude \"},\"id\":\"1115\",\"type\":\"Title\"},{\"attributes\":{},\"id\":\"1131\",\"type\":\"BasicTicker\"},{\"attributes\":{\"axis_label\":\"y axis\",\"formatter\":{\"id\":\"1168\",\"type\":\"BasicTickFormatter\"},\"ticker\":{\"id\":\"1131\",\"type\":\"BasicTicker\"}},\"id\":\"1130\",\"type\":\"LinearAxis\"},{\"attributes\":{},\"id\":\"1168\",\"type\":\"BasicTickFormatter\"},{\"attributes\":{},\"id\":\"1141\",\"type\":\"WheelZoomTool\"},{\"attributes\":{\"callback\":null},\"id\":\"1138\",\"type\":\"HoverTool\"},{\"attributes\":{},\"id\":\"1173\",\"type\":\"Selection\"},{\"attributes\":{\"callback\":null,\"end\":10},\"id\":\"1119\",\"type\":\"Range1d\"},{\"attributes\":{},\"id\":\"1172\",\"type\":\"UnionRenderers\"},{\"attributes\":{\"fill_alpha\":{\"value\":0.1},\"fill_color\":{\"value\":\"#1f77b4\"},\"line_alpha\":{\"value\":0.1},\"line_color\":{\"value\":\"#1f77b4\"},\"size\":{\"units\":\"screen\",\"value\":12},\"x\":{\"field\":\"x\"},\"y\":{\"field\":\"y\"}},\"id\":\"1153\",\"type\":\"Scatter\"},{\"attributes\":{\"axis_label\":\"x axis\",\"formatter\":{\"id\":\"1170\",\"type\":\"BasicTickFormatter\"},\"ticker\":{\"id\":\"1126\",\"type\":\"BasicTicker\"}},\"id\":\"1125\",\"type\":\"LinearAxis\"},{\"attributes\":{},\"id\":\"1126\",\"type\":\"BasicTicker\"},{\"attributes\":{\"callback\":null,\"end\":10},\"id\":\"1117\",\"type\":\"Range1d\"},{\"attributes\":{\"ticker\":{\"id\":\"1126\",\"type\":\"BasicTicker\"}},\"id\":\"1129\",\"type\":\"Grid\"},{\"attributes\":{\"active_drag\":\"auto\",\"active_inspect\":\"auto\",\"active_multi\":null,\"active_scroll\":\"auto\",\"active_tap\":\"auto\",\"tools\":[{\"id\":\"1135\",\"type\":\"BoxZoomTool\"},{\"id\":\"1136\",\"type\":\"PanTool\"},{\"id\":\"1137\",\"type\":\"SaveTool\"},{\"id\":\"1138\",\"type\":\"HoverTool\"},{\"id\":\"1139\",\"type\":\"ResetTool\"},{\"id\":\"1140\",\"type\":\"TapTool\"},{\"id\":\"1141\",\"type\":\"WheelZoomTool\"}]},\"id\":\"1142\",\"type\":\"Toolbar\"},{\"attributes\":{\"callback\":null,\"data\":{\"color\":[\"red\",\"green\"],\"x\":[4,5],\"y\":[5,4]},\"selected\":{\"id\":\"1173\",\"type\":\"Selection\"},\"selection_policy\":{\"id\":\"1172\",\"type\":\"UnionRenderers\"}},\"id\":\"1150\",\"type\":\"ColumnDataSource\"},{\"attributes\":{},\"id\":\"1123\",\"type\":\"LinearScale\"}],\"root_ids\":[\"1114\"]},\"title\":\"Bokeh Application\",\"version\":\"1.4.0\"}};\n",
       "  var render_items = [{\"docid\":\"50ce1139-16c4-425b-9017-6eb80b153772\",\"roots\":{\"1114\":\"e976eb8d-411d-46f2-a5e7-cf207f74de7f\"}}];\n",
       "  root.Bokeh.embed.embed_items_notebook(docs_json, render_items);\n",
       "\n",
       "  }\n",
       "  if (root.Bokeh !== undefined) {\n",
       "    embed_document(root);\n",
       "  } else {\n",
       "    var attempts = 0;\n",
       "    var timer = setInterval(function(root) {\n",
       "      if (root.Bokeh !== undefined) {\n",
       "        clearInterval(timer);\n",
       "        embed_document(root);\n",
       "      } else {\n",
       "        attempts++;\n",
       "        if (attempts > 100) {\n",
       "          clearInterval(timer);\n",
       "          console.log(\"Bokeh: ERROR: Unable to run BokehJS code because BokehJS library is missing\");\n",
       "        }\n",
       "      }\n",
       "    }, 10, root)\n",
       "  }\n",
       "})(window);"
      ],
      "application/vnd.bokehjs_exec.v0+json": ""
     },
     "metadata": {
      "application/vnd.bokehjs_exec.v0+json": {
       "id": "1114"
      }
     },
     "output_type": "display_data"
    }
   ],
   "source": [
    "# vector \n",
    "tools_to_show= 'box_zoom,pan,save,hover,reset,tap,wheel_zoom'        \n",
    "\n",
    "\n",
    "fig = pl.figure(x_range =[0,10],\n",
    "                    y_range =[0,10], \n",
    "                    plot_height =400, \n",
    "                    plot_width= 400, \n",
    "                   tools= tools_to_show,\n",
    "                   x_axis_label = \"x axis\",\n",
    "                    y_axis_label = \"y axis\", \n",
    "                   title  = \"Two vectors with the same magnitude \"\n",
    "                   )\n",
    "    \n",
    "    \n",
    "source = ColumnDataSource({\n",
    "    'x': [4, 5], 'y': [5, 4], 'color': ['red', 'green']\n",
    "})\n",
    "fig.scatter(\"x\",\"y\",size = 12, color= \"color\", source  =source)\n",
    "   \n",
    "fig.add_layout(Arrow(end=NormalHead(fill_color=\"black\"),\n",
    "                       x_start=0,\n",
    "                       y_start=0,\n",
    "                       x_end=\"x\",\n",
    "                       y_end=\"y\", \n",
    "                    source = source))\n",
    "\n",
    "show(fig)"
   ]
  },
  {
   "cell_type": "code",
   "execution_count": null,
   "metadata": {},
   "outputs": [],
   "source": [
    "''' This is why need to quantify a sense of direction for a vector. This is provided by the unit vector. The unit vector is a vector whose magnitude is always 1 but x and y components keeps changing on the basis of direction. So for example -\n",
    "\n",
    "𝑥̂ =[1,0]𝑦̂ =[0,1]\n",
    "the vector  𝑥̂   represents the unit vector in the x direction on a x-y grid. Similarly, the vector  𝑦̂   represents a unit vector in the y direction. Below is the plot of a unit vector and its components.'''"
   ]
  },
  {
   "cell_type": "code",
   "execution_count": 5,
   "metadata": {},
   "outputs": [
    {
     "data": {
      "application/vnd.jupyter.widget-view+json": {
       "model_id": "0837036d646345d9a089f0aa49faff14",
       "version_major": 2,
       "version_minor": 0
      },
      "text/plain": [
       "interactive(children=(FloatSlider(value=0.0, description='vec_1_ort', max=1.57, step=0.01), Output()), _dom_cl…"
      ]
     },
     "metadata": {},
     "output_type": "display_data"
    },
    {
     "data": {
      "text/plain": [
       "<function __main__.vec_plot(vec_1_ort)>"
      ]
     },
     "execution_count": 5,
     "metadata": {},
     "output_type": "execute_result"
    }
   ],
   "source": [
    "# vector \n",
    "tools_to_show= 'box_zoom,pan,save,hover,reset,tap,wheel_zoom'        \n",
    "\n",
    "\n",
    "# go by vector orientation \n",
    "\n",
    "def vec_plot(vec_1_ort):\n",
    "    vec_1 = [0,1]\n",
    " \n",
    "    vec_1_x = vec_1[0]*np.cos(vec_1_ort)  + vec_1[1]*np.sin(vec_1_ort) \n",
    "    vec_1_y = -vec_1[0]*np.sin(vec_1_ort) +vec_1[1]*np.cos(vec_1_ort)\n",
    "    \n",
    "    magnitude = np.linalg.norm([vec_1_x, vec_1_y])\n",
    "    \n",
    "    fig = pl.figure(x_range =[0,3],\n",
    "                    y_range =[0,3], \n",
    "                    plot_height =400, \n",
    "                    plot_width= 400, \n",
    "                   tools= tools_to_show,\n",
    "                   x_axis_label = \"x axis\",\n",
    "                    y_axis_label = \"y axis\"\n",
    "                   )\n",
    "    \n",
    "    \n",
    "    \n",
    "    fig.add_layout(Arrow(end=NormalHead(fill_color=\"black\"),\n",
    "                       x_start=0,\n",
    "                       y_start=0,\n",
    "                       x_end=vec_1_x,\n",
    "                       y_end=vec_1_y))\n",
    "    \n",
    "\n",
    "\n",
    "    \n",
    "    fig.circle(vec_1_x,vec_1_y,size = 12, color= \"red\")\n",
    "    fig.text(x= 1, y =2.5, text =[\"x_component \\n\" + \" \"+str(np.round(vec_1_x, 2))])\n",
    "    fig.text(x= 2.0, y =2.5, text =[\"y_component \\n\" + \" \" +str(np.round(vec_1_y, 2))])\n",
    "    fig.text(x = 1.5, y= 1.75, text = [ \"Magnitude \\n\" + \" \" +str(np.round(magnitude, 2))] )\n",
    "    hover = fig.select(dict(type=HoverTool))    \n",
    "    hover.tooltips = [(\"xvalue\", \"$x\"), (\"yvalue\", \"$y\")]\n",
    "    show(fig)\n",
    "    return \n",
    "\n",
    "interact(vec_plot, \n",
    "                   vec_1_ort = widgets.FloatSlider(value = 0, min= 0, max =1.57, step =0.01 )\n",
    "        \n",
    "                 \n",
    "        \n",
    "        )"
   ]
  },
  {
   "cell_type": "code",
   "execution_count": null,
   "metadata": {},
   "outputs": [],
   "source": [
    "''' This is why when we talk about defining a vector we talk about an object that has both magnitude, \n",
    "which represents the length of a vector and a direction, which tells us what direction the vector is point to. \n",
    "Hence, for us to say that two vectors are equal, they must have the same magnitude and direction as well.\n",
    "\n",
    "Vector arithmetic\n",
    "In order to talk about vector arithmetic. Lets take a simple example\n",
    "\n",
    "Suppose you are standing at point P =  [4,5] . Now suppose you have a friend who joins you on the football field and \n",
    "he is standing at the point Q. So to get to him someone will have to walk 2 units up and 8 units, right hence Q=(8,2). \n",
    "So how would you, who is at point P get to where your friend is?\n",
    "\n",
    "well that would be\n",
    "\n",
    "R = Q-P = [8, 2] - [4,5] = [8-4,2-5]= [4,-3]\n",
    "\n",
    "so to get to Q, you need to walk 4 right and 3 units down (hence the negative sign). Take a look at the plot below'''"
   ]
  },
  {
   "cell_type": "code",
   "execution_count": 6,
   "metadata": {},
   "outputs": [
    {
     "data": {
      "application/vnd.jupyter.widget-view+json": {
       "model_id": "3e869f86b85441cdba4a2d196095bb33",
       "version_major": 2,
       "version_minor": 0
      },
      "text/plain": [
       "interactive(children=(FloatSlider(value=4.0, description='x', max=9.0, min=1.0, step=0.01), FloatSlider(value=…"
      ]
     },
     "metadata": {},
     "output_type": "display_data"
    },
    {
     "data": {
      "text/plain": [
       "<function __main__.vec_plot(x, y)>"
      ]
     },
     "execution_count": 6,
     "metadata": {},
     "output_type": "execute_result"
    }
   ],
   "source": [
    "# vector \n",
    "tools_to_show= 'box_zoom,pan,save,hover,reset,tap,wheel_zoom'        \n",
    "\n",
    "def vec_plot(x,y):\n",
    "    fig = pl.figure(x_range =[0,10],\n",
    "                    y_range =[0,10], \n",
    "                    plot_height =400, \n",
    "                    plot_width= 400, \n",
    "                   tools= tools_to_show,\n",
    "                   x_axis_label = \"x axis\",\n",
    "                    y_axis_label = \"y axis\"\n",
    "                   )\n",
    "    \n",
    "    \n",
    "    \n",
    "    fig.add_layout(Arrow(end=NormalHead(fill_color=\"black\"),\n",
    "                       x_start=0,\n",
    "                       y_start=0,\n",
    "                       x_end=x,\n",
    "                       y_end=y))\n",
    "    \n",
    "    fig.add_layout(Arrow(end=NormalHead(fill_color=\"black\"),\n",
    "                       x_start=0,\n",
    "                       y_start=0,\n",
    "                       x_end=8,\n",
    "                       y_end=2))\n",
    "    fig.add_layout(Arrow(end=NormalHead(fill_color=\"black\"),\n",
    "                       x_start=x,\n",
    "                       y_start=y,\n",
    "                       x_end=8,\n",
    "                       y_end=2))\n",
    "    \n",
    "\n",
    "    p = np.array([x,y])\n",
    "    q = np.array([8,2])\n",
    "    \n",
    "    r_dist =  np.linalg.norm(p-q)\n",
    "    fig.circle(x,y,size = 12, color= \"red\")\n",
    "    fig.circle(x = 8,y = 2,size = 12, color= \"green\")\n",
    "    \n",
    "    fig.text(x=x, y=y+0.2, text=[\"P\"])\n",
    "    fig.text(x=8, y=2+0.2, text=[\"Q\"])\n",
    "    fig.text(x=(8-x)/2+ x, y=-(2-y)/2+(y/2), text=[\"R\"])\n",
    "    \n",
    "    hover = fig.select(dict(type=HoverTool))    \n",
    "    hover.tooltips = [(\"xvalue\", \"$x\"), (\"yvalue\", \"$y\")]\n",
    "    show(fig)\n",
    "    print(\"distance between points Q and P is {} units\".format(np.round(np.linalg.norm(p-q),2)))\n",
    "    return \n",
    "\n",
    "interact(vec_plot, \n",
    "                   x = widgets.FloatSlider(value = 4, min= 1, max =9, step =0.01 ),\n",
    "        \n",
    "                     y = widgets.FloatSlider(value = 5, min= 1, max =9, step =0.01 ), \n",
    "        \n",
    "        )"
   ]
  },
  {
   "cell_type": "code",
   "execution_count": null,
   "metadata": {},
   "outputs": [],
   "source": [
    "Now that we have a general idea of what a vector is lets talk about the two configuration of vectors- Row vectors \n",
    "and column vectors.\n",
    "\n",
    "A row vector is written as A =  [𝑎,𝑏]  and a column vector is written as B =  [𝑐𝑑] . Example of row vectors would be \n",
    "A =  [2,4,52] , B =  [7,1,5] . The corresponding column vectors would be.\n",
    "\n",
    "A =  2452 \n",
    "B =  715 \n",
    "We can convert a row vector to a column vector using the transpose operation. The transpose operation is more generally\n",
    "defined for a matrix but in case of a vector it lets us write a row vector as a column vector. Take for example, \n",
    "the row vector A =  [2,4,52] , the corresponding column vector would be\n",
    "\n",
    "A 𝑇  =  2452 \n",
    "We can also write this as  [2,4,52]𝑇 \n",
    "All of this will be relevant especially when we start talking about vector multiplication\n",
    "\n",
    "From the previous plot, in acquiring R what we have shown is that we can subtract vectors. There are other operations\n",
    "that we can do with vectors as well-\n",
    "\n",
    "𝐀𝐝𝐝𝐢𝐭𝐢𝐨𝐧 𝐨𝐟 𝐕𝐞𝐜𝐭𝐨𝐫𝐬− \n",
    "\n",
    "𝐀+𝐁=[𝑎1+𝑏1,𝑎2+𝑏2] \n",
    "\n",
    " 𝐒𝐮𝐛𝐭𝐫𝐚𝐜𝐭𝐢𝐨𝐧 𝐨𝐟 𝐕𝐞𝐜𝐭𝐨𝐫𝐬− \n",
    "\n",
    "𝐀−𝐁=[𝑎1−𝑏1,𝑎2−𝑏2] \n",
    "\n",
    "For both addition and subtraction, you can add or subtract only row vectors to row vectors and column vectors to column vectors.\n",
    "\n",
    "In the next notebook we will spend some time talking about vector multiplication."
   ]
  },
  {
   "cell_type": "code",
   "execution_count": null,
   "metadata": {},
   "outputs": [],
   "source": [
    "3x-9y = -42\n",
    "2x +4y = 2"
   ]
  },
  {
   "cell_type": "code",
   "execution_count": 8,
   "metadata": {},
   "outputs": [
    {
     "name": "stdout",
     "output_type": "stream",
     "text": [
      "[[ 3 -9]\n",
      " [ 2  4]]\n"
     ]
    }
   ],
   "source": [
    "A = np.array([[3,-9],[2,4]])\n",
    "print(A)"
   ]
  },
  {
   "cell_type": "code",
   "execution_count": 11,
   "metadata": {},
   "outputs": [],
   "source": [
    "B = np.array([-42,2])\n"
   ]
  },
  {
   "cell_type": "code",
   "execution_count": 12,
   "metadata": {},
   "outputs": [
    {
     "name": "stdout",
     "output_type": "stream",
     "text": [
      "[-5.  3.]\n"
     ]
    }
   ],
   "source": [
    "z = np.linalg.solve(A,B)\n",
    "print(z)"
   ]
  },
  {
   "cell_type": "code",
   "execution_count": null,
   "metadata": {},
   "outputs": [],
   "source": [
    "x-2y-z = 6\n",
    "2x+2y = z+1\n",
    "2z-1 = y+x"
   ]
  },
  {
   "cell_type": "code",
   "execution_count": 13,
   "metadata": {},
   "outputs": [
    {
     "name": "stdout",
     "output_type": "stream",
     "text": [
      "[ 3. -2.  1.]\n"
     ]
    }
   ],
   "source": [
    "M = np.array([[1,-2,-1],[2,2,-1],[-1,-1,2]])\n",
    "N = np.array([6,1,1])\n",
    "\n",
    "z=np.linalg.solve(M,N)\n",
    "print(z)"
   ]
  },
  {
   "cell_type": "markdown",
   "metadata": {},
   "source": [
    "## Multiplying two vectors"
   ]
  },
  {
   "cell_type": "code",
   "execution_count": null,
   "metadata": {},
   "outputs": [],
   "source": [
    "Unlike adding vectors, multiplying vectors is a bit more different. There are three types of vector multiplications you can \n",
    "do-\n",
    "\n",
    "# Dot product (yields a scalar)\n",
    "# Cross product (yields a vector )\n",
    "# Vector direct product (yields a tensor)\n",
    "\n",
    "In this notebook, we are going to talk about how to do each one of them and discuss examples.\n",
    "\n",
    "Dot product\n",
    "In a dot product, the product of two vectors yields a scalar-\n",
    "\n",
    "[a1,a2]∙[b1b2]=(a1∗b1)+(a2∗b2) \n",
    "Question: So looking at the above equation, If you have two vectors  [1,2]  and  [3,4]T  what do you think will the dot \n",
    "    product ? Note  [3,4]T  is a column vector\n",
    "\n",
    "Answer: The dot product would be - [1,2]∙[34]=(1∗3)+(2∗4)=3+8=11"
   ]
  },
  {
   "cell_type": "markdown",
   "metadata": {},
   "source": [
    "### DOT PRODUCT"
   ]
  },
  {
   "cell_type": "code",
   "execution_count": null,
   "metadata": {},
   "outputs": [],
   "source": [
    "It is important to note that the order of operation here must be always the same. The row vector must be to the left and \n",
    "the column vector must be to the right.\n",
    "\n",
    "For dot product we write in general -\n",
    "\n",
    "a∙b=[a1,a2]∙[b1b2]=(a1∗b1)+(a2∗b2) \n",
    "We can do dot products in python as well. To do a dot product in python we can use numpy."
   ]
  },
  {
   "cell_type": "code",
   "execution_count": 14,
   "metadata": {},
   "outputs": [
    {
     "name": "stdout",
     "output_type": "stream",
     "text": [
      "dot product value for is 11 \n",
      "We swap the vectors fromt their positions, then the dot product is 11\n"
     ]
    }
   ],
   "source": [
    "dot_product = np.dot([1,2], [3,4])\n",
    "print(\"dot product value for is {} \" .format(dot_product))\n",
    "\n",
    "reverse_dot_product = np.dot([3,4], [1,2])\n",
    "print(\"We swap the vectors fromt their positions, then the dot product is {}\" .format(reverse_dot_product))\n"
   ]
  },
  {
   "cell_type": "code",
   "execution_count": null,
   "metadata": {},
   "outputs": [],
   "source": [
    "In the above code block we showed that -\n",
    "\n",
    "𝐚   ∙   𝐛  =  𝐛   ∙   𝐚 \n",
    "this is the property of being commutative. We can swap the position of both vectors  𝐚  and  𝐛  and still get the same result.\n",
    "\n",
    "The dot product also has a geometric definition. which is given by -\n",
    "\n",
    "𝐚∙𝐛=|𝐚||𝐛|cos𝜃\n",
    " \n",
    "where  |𝐚|  is the absolute value of the vector.\n",
    "\n",
    "In the below figure you can see how the value of the dot product changes as you vary the vectors\n",
    "\n",
    "The angle  𝜃  is the angle between the vectors.\n",
    "\n"
   ]
  },
  {
   "cell_type": "code",
   "execution_count": 15,
   "metadata": {},
   "outputs": [
    {
     "data": {
      "application/vnd.jupyter.widget-view+json": {
       "model_id": "3815af59332846e68b43c49e19bea694",
       "version_major": 2,
       "version_minor": 0
      },
      "text/plain": [
       "interactive(children=(FloatSlider(value=0.0, description='vec_1_ort', max=1.57, step=0.01), FloatSlider(value=…"
      ]
     },
     "metadata": {},
     "output_type": "display_data"
    },
    {
     "data": {
      "text/plain": [
       "<function __main__.vec_plot(vec_1_ort, vec_2_ort)>"
      ]
     },
     "execution_count": 15,
     "metadata": {},
     "output_type": "execute_result"
    }
   ],
   "source": [
    "# vector \n",
    "tools_to_show= 'box_zoom,pan,save,hover,reset,tap,wheel_zoom'        \n",
    "\n",
    "\n",
    "# go by vector orientation \n",
    "\n",
    "def vec_plot(vec_1_ort,vec_2_ort):\n",
    "    vec_1 = [0,6]\n",
    "    vec_2 =[8,0]\n",
    "\n",
    "    vec_2_ort = - vec_2_ort\n",
    "    vec_1_x = vec_1[0]*np.cos(vec_1_ort)  + vec_1[1]*np.sin(vec_1_ort) \n",
    "    vec_1_y = -vec_1[0]*np.sin(vec_1_ort) +vec_1[1]*np.cos(vec_1_ort)\n",
    "    \n",
    "    \n",
    "    vec_2_x = vec_2[0]*np.cos(vec_2_ort)  + vec_2[1]*np.sin(vec_2_ort) \n",
    "    vec_2_y = -vec_2[0]*np.sin(vec_2_ort) +vec_2[1]*np.cos(vec_2_ort)\n",
    "    \n",
    "    denom = (np.linalg.norm([vec_1_x, vec_1_y]) *np.linalg.norm([vec_2_x, vec_2_y]))\n",
    "    numer = np.dot([vec_1_x,vec_1_y ],[vec_2_x,vec_2_y ] )\n",
    "    angle_between  = np.rad2deg( np.arccos(numer/ denom))\n",
    "    dot_product_value = numer\n",
    "    \n",
    "    \n",
    "    fig = pl.figure(x_range =[0,10],\n",
    "                    y_range =[0,10], \n",
    "                    plot_height =400, \n",
    "                    plot_width= 400, \n",
    "                   tools= tools_to_show,\n",
    "                   x_axis_label = \"x axis\",\n",
    "                    y_axis_label = \"y axis\"\n",
    "                   )\n",
    "    \n",
    "    \n",
    "    \n",
    "    fig.add_layout(Arrow(end=NormalHead(fill_color=\"black\"),\n",
    "                       x_start=0,\n",
    "                       y_start=0,\n",
    "                       x_end=vec_1_x,\n",
    "                       y_end=vec_1_y))\n",
    "    \n",
    "    fig.add_layout(Arrow(end=NormalHead(fill_color=\"black\"),\n",
    "                       x_start=0,\n",
    "                       y_start=0,\n",
    "                       x_end=vec_2_x,\n",
    "                       y_end=vec_2_y))\n",
    "    \n",
    "\n",
    "    \n",
    "    fig.circle(vec_1_x,vec_1_y,size = 12, color= \"red\")\n",
    "    fig.circle(vec_2_x,vec_2_y,size = 12, color= \"green\")\n",
    "    \n",
    "    fig.text(x=6.0, y=8.0, text=[\"Angle between  \\n =  \" + str(np.round(angle_between,2)) ])\n",
    "    fig.text(x=2.0, y=8.0, text=[\"Dot product \\n value =\" + str(np.round(dot_product_value,2))])\n",
    "#     fig.text(x=(8-x)/2+ x, y=-(2-y)/2+(y/2), text=[\"R\"])\n",
    "    \n",
    "    hover = fig.select(dict(type=HoverTool))    \n",
    "    hover.tooltips = [(\"xvalue\", \"$x\"), (\"yvalue\", \"$y\")]\n",
    "    show(fig)\n",
    "    return \n",
    "\n",
    "interact(vec_plot, \n",
    "                   vec_1_ort = widgets.FloatSlider(value = 0, min= 0, max =1.57, step =0.01 ),\n",
    "        \n",
    "                     vec_2_ort = widgets.FloatSlider(value = 0, min= 0, max =1.57, step =0.01 ), \n",
    "        \n",
    "        )"
   ]
  },
  {
   "cell_type": "code",
   "execution_count": null,
   "metadata": {},
   "outputs": [],
   "source": [
    "As you can see when the angle between the vectors is 0 then the dot product a maximum, if the angle between the vector is 90 i.e they are perpendicular of the dot product is 0.\n",
    "\n",
    "The dot product yields a scalar value next we are going to see a product that yields a vector value.\n",
    "\n",
    "Next we have the cross product-"
   ]
  },
  {
   "cell_type": "markdown",
   "metadata": {},
   "source": [
    "### CROSS PRODUCT"
   ]
  },
  {
   "cell_type": "code",
   "execution_count": null,
   "metadata": {},
   "outputs": [],
   "source": [
    "Unlike the dot product, the cross product yields us a vector product. Meaning the product of two vectors is a vector, we are not going into details of how it is calculated. Usually, we work with vectors in 3 or more dimensions for the cross product. The general definition of the cross product is given below where the vectors  𝐚  and  𝐛  have 3 components.\n",
    "\n",
    "𝐚×𝐛=(𝑎1𝑥̂ +𝑎2𝑦̂ +𝑎3𝑧̂ )×(𝑏1𝑥̂ +𝑏2𝑦̂ +𝑏3𝑧̂ )\n",
    "=𝑎1𝑏1(𝑥̂ ×𝑥̂ )+𝑎1𝑏2(𝑥̂ ×𝑦̂ )+𝑎1𝑏3(𝑥̂ ×𝑧̂ )\n",
    "+𝑎2𝑏1(𝑦̂ ×𝑥̂ )+𝑎2𝑏2(𝑦̂ ×𝑦̂ )+𝑎2𝑏3(𝑦̂ ×𝑧̂ )\n",
    "+𝑎3𝑏1(𝑧̂ ×𝑥̂ )+𝑎3𝑏2(𝑧̂ ×𝑦̂ )+𝑎3𝑏3(𝑧̂ ×𝑧̂ )\n",
    "\n",
    "where\n",
    "𝑥̂ ×𝑦̂ =𝑧̂ 𝑥̂ ×𝑧̂ =𝑦̂ 𝑦̂ ×𝑧̂ =𝑥̂ \n",
    "the above follows from commutivity rules and the anti commutivity rules are -\n",
    "\n",
    "𝑦̂ ×𝑥̂ =−𝑧̂ 𝑧̂ ×𝑦̂ =−𝑦̂ 𝑧̂ ×𝑦̂ =−𝑥̂ \n",
    "the geometric interpretation of the cross product is given by the relationship\n",
    "\n",
    "𝐚×𝐛=|𝐚||𝐛|sin𝜃\n",
    " \n",
    "where  𝜃  is the angle between two vectors\n",
    "\n",
    "As you can see, calculating a cross product can get rather messy by hand. \n",
    "Thankfully python provides us a simple way of doing this. Which is using numpy."
   ]
  },
  {
   "cell_type": "code",
   "execution_count": 16,
   "metadata": {},
   "outputs": [
    {
     "name": "stdout",
     "output_type": "stream",
     "text": [
      "The new vector from the cross product will be vector_3  = [ 69   9 -33]\n"
     ]
    }
   ],
   "source": [
    "vector_1 = [2, 3, 5]\n",
    "vector_2 = [5,-9, 8]\n",
    "\n",
    "cross_product_value = np.cross(vector_1, vector_2)\n",
    "\n",
    "print(\"The new vector from the cross product will be vector_3  = {}\" .format(cross_product_value))\n",
    "\n",
    "\n"
   ]
  },
  {
   "cell_type": "markdown",
   "metadata": {},
   "source": [
    "## Introduction to Matrices¶\n"
   ]
  },
  {
   "cell_type": "markdown",
   "metadata": {},
   "source": [
    "### What is a Matrix?¶\n"
   ]
  },
  {
   "cell_type": "code",
   "execution_count": null,
   "metadata": {},
   "outputs": [],
   "source": [
    "A matrix is a set of numbers, symbols and expressions which are arranged in a rectangular fashion using rows and columns.\n",
    "\n",
    "Consider a matrix  A , which consists of 'm' rows and 'n' columns, at the intersection of each row and column, there would be an element of the matrix, which may be a number, symbol or expression. Therefore, in a matrix with 'm' rows and 'n' columns, there would be 'm*n' elements. The dimensions of the matrix would be m x n (Read as: m cross n), i.e. 'm' rows and 'n' columns.\n",
    "\n",
    "A matrix is generally denoted by a rectangular array of numbers enclosed within square brackets.\n",
    "\n",
    "A=⎡⎣⎢147258369⎤⎦⎥ \n",
    "A  here is a 3 X 3 matrix and it has 9 elements (also widely referred to as 'entries').\n",
    "\n",
    "Also, entries in a matrix can be more than just numbers - like symbols and expressions.\n",
    "\n",
    "B=⎡⎣⎢αγλβδπ⎤⎦⎥ \n",
    "or\n",
    "\n",
    "C=[3x+4y+1−2x+3y32x2−6y25x2−23y+18]"
   ]
  },
  {
   "cell_type": "markdown",
   "metadata": {},
   "source": [
    "### Types of Matrices - 1"
   ]
  },
  {
   "cell_type": "code",
   "execution_count": null,
   "metadata": {},
   "outputs": [],
   "source": [
    "|Depending mostly upon the nature and positioning of entries, various types of matrices are possible. We will discuss and define a few common and important types of matrices here. Below described matrices are some of the basic types of matrices. We will look at slightly more advanced matrix types in a later section, after learning about matrix operations. For a larger list of various types of matrices refer to (Link: https://en.wikipedia.org/wiki/List_of_matrices)\n",
    "\n",
    "# Row Matrix\n",
    "A matrix which consists of one and only one row (there can be any number of columns) is called a 'row matrix'.\n",
    "\n",
    "For e.g.\n",
    "\n",
    "A=[123]\n",
    "or\n",
    "B=[αβγδ]\n",
    "\n",
    "# Column Matrix\n",
    "A matrix which consists of entries arranged in one and only one column, is called a 'column matrix'.\n",
    "\n",
    "For e.g.\n",
    "\n",
    "A=⎡⎣⎢⎢⎢abcd⎤⎦⎥⎥⎥\n",
    "or\n",
    "B=⎡⎣⎢122436⎤⎦⎥\n",
    "\n",
    "# Square Matrix\n",
    "By definition, matrix is a rectangular array of entries. A square is nothing but a special rectangle where its length equals its breadth. Similarly, a square matrix is one where it has equal number of rows and columns.\n",
    "\n",
    "For e.g.\n",
    "\n",
    "A=[1324]\n",
    "\n",
    "here A is a 2 X 2 square matrix. i.e. 2 rows and 2 columns\n",
    "\n",
    "or\n",
    "\n",
    "B=⎡⎣⎢αδλβϕπγωμ⎤⎦⎥\n",
    "\n",
    "B is a 3 X 3 square matrix.\n",
    "\n",
    "Note: A square matrix with n x n dimensions will have n2 elements.\n",
    "\n",
    "Before we discuss further about other types of matrices, we would like to introduce the concept of diagonal elements in a square matrix.\n",
    "\n",
    "Entries/Elements in a matrix: As we know, by definition the number of columns is equal to the number of columns. Say i is a variable representing the number of row and j be representing the number of column, then the element xij is nothing but the element present in the intersection of the ith row and jth column. For example:\n",
    "\n",
    "Let A be a 3 x 3 matrix with the following entries\n",
    "\n",
    "A=⎡⎣⎢147258369⎤⎦⎥\n",
    "If a is the symbol of an entry in matrix A then, a31 by convention is the element in the 3rd row and 1st column. The row and column numbers may also be separated by a comma or space.\n",
    "\n",
    "In the above example,\n",
    "a31=7\n",
    "a12=2\n",
    "a22=5 and so on."
   ]
  },
  {
   "cell_type": "markdown",
   "metadata": {},
   "source": [
    "#### Diagonals of a matrix¶\n"
   ]
  },
  {
   "cell_type": "code",
   "execution_count": null,
   "metadata": {},
   "outputs": [],
   "source": [
    "Within a square matrix of dimensions n x n, the elements which can be denoted by  aij  where  i  is equal to  j  are called \n",
    "diagonal elements and they together constitute the diagonal of the square matrix. So all elements of the form  aii  where  \n",
    "i  belongs to [1,2,3...n] consitute the diagonal of the matrix.\n",
    "\n",
    "In the above example the diagonal of matrix  A  constitutes the elements { a11,a22,a33 }, i.e., {1,5,9} are the diagonal \n",
    "elements in the above example. This diagonal is called the primary diagonal or leading diagonal of the matrix. There is \n",
    "also a trailing diagonal or antidiagonal of a square matrix. The below image shows the leading and trailing diagonals in a\n",
    "3x3 square matrix.\n",
    "\n",
    "\n",
    "Diagonal Matrix\n",
    "The diagonal matrix is a square matrix in which the diagonal elements have some quantitative value and all other elements \n",
    "are zeroes.\n",
    "\n",
    "For e.g.\n",
    "\n",
    "D=⎡⎣⎢300060009⎤⎦⎥ \n",
    "\n",
    "D  is a 3 X 3 diagonal matrix.\n",
    "\n",
    "There are further two important types of Diagonal Matrices:\n",
    "\n",
    "Unit Matrix or Identity Matrix\n",
    "This is a diagonal matrix where all the elements of the diagonal are 1.\n",
    "\n",
    "For e.g.\n",
    "\n",
    "I=⎡⎣⎢100010001⎤⎦⎥ \n",
    "\n",
    "I  is a 3 X 3 unit matrix.\n",
    "\n",
    "The unit matrix is also called as 'Identity Matrix'. This is because in matrix multiplication (which we will study in \n",
    "the next section) any matrix  S  of dimensions m x n when multiplied by a unit matrix of dimensions n x n, results in itself. \n",
    "That is, if  S  is the matrix in question and  I  is a compatible unit matrix, then -\n",
    "\n",
    "S∗I=S \n",
    "Scalar Matrix\n",
    "This is a diagonal matrix where all the elements of the diagonal are of the same value. It is called a scalar matrix \n",
    "because it can be written as the product of a scalar and an identity matrix.\n",
    "\n",
    "For e.g.\n",
    "\n",
    "S=[700\n",
    "    070\n",
    "    007] \n",
    "\n",
    "S  is a 3 X 3 scalar matrix.\n",
    "\n",
    "Zero or Null Matrix\n",
    "A matrix where all entries are zeroes is called a zero matrix or a null matrix.\n",
    "\n",
    "For e.g.\n",
    "\n",
    "Z1=[000\n",
    "    000] \n",
    "\n",
    "Z2=[00\n",
    "    00] \n",
    "\n",
    "Z3=⎡⎣⎢000\n",
    "     000\n",
    "     000⎤⎦⎥ \n",
    "\n",
    "Z1,Z2,Z3  are all zero matrices."
   ]
  },
  {
   "cell_type": "markdown",
   "metadata": {},
   "source": [
    "## Implementation of Matrices in Python¶\n"
   ]
  },
  {
   "cell_type": "code",
   "execution_count": null,
   "metadata": {},
   "outputs": [],
   "source": [
    "# There are two ways of creating matrices in Python.\n",
    "\n",
    "# 1. Declare a list of lists. The number of levels of nesting and the length of each nested list determine the dimensions \n",
    "# of the matrix.\n",
    "# 2. Initialize a numpy nd-array (n-dimensional array).\n",
    "# For e.g.,\n",
    "\n",
    "# List of lists implementation\n",
    "a = [[1,2,3],\n",
    "     [4,5,6],\n",
    "     [7,8,9]]\n",
    "\n",
    "# Nd-array implementation\n",
    "import numpy as np\n",
    "\n",
    "a = np.array([[1,2,3],[4,5,6],[7,8,9]])"
   ]
  },
  {
   "cell_type": "code",
   "execution_count": null,
   "metadata": {},
   "outputs": [],
   "source": [
    "here are also some dedicated functions in numpy to create Null matrices, Identity matrices and matrices where all entries are \n",
    "1s.\n",
    "\n",
    "For e.g.,\n",
    "\n",
    "import numpy as np\n",
    "\n",
    "# A 3x3 Null matrix\n",
    "z = np.zeros((3,3))\n",
    "z\n",
    "\n",
    "# Output\n",
    ">>> array([[0., 0., 0.],\n",
    ">>>        [0., 0., 0.],\n",
    ">>>        [0., 0., 0.]])\n",
    "\n",
    "# A 3x3 Identity matrix\n",
    "i = np.eye(3)\n",
    "i\n",
    "\n",
    "# Output\n",
    ">>> array([[1., 0., 0.],\n",
    ">>>        [0., 1., 0.],\n",
    ">>>        [0., 0., 1.]])\n",
    "\n",
    "# A 3x3 matrix with all entries as 1s\n",
    "a = np.ones((3,3))\n",
    "a\n",
    "\n",
    "# Output\n",
    ">>> array([[1., 1., 1.],\n",
    ">>>        [1., 1., 1.],\n",
    ">>>        [1., 1., 1.]])\n",
    "'''\n",
    "Question: From the above examples we can observe that 'zeros' and 'ones' function takes a tuple as an argument which specifies \n",
    "    the dimensions of the matrix to be created. However, 'eye' function takes only an integer as an argument. Do you know why?\n",
    "Answer: A Null matrix is not necessarily a square matrix and can have any dimensions as long as all entries are zeroes. Same \n",
    "    goes for the matrix which has 1s as entries, it can have any dimensions. However, an identity matrix is always a square \n",
    "    matrix hence one integer value 'n' is enough to create a nxn identity matrix.'''"
   ]
  },
  {
   "cell_type": "markdown",
   "metadata": {},
   "source": [
    "#### Exercise"
   ]
  },
  {
   "cell_type": "code",
   "execution_count": null,
   "metadata": {},
   "outputs": [],
   "source": [
    "\n",
    "# Initialize the following matrices\n",
    "\n",
    "# A matrix with entries of integers from 1 through 12, with the dimensions 3x4.\n",
    "# Define a scalar_mat() function which takes in 2 elements - 'n' which determines the nxn dimensions of the scalar matrix and \n",
    "# 'a' the entry which fills all positions in the primary diagonal. Use this function to create a 4x4 scalar matrix with diagonal \n",
    "# elements as 256.\n",
    "A 5x5 identity matrix."
   ]
  },
  {
   "cell_type": "code",
   "execution_count": 17,
   "metadata": {},
   "outputs": [
    {
     "data": {
      "text/plain": [
       "(array([[ 1,  2,  3,  4],\n",
       "        [ 5,  6,  7,  8],\n",
       "        [ 9, 10, 11, 12]]),\n",
       " array([[256.,   0.,   0.,   0.],\n",
       "        [  0., 256.,   0.,   0.],\n",
       "        [  0.,   0., 256.,   0.],\n",
       "        [  0.,   0.,   0., 256.]]),\n",
       " array([[1., 0., 0., 0., 0.],\n",
       "        [0., 1., 0., 0., 0.],\n",
       "        [0., 0., 1., 0., 0.],\n",
       "        [0., 0., 0., 1., 0.],\n",
       "        [0., 0., 0., 0., 1.]]))"
      ]
     },
     "execution_count": 17,
     "metadata": {},
     "output_type": "execute_result"
    }
   ],
   "source": [
    "import numpy as np\n",
    "\n",
    "a = np.reshape(np.arange(1,13),(3,4))\n",
    "\n",
    "def scalar_mat(n,a):\n",
    "    scalar_matrix = np.zeros((n,n))\n",
    "    for i in range(0,n):\n",
    "        scalar_matrix[i][i]=a\n",
    "    return scalar_matrix\n",
    "\n",
    "b = scalar_mat(4,256)\n",
    "\n",
    "c = np.eye(5)\n",
    "\n",
    "a,b,c"
   ]
  },
  {
   "cell_type": "markdown",
   "metadata": {},
   "source": [
    "## Basic Matrix Operations\n",
    "\n",
    "Before we learn further about various matrices and their properties, we need to learn basic matrix operations. We will learn about basic arithmetic operations of matrices such as addition, subtraction, multiplication etc. and then we will also learn about special operations specific to matrices.\n",
    "\n",
    "### Addition and Subtraction\n",
    "\n",
    "Addition can be performed between two scalars (which is the addition of two numbers), a scalar and a matrix or between two matrices.\n",
    "* Scalar addition: General addition of two numbers.\n",
    "```python\n",
    "a = 5\n",
    "b = 4\n",
    "c = a+b\n",
    "```\n",
    "* Scalar-Matrix addition: Addition of a scalar value to each value within the given Matrix\n",
    "<img src=\"../../../images/mat_scad.PNG\" style=\"width:60vw\">\n",
    "<br>\n",
    "* Matrix addition: Addition of two matrices. Two matrices can be added, only if they have the same dimensions. This is because matrix addition is nothing but a collection of scalar additions - each entry is added to the entry in the second matrix which is at the same position. i.e., If entries in matrix $A$ are denoted by $a_{ij}$ where $i$ is the row number and $j$ is the column number of the entry, denoting the position of the entry in the matrix, and if in matrix $B$ entries are denoted by $b_{ij}$ then for a given combination of $i$ and $j$, $a_{ij}+b{ij}$ would be the entry in the resulting additive matrix at position $i,j$. Same rules hold true for subtraction. For these operations, matrices can be treated as variables and '+' and '-' operators can be used to perform addition and subtraction.\n",
    " \n",
    "<b>Addition</b>\n",
    "\n",
    "<img src=\"../../../images/mat_add.PNG\" style=\"width:60vw\">\n",
    "\n",
    "<br>\n",
    "\n",
    "<b>Subtraction</b>\n",
    "\n",
    "<img src=\"../../../images/mat_sub.PNG\" style=\"width:60vw\">\n",
    "<br>\n",
    "\n",
    "### Matrix Multiplication and Division(!)\n",
    "\n",
    "Two matrices can be multiplied with each other if the number of columns of the first matrix is equal to the number of rows of the second matrix. The product of two matrices will be another matrix with dimensions as -\n",
    "* number of rows equal to the number of rows of first matrix\n",
    "* number of columns equal to the number of columns of the second matrix\n",
    "\n",
    "Matrix-to-Matrix multiplication is not element to element operation like addition and subtraction seen above. An element in the product is derived by the sum of products of elements in rows of first matrix and columns of second matrix. It is for this reason that length of each row in first matrix (i.e. number of columns in first matrix) should be equal to the length of each column in second matrix (i.e. number of rows in second matrix).\n",
    "\n",
    "Scalar-Matrix Multiplication:\n",
    "<br>\n",
    "<img src=\"../../../images/matscal_mul.PNG\" style=\"width:70vw\">\n",
    "<br>\n",
    "\n",
    "Matrix-to-Matrix Multiplication\n",
    "<br>\n",
    "<img src=\"../../../images/matmul_2.PNG\" style=\"width:70vw\">\n",
    "<br>\n",
    "\n",
    "This operation can be acheived by using either the 'dot' (dot product) function or the 'matmul' function in numpy module. These functions generally take two arguments, i.e., the two matrices which should be multiplied.\n",
    "\n",
    "For example:\n",
    "```python\n",
    "import numpy as np\n",
    "\n",
    "a = np.array([[1,2],[3,4]])\n",
    "b = np.array([[1,2],[2,1]])\n",
    "\n",
    "print(np.matmul(a,b))\n",
    "\n",
    "# Output\n",
    ">>> [[ 5  4]\n",
    ">>>  [11 10]]\n",
    "\n",
    "```\n",
    "<br>\n",
    "<b>Note:</b> There is no such thing as <b>division operation</b> in matrices. However, a special operation called inverse of a matrix exists which we would learn about in the next notebook.\n",
    "\n",
    "#### Exercise\n",
    "\n",
    "Perform addition, subtraction and multiplication operations on the given matrices. Store the result in 3 variables - addition, subtraction and multiplication and print them out."
   ]
  },
  {
   "cell_type": "code",
   "execution_count": 19,
   "metadata": {},
   "outputs": [
    {
     "name": "stdout",
     "output_type": "stream",
     "text": [
      "[[2 3]\n",
      " [4 5]] \n",
      " [[0 1]\n",
      " [2 3]] \n",
      " [[3 3]\n",
      " [7 7]]\n"
     ]
    }
   ],
   "source": [
    "import numpy as np\n",
    "\n",
    "a = np.array([[1,2],[3,4]])\n",
    "b = np.array([[1,1],[1,1]])\n",
    "\n",
    "addition = a+b\n",
    "subtraction = a-b\n",
    "multiplication = np.matmul(a,b)\n",
    "\n",
    "print(addition,\"\\n\",subtraction,\"\\n\",multiplication)"
   ]
  },
  {
   "cell_type": "markdown",
   "metadata": {},
   "source": [
    "# More Matrix Operations and Special Matrices\n",
    "\n",
    "## Transpose, Determinant and Inverse of a Matrix¶\n",
    "\n",
    "### Transpose Operation"
   ]
  },
  {
   "cell_type": "code",
   "execution_count": null,
   "metadata": {},
   "outputs": [],
   "source": [
    "Transpose Operation\n",
    "A transpose operation on a matrix converts each row of entries into a column and in effect, the rows of original matrix \n",
    "become columns in the transposed matrix and columns of the original matrix become rows in the transposed matrix. i.e., \n",
    "If the dimensions or shape of the matrix is  (i,j)  then the transpose of this matrix will have a shape of  (j,i) .\n",
    "\n",
    "numpy.transpose() method can be used to find out the transpose of a matrix.\n"
   ]
  },
  {
   "cell_type": "code",
   "execution_count": 20,
   "metadata": {},
   "outputs": [
    {
     "name": "stdout",
     "output_type": "stream",
     "text": [
      "[[1 4 7]\n",
      " [2 5 8]\n",
      " [3 6 9]]\n"
     ]
    }
   ],
   "source": [
    "import numpy as np\n",
    "\n",
    "a = np.array([[1,2,3],[4,5,6],[7,8,9]])\n",
    "\n",
    "print(np.transpose(a))"
   ]
  },
  {
   "cell_type": "code",
   "execution_count": null,
   "metadata": {},
   "outputs": [],
   "source": [
    "''' Note: An interesting point to observe is that the transpose operation does not affect the position of the entries on \n",
    "the primary or leading diagonal of a square matrix.\n",
    "\n",
    "What about the anti-diagonal (trailing diagonal) entries of the square matrix? They are reversed in order, i.e., the top most \n",
    "entry becomes the bottom most entry and the bottom most entry becomes the top most.'''"
   ]
  },
  {
   "cell_type": "code",
   "execution_count": 21,
   "metadata": {},
   "outputs": [
    {
     "name": "stdout",
     "output_type": "stream",
     "text": [
      "[[ 8 43 11]\n",
      " [15  2 25]\n",
      " [30  9 62]]\n"
     ]
    }
   ],
   "source": [
    "import numpy as np\n",
    "\n",
    "A = np.array([[8,15,30],[43,2,9],[11,25,62]])\n",
    "\n",
    "print(np.transpose(A))"
   ]
  },
  {
   "cell_type": "code",
   "execution_count": null,
   "metadata": {},
   "outputs": [],
   "source": [
    "## Determinant of a Matrix\n",
    "The determinant of a matrix is a scalar value which holds a significant value in linear operations that can be performed on \n",
    "the matrix. It is a value that can be calculated only for square matrices.\n",
    "For a matrix  A , it is represented as det(A) or | A |.\n",
    "\n",
    "The determinant is calculated by a series of arithematic operations. The following figure shows calculation of determinant \n",
    "for various matrices.\n",
    "\n",
    "For a 2x2 matrix:\n",
    "    For a 4x4 matrix:\n",
    "Follow the same steps as defined above.\n",
    "\n",
    "Exclude row and column that ‘a’ belongs to and calculate determinant for remaining portion of the matrix\n",
    "Add the calculated part to the expression on the right hand side of the equation\n",
    "Repeat steps 1 and 2 for all remaining elements in first row\n",
    "After adding all terms to the right hand side, add alternating ‘–’ and ‘+’ operations to complete the calculation\n",
    "For matrices of higher dimensions, determinants are calculated by help of a calculator.\n",
    "\n",
    "In python, determinant of any matrix (or multi-dimensional array) can be calculated using the 'det' function in \n",
    "the 'linalg' sub-module of the numpy package."
   ]
  },
  {
   "cell_type": "code",
   "execution_count": 22,
   "metadata": {},
   "outputs": [
    {
     "name": "stdout",
     "output_type": "stream",
     "text": [
      "-2.0000000000000004\n"
     ]
    }
   ],
   "source": [
    "import numpy as np\n",
    "\n",
    "a = np.array([[1,2],[3,4]])\n",
    "\n",
    "print(np.linalg.det(a))"
   ]
  },
  {
   "cell_type": "code",
   "execution_count": 23,
   "metadata": {},
   "outputs": [
    {
     "name": "stdout",
     "output_type": "stream",
     "text": [
      "-7722.999999999992\n"
     ]
    }
   ],
   "source": [
    "import numpy as np\n",
    "\n",
    "A = np.array([[8,15,30],[43,2,9],[11,25,62]])\n",
    "\n",
    "print(np.linalg.det(A))"
   ]
  },
  {
   "cell_type": "markdown",
   "metadata": {},
   "source": [
    "## Inverse of a Matrix\n",
    "For scalar values, we have the concept of 'reciprocal'. If a number is multiplied by its reciprocal the result is '1'. Similarly, there is a matrix called 'Identity matrix' (which we have studied in last notebook) among matrices.\n",
    "\n",
    "The Inverse of a matrix is similar to 'reciprocal' of a matrix, i.e., when you multiply a matrix and its inverse, \n",
    "the resulting product would be an Identity matrix.\n",
    "\n",
    "Say, if  𝐴  is a square matrix of order n x n, and  𝐼  is a identity matrix of order n x n, then\n",
    "\n",
    "𝐴  *  𝐴−1  =  𝐼 \n",
    "\n",
    "### Note that Inverse concept among matrices is applicable only in the case of square matrices.\n",
    "\n",
    "Calculating inverse of a 2x2 matrix is easy, however, inverse calculation for 3x3 or higher dimensions is very complex. See below example for calculation of inverse for a 2x2 matrix.\n",
    "\n",
    "\n",
    "\n",
    "The Inverse of a matrix can be determined by using the 'inv' function of 'linalg' sub-module of numpy ( 𝑛𝑢𝑚𝑝𝑦.𝑙𝑖𝑛𝑎𝑙𝑔.𝑖𝑛𝑣() ). This function can be performed on a numpy array (matrix)."
   ]
  },
  {
   "cell_type": "code",
   "execution_count": 24,
   "metadata": {},
   "outputs": [
    {
     "name": "stdout",
     "output_type": "stream",
     "text": [
      "[[ 0.01307782  0.02330701 -0.00971125]\n",
      " [ 0.33238379 -0.02149424 -0.15771073]\n",
      " [-0.13634598  0.00453192  0.08144503]]\n"
     ]
    }
   ],
   "source": [
    "import numpy as np\n",
    "\n",
    "A = np.array([[8,15,30],[43,2,9],[11,25,62]])\n",
    "\n",
    "print(np.linalg.inv(A))"
   ]
  },
  {
   "cell_type": "markdown",
   "metadata": {},
   "source": [
    "## Comparing two matrices\n",
    "The 'equal to' operator, if used to compare the equality of two matrices, first checks whether the dimensions of both matrices are same or not. If they are, then the operator compares each entry of first matrix with corresponding entry in second matrix and returns a boolean matrix of the same dimensions as compared matrices. If we are expecting a single boolean answer for equality of two matrices, the best way to do that is by using the 'allclose' or 'array_equal' functions.\n",
    "\n",
    "### allclose and array_equal functions: \n",
    "numpy.array_equal() method can be used to test whether two arrays are equal to each other in terms of shape and elements. numpy.allclose() function performs the same operation but it has tolerance while matching elements, which enables it to compare floating point elements with varying accuracies/decimals.\n",
    "\n",
    "For example:"
   ]
  },
  {
   "cell_type": "code",
   "execution_count": 25,
   "metadata": {},
   "outputs": [
    {
     "name": "stdout",
     "output_type": "stream",
     "text": [
      "True\n"
     ]
    }
   ],
   "source": [
    "A = np.array([[8,15,30],[43,2,9],[11,25,62]])\n",
    "B = np.array([[8,15,30],[43,2,9],[11,25,62]])\n",
    "\n",
    "print(np.allclose(A,B))"
   ]
  },
  {
   "cell_type": "markdown",
   "metadata": {},
   "source": [
    "### Exercise\n",
    "Calculate the inverse of the below given matrix. Create an Identity matrix of dimensions equal to the below given square \n",
    "matrix and use the allclose() function to verify whether the product of the below given matrix and its inverse yeilds \n",
    "the identity matrix."
   ]
  },
  {
   "cell_type": "code",
   "execution_count": 26,
   "metadata": {},
   "outputs": [
    {
     "name": "stdout",
     "output_type": "stream",
     "text": [
      "True\n"
     ]
    }
   ],
   "source": [
    "import numpy as np\n",
    "\n",
    "A = np.array([[8,15,30],[43,2,9],[11,25,62]])\n",
    "A_inv = np.linalg.inv(A)\n",
    "\n",
    "I = np.eye(3)\n",
    "\n",
    "print(np.allclose(np.matmul(A,A_inv),I))"
   ]
  },
  {
   "cell_type": "markdown",
   "metadata": {},
   "source": [
    "## Special Matrices\n",
    "\n",
    "### Symmetric Matrix¶\n",
    "A matrix which is equal to its transpose is called a symmetric matrix. If  𝐴  is a matrix, then  𝐴  is a symmetric matrix if:\n",
    "\n",
    "𝐴𝑇=𝐴"
   ]
  },
  {
   "cell_type": "markdown",
   "metadata": {},
   "source": [
    "### Exercise\n",
    "Use the transpose function to calculate transposes of above given matrices -  𝐴  and  𝐵 . Use the allclose() function to verify if they are equal to their \n",
    "respective transpose matrix and verify if  𝐴  and  𝐵  are symmetric matrices."
   ]
  },
  {
   "cell_type": "code",
   "execution_count": 27,
   "metadata": {},
   "outputs": [
    {
     "name": "stdout",
     "output_type": "stream",
     "text": [
      "True True\n"
     ]
    }
   ],
   "source": [
    "import numpy as np\n",
    "\n",
    "A = np.array([[1,2,3],[2,2,2],[3,2,3]])\n",
    "B = np.array([[3,7,8],[7,1,4],[8,4,8]])\n",
    "\n",
    "A_trans = np.transpose(A)\n",
    "B_trans = np.transpose(B)\n",
    "\n",
    "print(np.allclose(A,A_trans), np.allclose(B,B_trans))"
   ]
  },
  {
   "cell_type": "markdown",
   "metadata": {},
   "source": [
    "## Skew-Symmetric Matrix\n",
    "A matrix is said to be skew-symmetric if its transpose is equal to the negation of the original matrix. i.e., If  𝐴  is a matrix, then  𝐴  is a skew-symmetric matrix if:\n",
    "\n",
    "𝐴𝑇=−𝐴 \n",
    "An example of symmetric matrix is\n",
    "\n",
    "𝐴=0−2−320−2320 \n",
    "Another example:\n",
    "\n",
    "𝐵=0−7−870−4840 \n",
    "Note: The entries in the primary diagonal of a skew-symmetric matrix are always zeros and the entries on the upper side of the primary diagonal are all positive while the entries on the lower side of the primary diagonal are all negative.\n",
    "\n",
    "### Exercise\n",
    "Use the transpose function to calculate transposes of above given matrices -  𝐴  and  𝐵 . Use the allclose() function to verify if the transposes of the matrices are equal to a negated version of their original matrix and verify if  𝐴  and  𝐵  are skew-symmetric matrices."
   ]
  },
  {
   "cell_type": "code",
   "execution_count": 28,
   "metadata": {},
   "outputs": [
    {
     "name": "stdout",
     "output_type": "stream",
     "text": [
      "True True\n"
     ]
    }
   ],
   "source": [
    "import numpy as np\n",
    "\n",
    "A = np.array([[0,2,3],[-2,0,2],[-3,-2,0]])\n",
    "B = np.array([[0,7,8],[-7,0,4],[-8,-4,0]])\n",
    "\n",
    "A_trans = np.transpose(A)\n",
    "B_trans = np.transpose(B)\n",
    "\n",
    "print(np.allclose(-A,A_trans), np.allclose(-B,B_trans))"
   ]
  },
  {
   "cell_type": "markdown",
   "metadata": {},
   "source": [
    "### Singular Matrix\n",
    "A singular matrix is one for which no inverse exists. This is possible when the determinant of the matrix is zero. Let us say  𝐴  is a matrix,  𝐴  is said to be singular if\n",
    "\n",
    "det( 𝐴 )=0\n",
    "\n",
    "thereby,\n",
    "\n",
    "𝐴−1  = undeterminable\n",
    "\n",
    "An example of singular matrix is:\n",
    "\n",
    "𝐴=[2222] \n",
    "another example:\n",
    "\n",
    "𝐵=[51048] \n",
    "A 3x3 singular matrix:\n",
    "\n",
    "𝐶=0−2−4200324 \n",
    "### Exercise\n",
    "Try to calculate determinants of above given matrices  𝐴,𝐵,𝑎𝑛𝑑𝐶  and verify if they are truly singular matrices or not.\n",
    "\n",
    "Also, try calculating the inverse of any of these matrices and observe the output."
   ]
  },
  {
   "cell_type": "code",
   "execution_count": 29,
   "metadata": {},
   "outputs": [
    {
     "name": "stdout",
     "output_type": "stream",
     "text": [
      "0.0 0.0 0.0\n"
     ]
    },
    {
     "ename": "LinAlgError",
     "evalue": "Singular matrix",
     "output_type": "error",
     "traceback": [
      "\u001b[1;31m---------------------------------------------------------------------------\u001b[0m",
      "\u001b[1;31mLinAlgError\u001b[0m                               Traceback (most recent call last)",
      "\u001b[1;32m<ipython-input-29-573eb3fae8c3>\u001b[0m in \u001b[0;36m<module>\u001b[1;34m\u001b[0m\n\u001b[0;32m      6\u001b[0m \u001b[1;33m\u001b[0m\u001b[0m\n\u001b[0;32m      7\u001b[0m \u001b[0mprint\u001b[0m\u001b[1;33m(\u001b[0m\u001b[0mnp\u001b[0m\u001b[1;33m.\u001b[0m\u001b[0mlinalg\u001b[0m\u001b[1;33m.\u001b[0m\u001b[0mdet\u001b[0m\u001b[1;33m(\u001b[0m\u001b[0mA\u001b[0m\u001b[1;33m)\u001b[0m\u001b[1;33m,\u001b[0m\u001b[0mnp\u001b[0m\u001b[1;33m.\u001b[0m\u001b[0mlinalg\u001b[0m\u001b[1;33m.\u001b[0m\u001b[0mdet\u001b[0m\u001b[1;33m(\u001b[0m\u001b[0mB\u001b[0m\u001b[1;33m)\u001b[0m\u001b[1;33m,\u001b[0m\u001b[0mnp\u001b[0m\u001b[1;33m.\u001b[0m\u001b[0mlinalg\u001b[0m\u001b[1;33m.\u001b[0m\u001b[0mdet\u001b[0m\u001b[1;33m(\u001b[0m\u001b[0mC\u001b[0m\u001b[1;33m)\u001b[0m\u001b[1;33m)\u001b[0m\u001b[1;33m\u001b[0m\u001b[1;33m\u001b[0m\u001b[0m\n\u001b[1;32m----> 8\u001b[1;33m \u001b[0mprint\u001b[0m\u001b[1;33m(\u001b[0m\u001b[0mnp\u001b[0m\u001b[1;33m.\u001b[0m\u001b[0mlinalg\u001b[0m\u001b[1;33m.\u001b[0m\u001b[0minv\u001b[0m\u001b[1;33m(\u001b[0m\u001b[0mA\u001b[0m\u001b[1;33m)\u001b[0m\u001b[1;33m)\u001b[0m\u001b[1;33m\u001b[0m\u001b[1;33m\u001b[0m\u001b[0m\n\u001b[0m",
      "\u001b[1;32m~\\anaconda3\\lib\\site-packages\\numpy\\linalg\\linalg.py\u001b[0m in \u001b[0;36minv\u001b[1;34m(a)\u001b[0m\n\u001b[0;32m    530\u001b[0m     \u001b[0msignature\u001b[0m \u001b[1;33m=\u001b[0m \u001b[1;34m'D->D'\u001b[0m \u001b[1;32mif\u001b[0m \u001b[0misComplexType\u001b[0m\u001b[1;33m(\u001b[0m\u001b[0mt\u001b[0m\u001b[1;33m)\u001b[0m \u001b[1;32melse\u001b[0m \u001b[1;34m'd->d'\u001b[0m\u001b[1;33m\u001b[0m\u001b[1;33m\u001b[0m\u001b[0m\n\u001b[0;32m    531\u001b[0m     \u001b[0mextobj\u001b[0m \u001b[1;33m=\u001b[0m \u001b[0mget_linalg_error_extobj\u001b[0m\u001b[1;33m(\u001b[0m\u001b[0m_raise_linalgerror_singular\u001b[0m\u001b[1;33m)\u001b[0m\u001b[1;33m\u001b[0m\u001b[1;33m\u001b[0m\u001b[0m\n\u001b[1;32m--> 532\u001b[1;33m     \u001b[0mainv\u001b[0m \u001b[1;33m=\u001b[0m \u001b[0m_umath_linalg\u001b[0m\u001b[1;33m.\u001b[0m\u001b[0minv\u001b[0m\u001b[1;33m(\u001b[0m\u001b[0ma\u001b[0m\u001b[1;33m,\u001b[0m \u001b[0msignature\u001b[0m\u001b[1;33m=\u001b[0m\u001b[0msignature\u001b[0m\u001b[1;33m,\u001b[0m \u001b[0mextobj\u001b[0m\u001b[1;33m=\u001b[0m\u001b[0mextobj\u001b[0m\u001b[1;33m)\u001b[0m\u001b[1;33m\u001b[0m\u001b[1;33m\u001b[0m\u001b[0m\n\u001b[0m\u001b[0;32m    533\u001b[0m     \u001b[1;32mreturn\u001b[0m \u001b[0mwrap\u001b[0m\u001b[1;33m(\u001b[0m\u001b[0mainv\u001b[0m\u001b[1;33m.\u001b[0m\u001b[0mastype\u001b[0m\u001b[1;33m(\u001b[0m\u001b[0mresult_t\u001b[0m\u001b[1;33m,\u001b[0m \u001b[0mcopy\u001b[0m\u001b[1;33m=\u001b[0m\u001b[1;32mFalse\u001b[0m\u001b[1;33m)\u001b[0m\u001b[1;33m)\u001b[0m\u001b[1;33m\u001b[0m\u001b[1;33m\u001b[0m\u001b[0m\n\u001b[0;32m    534\u001b[0m \u001b[1;33m\u001b[0m\u001b[0m\n",
      "\u001b[1;32m~\\anaconda3\\lib\\site-packages\\numpy\\linalg\\linalg.py\u001b[0m in \u001b[0;36m_raise_linalgerror_singular\u001b[1;34m(err, flag)\u001b[0m\n\u001b[0;32m     87\u001b[0m \u001b[1;33m\u001b[0m\u001b[0m\n\u001b[0;32m     88\u001b[0m \u001b[1;32mdef\u001b[0m \u001b[0m_raise_linalgerror_singular\u001b[0m\u001b[1;33m(\u001b[0m\u001b[0merr\u001b[0m\u001b[1;33m,\u001b[0m \u001b[0mflag\u001b[0m\u001b[1;33m)\u001b[0m\u001b[1;33m:\u001b[0m\u001b[1;33m\u001b[0m\u001b[1;33m\u001b[0m\u001b[0m\n\u001b[1;32m---> 89\u001b[1;33m     \u001b[1;32mraise\u001b[0m \u001b[0mLinAlgError\u001b[0m\u001b[1;33m(\u001b[0m\u001b[1;34m\"Singular matrix\"\u001b[0m\u001b[1;33m)\u001b[0m\u001b[1;33m\u001b[0m\u001b[1;33m\u001b[0m\u001b[0m\n\u001b[0m\u001b[0;32m     90\u001b[0m \u001b[1;33m\u001b[0m\u001b[0m\n\u001b[0;32m     91\u001b[0m \u001b[1;32mdef\u001b[0m \u001b[0m_raise_linalgerror_nonposdef\u001b[0m\u001b[1;33m(\u001b[0m\u001b[0merr\u001b[0m\u001b[1;33m,\u001b[0m \u001b[0mflag\u001b[0m\u001b[1;33m)\u001b[0m\u001b[1;33m:\u001b[0m\u001b[1;33m\u001b[0m\u001b[1;33m\u001b[0m\u001b[0m\n",
      "\u001b[1;31mLinAlgError\u001b[0m: Singular matrix"
     ]
    }
   ],
   "source": [
    "import numpy as np\n",
    "\n",
    "A = np.array([[2,2],[2,2]])\n",
    "B = np.array([[5,4],[10,8]])\n",
    "C = np.array([[0,2,3],[-2,0,2],[-4,0,4]])\n",
    "\n",
    "print(np.linalg.det(A),np.linalg.det(B),np.linalg.det(C))\n",
    "print(np.linalg.inv(A))"
   ]
  },
  {
   "cell_type": "code",
   "execution_count": 35,
   "metadata": {},
   "outputs": [
    {
     "name": "stdout",
     "output_type": "stream",
     "text": [
      "[[ 3  4  7]\n",
      " [10 16 21]]\n",
      "[[-1 -2 -3]\n",
      " [-4 -6 -5]]\n",
      "[[   0  200  300]\n",
      " [-200    0  200]\n",
      " [-400    0  400]]\n"
     ]
    }
   ],
   "source": [
    "import numpy as np \n",
    "\n",
    "A = np.array([\n",
    "    [1,1,2],\n",
    "    [3,5,8]\n",
    "])\n",
    "\n",
    "B = np.array([\n",
    "    [2,3,5],\n",
    "    [7,11,13]\n",
    "])\n",
    "\n",
    "c = np.array([\n",
    "    [3,1,4],\n",
    "    [1,5,9],\n",
    "    [2,6,5],\n",
    "    [3,5,6]\n",
    "])\n",
    "\n",
    "print (A + B)\n",
    "print(A-B)\n",
    "print (100*C)"
   ]
  },
  {
   "cell_type": "code",
   "execution_count": 36,
   "metadata": {},
   "outputs": [
    {
     "data": {
      "text/html": [
       "\n",
       "    <div class=\"bk-root\">\n",
       "        <a href=\"https://bokeh.org\" target=\"_blank\" class=\"bk-logo bk-logo-small bk-logo-notebook\"></a>\n",
       "        <span id=\"78710\">Loading BokehJS ...</span>\n",
       "    </div>"
      ]
     },
     "metadata": {},
     "output_type": "display_data"
    },
    {
     "data": {
      "application/javascript": [
       "\n",
       "(function(root) {\n",
       "  function now() {\n",
       "    return new Date();\n",
       "  }\n",
       "\n",
       "  var force = true;\n",
       "\n",
       "  if (typeof root._bokeh_onload_callbacks === \"undefined\" || force === true) {\n",
       "    root._bokeh_onload_callbacks = [];\n",
       "    root._bokeh_is_loading = undefined;\n",
       "  }\n",
       "\n",
       "  var JS_MIME_TYPE = 'application/javascript';\n",
       "  var HTML_MIME_TYPE = 'text/html';\n",
       "  var EXEC_MIME_TYPE = 'application/vnd.bokehjs_exec.v0+json';\n",
       "  var CLASS_NAME = 'output_bokeh rendered_html';\n",
       "\n",
       "  /**\n",
       "   * Render data to the DOM node\n",
       "   */\n",
       "  function render(props, node) {\n",
       "    var script = document.createElement(\"script\");\n",
       "    node.appendChild(script);\n",
       "  }\n",
       "\n",
       "  /**\n",
       "   * Handle when an output is cleared or removed\n",
       "   */\n",
       "  function handleClearOutput(event, handle) {\n",
       "    var cell = handle.cell;\n",
       "\n",
       "    var id = cell.output_area._bokeh_element_id;\n",
       "    var server_id = cell.output_area._bokeh_server_id;\n",
       "    // Clean up Bokeh references\n",
       "    if (id != null && id in Bokeh.index) {\n",
       "      Bokeh.index[id].model.document.clear();\n",
       "      delete Bokeh.index[id];\n",
       "    }\n",
       "\n",
       "    if (server_id !== undefined) {\n",
       "      // Clean up Bokeh references\n",
       "      var cmd = \"from bokeh.io.state import curstate; print(curstate().uuid_to_server['\" + server_id + \"'].get_sessions()[0].document.roots[0]._id)\";\n",
       "      cell.notebook.kernel.execute(cmd, {\n",
       "        iopub: {\n",
       "          output: function(msg) {\n",
       "            var id = msg.content.text.trim();\n",
       "            if (id in Bokeh.index) {\n",
       "              Bokeh.index[id].model.document.clear();\n",
       "              delete Bokeh.index[id];\n",
       "            }\n",
       "          }\n",
       "        }\n",
       "      });\n",
       "      // Destroy server and session\n",
       "      var cmd = \"import bokeh.io.notebook as ion; ion.destroy_server('\" + server_id + \"')\";\n",
       "      cell.notebook.kernel.execute(cmd);\n",
       "    }\n",
       "  }\n",
       "\n",
       "  /**\n",
       "   * Handle when a new output is added\n",
       "   */\n",
       "  function handleAddOutput(event, handle) {\n",
       "    var output_area = handle.output_area;\n",
       "    var output = handle.output;\n",
       "\n",
       "    // limit handleAddOutput to display_data with EXEC_MIME_TYPE content only\n",
       "    if ((output.output_type != \"display_data\") || (!output.data.hasOwnProperty(EXEC_MIME_TYPE))) {\n",
       "      return\n",
       "    }\n",
       "\n",
       "    var toinsert = output_area.element.find(\".\" + CLASS_NAME.split(' ')[0]);\n",
       "\n",
       "    if (output.metadata[EXEC_MIME_TYPE][\"id\"] !== undefined) {\n",
       "      toinsert[toinsert.length - 1].firstChild.textContent = output.data[JS_MIME_TYPE];\n",
       "      // store reference to embed id on output_area\n",
       "      output_area._bokeh_element_id = output.metadata[EXEC_MIME_TYPE][\"id\"];\n",
       "    }\n",
       "    if (output.metadata[EXEC_MIME_TYPE][\"server_id\"] !== undefined) {\n",
       "      var bk_div = document.createElement(\"div\");\n",
       "      bk_div.innerHTML = output.data[HTML_MIME_TYPE];\n",
       "      var script_attrs = bk_div.children[0].attributes;\n",
       "      for (var i = 0; i < script_attrs.length; i++) {\n",
       "        toinsert[toinsert.length - 1].firstChild.setAttribute(script_attrs[i].name, script_attrs[i].value);\n",
       "      }\n",
       "      // store reference to server id on output_area\n",
       "      output_area._bokeh_server_id = output.metadata[EXEC_MIME_TYPE][\"server_id\"];\n",
       "    }\n",
       "  }\n",
       "\n",
       "  function register_renderer(events, OutputArea) {\n",
       "\n",
       "    function append_mime(data, metadata, element) {\n",
       "      // create a DOM node to render to\n",
       "      var toinsert = this.create_output_subarea(\n",
       "        metadata,\n",
       "        CLASS_NAME,\n",
       "        EXEC_MIME_TYPE\n",
       "      );\n",
       "      this.keyboard_manager.register_events(toinsert);\n",
       "      // Render to node\n",
       "      var props = {data: data, metadata: metadata[EXEC_MIME_TYPE]};\n",
       "      render(props, toinsert[toinsert.length - 1]);\n",
       "      element.append(toinsert);\n",
       "      return toinsert\n",
       "    }\n",
       "\n",
       "    /* Handle when an output is cleared or removed */\n",
       "    events.on('clear_output.CodeCell', handleClearOutput);\n",
       "    events.on('delete.Cell', handleClearOutput);\n",
       "\n",
       "    /* Handle when a new output is added */\n",
       "    events.on('output_added.OutputArea', handleAddOutput);\n",
       "\n",
       "    /**\n",
       "     * Register the mime type and append_mime function with output_area\n",
       "     */\n",
       "    OutputArea.prototype.register_mime_type(EXEC_MIME_TYPE, append_mime, {\n",
       "      /* Is output safe? */\n",
       "      safe: true,\n",
       "      /* Index of renderer in `output_area.display_order` */\n",
       "      index: 0\n",
       "    });\n",
       "  }\n",
       "\n",
       "  // register the mime type if in Jupyter Notebook environment and previously unregistered\n",
       "  if (root.Jupyter !== undefined) {\n",
       "    var events = require('base/js/events');\n",
       "    var OutputArea = require('notebook/js/outputarea').OutputArea;\n",
       "\n",
       "    if (OutputArea.prototype.mime_types().indexOf(EXEC_MIME_TYPE) == -1) {\n",
       "      register_renderer(events, OutputArea);\n",
       "    }\n",
       "  }\n",
       "\n",
       "  \n",
       "  if (typeof (root._bokeh_timeout) === \"undefined\" || force === true) {\n",
       "    root._bokeh_timeout = Date.now() + 5000;\n",
       "    root._bokeh_failed_load = false;\n",
       "  }\n",
       "\n",
       "  var NB_LOAD_WARNING = {'data': {'text/html':\n",
       "     \"<div style='background-color: #fdd'>\\n\"+\n",
       "     \"<p>\\n\"+\n",
       "     \"BokehJS does not appear to have successfully loaded. If loading BokehJS from CDN, this \\n\"+\n",
       "     \"may be due to a slow or bad network connection. Possible fixes:\\n\"+\n",
       "     \"</p>\\n\"+\n",
       "     \"<ul>\\n\"+\n",
       "     \"<li>re-rerun `output_notebook()` to attempt to load from CDN again, or</li>\\n\"+\n",
       "     \"<li>use INLINE resources instead, as so:</li>\\n\"+\n",
       "     \"</ul>\\n\"+\n",
       "     \"<code>\\n\"+\n",
       "     \"from bokeh.resources import INLINE\\n\"+\n",
       "     \"output_notebook(resources=INLINE)\\n\"+\n",
       "     \"</code>\\n\"+\n",
       "     \"</div>\"}};\n",
       "\n",
       "  function display_loaded() {\n",
       "    var el = document.getElementById(\"78710\");\n",
       "    if (el != null) {\n",
       "      el.textContent = \"BokehJS is loading...\";\n",
       "    }\n",
       "    if (root.Bokeh !== undefined) {\n",
       "      if (el != null) {\n",
       "        el.textContent = \"BokehJS \" + root.Bokeh.version + \" successfully loaded.\";\n",
       "      }\n",
       "    } else if (Date.now() < root._bokeh_timeout) {\n",
       "      setTimeout(display_loaded, 100)\n",
       "    }\n",
       "  }\n",
       "\n",
       "\n",
       "  function run_callbacks() {\n",
       "    try {\n",
       "      root._bokeh_onload_callbacks.forEach(function(callback) {\n",
       "        if (callback != null)\n",
       "          callback();\n",
       "      });\n",
       "    } finally {\n",
       "      delete root._bokeh_onload_callbacks\n",
       "    }\n",
       "    console.debug(\"Bokeh: all callbacks have finished\");\n",
       "  }\n",
       "\n",
       "  function load_libs(css_urls, js_urls, callback) {\n",
       "    if (css_urls == null) css_urls = [];\n",
       "    if (js_urls == null) js_urls = [];\n",
       "\n",
       "    root._bokeh_onload_callbacks.push(callback);\n",
       "    if (root._bokeh_is_loading > 0) {\n",
       "      console.debug(\"Bokeh: BokehJS is being loaded, scheduling callback at\", now());\n",
       "      return null;\n",
       "    }\n",
       "    if (js_urls == null || js_urls.length === 0) {\n",
       "      run_callbacks();\n",
       "      return null;\n",
       "    }\n",
       "    console.debug(\"Bokeh: BokehJS not loaded, scheduling load and callback at\", now());\n",
       "    root._bokeh_is_loading = css_urls.length + js_urls.length;\n",
       "\n",
       "    function on_load() {\n",
       "      root._bokeh_is_loading--;\n",
       "      if (root._bokeh_is_loading === 0) {\n",
       "        console.debug(\"Bokeh: all BokehJS libraries/stylesheets loaded\");\n",
       "        run_callbacks()\n",
       "      }\n",
       "    }\n",
       "\n",
       "    function on_error() {\n",
       "      console.error(\"failed to load \" + url);\n",
       "    }\n",
       "\n",
       "    for (var i = 0; i < css_urls.length; i++) {\n",
       "      var url = css_urls[i];\n",
       "      const element = document.createElement(\"link\");\n",
       "      element.onload = on_load;\n",
       "      element.onerror = on_error;\n",
       "      element.rel = \"stylesheet\";\n",
       "      element.type = \"text/css\";\n",
       "      element.href = url;\n",
       "      console.debug(\"Bokeh: injecting link tag for BokehJS stylesheet: \", url);\n",
       "      document.body.appendChild(element);\n",
       "    }\n",
       "\n",
       "    for (var i = 0; i < js_urls.length; i++) {\n",
       "      var url = js_urls[i];\n",
       "      var element = document.createElement('script');\n",
       "      element.onload = on_load;\n",
       "      element.onerror = on_error;\n",
       "      element.async = false;\n",
       "      element.src = url;\n",
       "      console.debug(\"Bokeh: injecting script tag for BokehJS library: \", url);\n",
       "      document.head.appendChild(element);\n",
       "    }\n",
       "  };var element = document.getElementById(\"78710\");\n",
       "  if (element == null) {\n",
       "    console.error(\"Bokeh: ERROR: autoload.js configured with elementid '78710' but no matching script tag was found. \")\n",
       "    return false;\n",
       "  }\n",
       "\n",
       "  function inject_raw_css(css) {\n",
       "    const element = document.createElement(\"style\");\n",
       "    element.appendChild(document.createTextNode(css));\n",
       "    document.body.appendChild(element);\n",
       "  }\n",
       "\n",
       "  \n",
       "  var js_urls = [\"https://cdn.pydata.org/bokeh/release/bokeh-1.4.0.min.js\", \"https://cdn.pydata.org/bokeh/release/bokeh-widgets-1.4.0.min.js\", \"https://cdn.pydata.org/bokeh/release/bokeh-tables-1.4.0.min.js\", \"https://cdn.pydata.org/bokeh/release/bokeh-gl-1.4.0.min.js\"];\n",
       "  var css_urls = [];\n",
       "  \n",
       "\n",
       "  var inline_js = [\n",
       "    function(Bokeh) {\n",
       "      Bokeh.set_log_level(\"info\");\n",
       "    },\n",
       "    function(Bokeh) {\n",
       "    \n",
       "    \n",
       "    }\n",
       "  ];\n",
       "\n",
       "  function run_inline_js() {\n",
       "    \n",
       "    if (root.Bokeh !== undefined || force === true) {\n",
       "      \n",
       "    for (var i = 0; i < inline_js.length; i++) {\n",
       "      inline_js[i].call(root, root.Bokeh);\n",
       "    }\n",
       "    if (force === true) {\n",
       "        display_loaded();\n",
       "      }} else if (Date.now() < root._bokeh_timeout) {\n",
       "      setTimeout(run_inline_js, 100);\n",
       "    } else if (!root._bokeh_failed_load) {\n",
       "      console.log(\"Bokeh: BokehJS failed to load within specified timeout.\");\n",
       "      root._bokeh_failed_load = true;\n",
       "    } else if (force !== true) {\n",
       "      var cell = $(document.getElementById(\"78710\")).parents('.cell').data().cell;\n",
       "      cell.output_area.append_execute_result(NB_LOAD_WARNING)\n",
       "    }\n",
       "\n",
       "  }\n",
       "\n",
       "  if (root._bokeh_is_loading === 0) {\n",
       "    console.debug(\"Bokeh: BokehJS loaded, going straight to plotting\");\n",
       "    run_inline_js();\n",
       "  } else {\n",
       "    load_libs(css_urls, js_urls, function() {\n",
       "      console.debug(\"Bokeh: BokehJS plotting callback run at\", now());\n",
       "      run_inline_js();\n",
       "    });\n",
       "  }\n",
       "}(window));"
      ],
      "application/vnd.bokehjs_load.v0+json": "\n(function(root) {\n  function now() {\n    return new Date();\n  }\n\n  var force = true;\n\n  if (typeof root._bokeh_onload_callbacks === \"undefined\" || force === true) {\n    root._bokeh_onload_callbacks = [];\n    root._bokeh_is_loading = undefined;\n  }\n\n  \n\n  \n  if (typeof (root._bokeh_timeout) === \"undefined\" || force === true) {\n    root._bokeh_timeout = Date.now() + 5000;\n    root._bokeh_failed_load = false;\n  }\n\n  var NB_LOAD_WARNING = {'data': {'text/html':\n     \"<div style='background-color: #fdd'>\\n\"+\n     \"<p>\\n\"+\n     \"BokehJS does not appear to have successfully loaded. If loading BokehJS from CDN, this \\n\"+\n     \"may be due to a slow or bad network connection. Possible fixes:\\n\"+\n     \"</p>\\n\"+\n     \"<ul>\\n\"+\n     \"<li>re-rerun `output_notebook()` to attempt to load from CDN again, or</li>\\n\"+\n     \"<li>use INLINE resources instead, as so:</li>\\n\"+\n     \"</ul>\\n\"+\n     \"<code>\\n\"+\n     \"from bokeh.resources import INLINE\\n\"+\n     \"output_notebook(resources=INLINE)\\n\"+\n     \"</code>\\n\"+\n     \"</div>\"}};\n\n  function display_loaded() {\n    var el = document.getElementById(\"78710\");\n    if (el != null) {\n      el.textContent = \"BokehJS is loading...\";\n    }\n    if (root.Bokeh !== undefined) {\n      if (el != null) {\n        el.textContent = \"BokehJS \" + root.Bokeh.version + \" successfully loaded.\";\n      }\n    } else if (Date.now() < root._bokeh_timeout) {\n      setTimeout(display_loaded, 100)\n    }\n  }\n\n\n  function run_callbacks() {\n    try {\n      root._bokeh_onload_callbacks.forEach(function(callback) {\n        if (callback != null)\n          callback();\n      });\n    } finally {\n      delete root._bokeh_onload_callbacks\n    }\n    console.debug(\"Bokeh: all callbacks have finished\");\n  }\n\n  function load_libs(css_urls, js_urls, callback) {\n    if (css_urls == null) css_urls = [];\n    if (js_urls == null) js_urls = [];\n\n    root._bokeh_onload_callbacks.push(callback);\n    if (root._bokeh_is_loading > 0) {\n      console.debug(\"Bokeh: BokehJS is being loaded, scheduling callback at\", now());\n      return null;\n    }\n    if (js_urls == null || js_urls.length === 0) {\n      run_callbacks();\n      return null;\n    }\n    console.debug(\"Bokeh: BokehJS not loaded, scheduling load and callback at\", now());\n    root._bokeh_is_loading = css_urls.length + js_urls.length;\n\n    function on_load() {\n      root._bokeh_is_loading--;\n      if (root._bokeh_is_loading === 0) {\n        console.debug(\"Bokeh: all BokehJS libraries/stylesheets loaded\");\n        run_callbacks()\n      }\n    }\n\n    function on_error() {\n      console.error(\"failed to load \" + url);\n    }\n\n    for (var i = 0; i < css_urls.length; i++) {\n      var url = css_urls[i];\n      const element = document.createElement(\"link\");\n      element.onload = on_load;\n      element.onerror = on_error;\n      element.rel = \"stylesheet\";\n      element.type = \"text/css\";\n      element.href = url;\n      console.debug(\"Bokeh: injecting link tag for BokehJS stylesheet: \", url);\n      document.body.appendChild(element);\n    }\n\n    for (var i = 0; i < js_urls.length; i++) {\n      var url = js_urls[i];\n      var element = document.createElement('script');\n      element.onload = on_load;\n      element.onerror = on_error;\n      element.async = false;\n      element.src = url;\n      console.debug(\"Bokeh: injecting script tag for BokehJS library: \", url);\n      document.head.appendChild(element);\n    }\n  };var element = document.getElementById(\"78710\");\n  if (element == null) {\n    console.error(\"Bokeh: ERROR: autoload.js configured with elementid '78710' but no matching script tag was found. \")\n    return false;\n  }\n\n  function inject_raw_css(css) {\n    const element = document.createElement(\"style\");\n    element.appendChild(document.createTextNode(css));\n    document.body.appendChild(element);\n  }\n\n  \n  var js_urls = [\"https://cdn.pydata.org/bokeh/release/bokeh-1.4.0.min.js\", \"https://cdn.pydata.org/bokeh/release/bokeh-widgets-1.4.0.min.js\", \"https://cdn.pydata.org/bokeh/release/bokeh-tables-1.4.0.min.js\", \"https://cdn.pydata.org/bokeh/release/bokeh-gl-1.4.0.min.js\"];\n  var css_urls = [];\n  \n\n  var inline_js = [\n    function(Bokeh) {\n      Bokeh.set_log_level(\"info\");\n    },\n    function(Bokeh) {\n    \n    \n    }\n  ];\n\n  function run_inline_js() {\n    \n    if (root.Bokeh !== undefined || force === true) {\n      \n    for (var i = 0; i < inline_js.length; i++) {\n      inline_js[i].call(root, root.Bokeh);\n    }\n    if (force === true) {\n        display_loaded();\n      }} else if (Date.now() < root._bokeh_timeout) {\n      setTimeout(run_inline_js, 100);\n    } else if (!root._bokeh_failed_load) {\n      console.log(\"Bokeh: BokehJS failed to load within specified timeout.\");\n      root._bokeh_failed_load = true;\n    } else if (force !== true) {\n      var cell = $(document.getElementById(\"78710\")).parents('.cell').data().cell;\n      cell.output_area.append_execute_result(NB_LOAD_WARNING)\n    }\n\n  }\n\n  if (root._bokeh_is_loading === 0) {\n    console.debug(\"Bokeh: BokehJS loaded, going straight to plotting\");\n    run_inline_js();\n  } else {\n    load_libs(css_urls, js_urls, function() {\n      console.debug(\"Bokeh: BokehJS plotting callback run at\", now());\n      run_inline_js();\n    });\n  }\n}(window));"
     },
     "metadata": {},
     "output_type": "display_data"
    }
   ],
   "source": [
    "import numpy as np \n",
    "from scipy.spatial import distance\n",
    "\n",
    "from ipywidgets import interact, interactive, fixed, interact_manual\n",
    "import ipywidgets as widgets\n",
    " \n",
    "import numpy as np\n",
    "\n",
    "import random\n",
    "\n",
    "from IPython.display import display, Math\n",
    "\n",
    "from bokeh.io import show, output_notebook, reset_output\n",
    "from bokeh.plotting import figure, show\n",
    "from scipy.stats import norm \n",
    "from bokeh import plotting as pl\n",
    "from bokeh.models import HoverTool, Arrow, OpenHead, NormalHead, VeeHead, Span, ColumnDataSource, PointDrawTool, TableColumn,  DataTable\n",
    "\n",
    "\n",
    "output_notebook()\n"
   ]
  },
  {
   "cell_type": "markdown",
   "metadata": {},
   "source": [
    "# Eigenvalues and eigenvectors\n",
    "In this notebook we are going to be talking about one of the most important concepts in linear algebra related to machine learning.\n",
    "\n",
    "Understanding Eigenvalues and eigenvectors form is important to understand some of the most commonly used tools for machine learning like- singular value decomposition (SVD), principal component analysis (PCA) etc.\n",
    "\n",
    "We are not going to go into great mathematical details eigenvalues and eigenvectors. For the most part we will use python functions to do the eigenvalues and eigenvector calculations.\n",
    "\n",
    "So parts we are going to cover in this notebook are -\n",
    "\n",
    "The problem setup     \n",
    "Calculating eigenvalues     \n",
    "Calculating eigenvectors     \n",
    "\n",
    "## The problem setup      \n",
    "The concept of eigenvectors and eigenvalues come in when we talk about solving the equation of the form-    \n",
    "\n",
    "𝐴𝐱=𝜆𝐱\n",
    " \n",
    "where-\n",
    "\n",
    "𝐴  is a square matrix, for now we are going to stick with a 2 by 2 matrix\n",
    "𝐱  is some unknown vector  𝜆  is a constant that will later on represent the eigenvalues\n",
    "\n",
    "It is prudent to point out that  𝐴  has to be a square matrix. Meaning either a  2×2  matrix or a  3×3  matrix or an  𝑛×𝑛  matrix where n = 2,3,4,5... etc. Basically  𝑛  can be any positive integer.\n",
    "\n",
    "Now why do we care about this specific form? Well for that let us decode the equation above. On the right hand side, what we are in essence doing is applying a linear transformation to the unknown vector  𝐱 . For example let us apply the transformation\n",
    "\n",
    "𝐴=[10\n",
    "   01] \n",
    "to some vector. In the plot below we show the result-"
   ]
  },
  {
   "cell_type": "code",
   "execution_count": 37,
   "metadata": {},
   "outputs": [
    {
     "data": {
      "text/html": [
       "\n",
       "\n",
       "\n",
       "\n",
       "\n",
       "\n",
       "  <div class=\"bk-root\" id=\"d7528cc4-1532-462d-b554-504a30177903\" data-root-id=\"78711\"></div>\n"
      ]
     },
     "metadata": {},
     "output_type": "display_data"
    },
    {
     "data": {
      "application/javascript": [
       "(function(root) {\n",
       "  function embed_document(root) {\n",
       "    \n",
       "  var docs_json = {\"bb307b23-0247-4405-beb0-a835e48244e6\":{\"roots\":{\"references\":[{\"attributes\":{\"below\":[{\"id\":\"78722\",\"type\":\"LinearAxis\"}],\"center\":[{\"id\":\"78726\",\"type\":\"Grid\"},{\"id\":\"78731\",\"type\":\"Grid\"},{\"id\":\"78750\",\"type\":\"Arrow\"},{\"id\":\"78763\",\"type\":\"Arrow\"}],\"left\":[{\"id\":\"78727\",\"type\":\"LinearAxis\"}],\"plot_height\":400,\"plot_width\":400,\"renderers\":[{\"id\":\"78747\",\"type\":\"Span\"},{\"id\":\"78748\",\"type\":\"Span\"},{\"id\":\"78755\",\"type\":\"GlyphRenderer\"},{\"id\":\"78760\",\"type\":\"GlyphRenderer\"}],\"title\":{\"id\":\"78712\",\"type\":\"Title\"},\"toolbar\":{\"id\":\"78739\",\"type\":\"Toolbar\"},\"x_range\":{\"id\":\"78714\",\"type\":\"Range1d\"},\"x_scale\":{\"id\":\"78718\",\"type\":\"LinearScale\"},\"y_range\":{\"id\":\"78716\",\"type\":\"Range1d\"},\"y_scale\":{\"id\":\"78720\",\"type\":\"LinearScale\"}},\"id\":\"78711\",\"subtype\":\"Figure\",\"type\":\"Plot\"},{\"attributes\":{},\"id\":\"78718\",\"type\":\"LinearScale\"},{\"attributes\":{\"source\":{\"id\":\"78752\",\"type\":\"ColumnDataSource\"}},\"id\":\"78756\",\"type\":\"CDSView\"},{\"attributes\":{\"callback\":null,\"end\":10,\"start\":-10},\"id\":\"78716\",\"type\":\"Range1d\"},{\"attributes\":{\"callback\":null,\"end\":10,\"start\":-10},\"id\":\"78714\",\"type\":\"Range1d\"},{\"attributes\":{\"data_source\":{\"id\":\"78757\",\"type\":\"ColumnDataSource\"},\"glyph\":{\"id\":\"78758\",\"type\":\"Text\"},\"hover_glyph\":null,\"muted_glyph\":null,\"nonselection_glyph\":{\"id\":\"78759\",\"type\":\"Text\"},\"selection_glyph\":null,\"view\":{\"id\":\"78761\",\"type\":\"CDSView\"}},\"id\":\"78760\",\"type\":\"GlyphRenderer\"},{\"attributes\":{\"fill_color\":{\"value\":\"green\"},\"line_color\":{\"value\":\"green\"}},\"id\":\"78762\",\"type\":\"NormalHead\"},{\"attributes\":{\"callback\":null},\"id\":\"78737\",\"type\":\"TapTool\"},{\"attributes\":{\"callback\":null,\"data\":{\"text\":[\"transformed \\n vector \"]},\"selected\":{\"id\":\"80142\",\"type\":\"Selection\"},\"selection_policy\":{\"id\":\"80141\",\"type\":\"UnionRenderers\"}},\"id\":\"78757\",\"type\":\"ColumnDataSource\"},{\"attributes\":{\"data_source\":{\"id\":\"78752\",\"type\":\"ColumnDataSource\"},\"glyph\":{\"id\":\"78753\",\"type\":\"Text\"},\"hover_glyph\":null,\"muted_glyph\":null,\"nonselection_glyph\":{\"id\":\"78754\",\"type\":\"Text\"},\"selection_glyph\":null,\"view\":{\"id\":\"78756\",\"type\":\"CDSView\"}},\"id\":\"78755\",\"type\":\"GlyphRenderer\"},{\"attributes\":{\"text_alpha\":{\"value\":0.1},\"text_color\":{\"value\":\"black\"},\"x\":{\"value\":2},\"y\":{\"value\":-8.0}},\"id\":\"78759\",\"type\":\"Text\"},{\"attributes\":{},\"id\":\"80136\",\"type\":\"BasicTickFormatter\"},{\"attributes\":{\"ticker\":{\"id\":\"78723\",\"type\":\"BasicTicker\"}},\"id\":\"78726\",\"type\":\"Grid\"},{\"attributes\":{},\"id\":\"80140\",\"type\":\"Selection\"},{\"attributes\":{},\"id\":\"78728\",\"type\":\"BasicTicker\"},{\"attributes\":{\"active_drag\":\"auto\",\"active_inspect\":\"auto\",\"active_multi\":null,\"active_scroll\":\"auto\",\"active_tap\":\"auto\",\"tools\":[{\"id\":\"78732\",\"type\":\"BoxZoomTool\"},{\"id\":\"78733\",\"type\":\"PanTool\"},{\"id\":\"78734\",\"type\":\"SaveTool\"},{\"id\":\"78735\",\"type\":\"HoverTool\"},{\"id\":\"78736\",\"type\":\"ResetTool\"},{\"id\":\"78737\",\"type\":\"TapTool\"},{\"id\":\"78738\",\"type\":\"WheelZoomTool\"}]},\"id\":\"78739\",\"type\":\"Toolbar\"},{\"attributes\":{\"callback\":null},\"id\":\"78735\",\"type\":\"HoverTool\"},{\"attributes\":{},\"id\":\"78736\",\"type\":\"ResetTool\"},{\"attributes\":{},\"id\":\"78738\",\"type\":\"WheelZoomTool\"},{\"attributes\":{\"text_color\":{\"value\":\"black\"},\"x\":{\"value\":2},\"y\":{\"value\":5}},\"id\":\"78753\",\"type\":\"Text\"},{\"attributes\":{\"end\":{\"id\":\"78749\",\"type\":\"NormalHead\"},\"source\":null,\"start\":null,\"x_end\":{\"value\":2},\"x_start\":{\"value\":0},\"y_end\":{\"value\":5},\"y_start\":{\"value\":0}},\"id\":\"78750\",\"type\":\"Arrow\"},{\"attributes\":{},\"id\":\"78733\",\"type\":\"PanTool\"},{\"attributes\":{\"line_width\":{\"value\":2},\"location\":0},\"id\":\"78748\",\"type\":\"Span\"},{\"attributes\":{},\"id\":\"78749\",\"type\":\"NormalHead\"},{\"attributes\":{\"text\":\"Original vs transformed vector \"},\"id\":\"78712\",\"type\":\"Title\"},{\"attributes\":{},\"id\":\"80139\",\"type\":\"UnionRenderers\"},{\"attributes\":{},\"id\":\"80142\",\"type\":\"Selection\"},{\"attributes\":{\"axis_label\":\"x axis\",\"formatter\":{\"id\":\"80136\",\"type\":\"BasicTickFormatter\"},\"ticker\":{\"id\":\"78723\",\"type\":\"BasicTicker\"}},\"id\":\"78722\",\"type\":\"LinearAxis\"},{\"attributes\":{\"overlay\":{\"id\":\"80138\",\"type\":\"BoxAnnotation\"}},\"id\":\"78732\",\"type\":\"BoxZoomTool\"},{\"attributes\":{},\"id\":\"78720\",\"type\":\"LinearScale\"},{\"attributes\":{\"text_alpha\":{\"value\":0.1},\"text_color\":{\"value\":\"black\"},\"x\":{\"value\":2},\"y\":{\"value\":5}},\"id\":\"78754\",\"type\":\"Text\"},{\"attributes\":{\"bottom_units\":\"screen\",\"fill_alpha\":{\"value\":0.5},\"fill_color\":{\"value\":\"lightgrey\"},\"left_units\":\"screen\",\"level\":\"overlay\",\"line_alpha\":{\"value\":1.0},\"line_color\":{\"value\":\"black\"},\"line_dash\":[4,4],\"line_width\":{\"value\":2},\"render_mode\":\"css\",\"right_units\":\"screen\",\"top_units\":\"screen\"},\"id\":\"80138\",\"type\":\"BoxAnnotation\"},{\"attributes\":{\"end\":{\"id\":\"78762\",\"type\":\"NormalHead\"},\"source\":null,\"start\":null,\"x_end\":{\"value\":2},\"x_start\":{\"value\":0},\"y_end\":{\"value\":-5},\"y_start\":{\"value\":0}},\"id\":\"78763\",\"type\":\"Arrow\"},{\"attributes\":{\"axis_label\":\"y axis\",\"formatter\":{\"id\":\"80134\",\"type\":\"BasicTickFormatter\"},\"ticker\":{\"id\":\"78728\",\"type\":\"BasicTicker\"}},\"id\":\"78727\",\"type\":\"LinearAxis\"},{\"attributes\":{},\"id\":\"80134\",\"type\":\"BasicTickFormatter\"},{\"attributes\":{\"source\":{\"id\":\"78757\",\"type\":\"ColumnDataSource\"}},\"id\":\"78761\",\"type\":\"CDSView\"},{\"attributes\":{},\"id\":\"78734\",\"type\":\"SaveTool\"},{\"attributes\":{},\"id\":\"80141\",\"type\":\"UnionRenderers\"},{\"attributes\":{\"dimension\":1,\"ticker\":{\"id\":\"78728\",\"type\":\"BasicTicker\"}},\"id\":\"78731\",\"type\":\"Grid\"},{\"attributes\":{},\"id\":\"78723\",\"type\":\"BasicTicker\"},{\"attributes\":{\"text_color\":{\"value\":\"black\"},\"x\":{\"value\":2},\"y\":{\"value\":-8.0}},\"id\":\"78758\",\"type\":\"Text\"},{\"attributes\":{\"callback\":null,\"data\":{\"text\":[\"original \\n vector\"]},\"selected\":{\"id\":\"80140\",\"type\":\"Selection\"},\"selection_policy\":{\"id\":\"80139\",\"type\":\"UnionRenderers\"}},\"id\":\"78752\",\"type\":\"ColumnDataSource\"},{\"attributes\":{\"dimension\":\"height\",\"line_width\":{\"value\":2},\"location\":0},\"id\":\"78747\",\"type\":\"Span\"}],\"root_ids\":[\"78711\"]},\"title\":\"Bokeh Application\",\"version\":\"1.4.0\"}};\n",
       "  var render_items = [{\"docid\":\"bb307b23-0247-4405-beb0-a835e48244e6\",\"roots\":{\"78711\":\"d7528cc4-1532-462d-b554-504a30177903\"}}];\n",
       "  root.Bokeh.embed.embed_items_notebook(docs_json, render_items);\n",
       "\n",
       "  }\n",
       "  if (root.Bokeh !== undefined) {\n",
       "    embed_document(root);\n",
       "  } else {\n",
       "    var attempts = 0;\n",
       "    var timer = setInterval(function(root) {\n",
       "      if (root.Bokeh !== undefined) {\n",
       "        clearInterval(timer);\n",
       "        embed_document(root);\n",
       "      } else {\n",
       "        attempts++;\n",
       "        if (attempts > 100) {\n",
       "          clearInterval(timer);\n",
       "          console.log(\"Bokeh: ERROR: Unable to run BokehJS code because BokehJS library is missing\");\n",
       "        }\n",
       "      }\n",
       "    }, 10, root)\n",
       "  }\n",
       "})(window);"
      ],
      "application/vnd.bokehjs_exec.v0+json": ""
     },
     "metadata": {
      "application/vnd.bokehjs_exec.v0+json": {
       "id": "78711"
      }
     },
     "output_type": "display_data"
    }
   ],
   "source": [
    "# vector \n",
    "tools_to_show= 'box_zoom,pan,save,hover,reset,tap,wheel_zoom'        \n",
    "\n",
    "\n",
    "fig = pl.figure(x_range =[-10,10],\n",
    "                    y_range =[-10,10], \n",
    "                    plot_height =400, \n",
    "                    plot_width= 400, \n",
    "                   tools= tools_to_show,\n",
    "                   x_axis_label = \"x axis\",\n",
    "                    y_axis_label = \"y axis\", \n",
    "                   title  = \"Original vs transformed vector \"\n",
    "                   )\n",
    "\n",
    "vec_x =2\n",
    "vec_y =5\n",
    "\n",
    "vec_1 = np.array([vec_x,vec_y])\n",
    "trans_matrix =  np.matrix([[1,0],[0,-1]])\n",
    "trans_vec = np.array(trans_matrix.dot(vec_1))\n",
    "\n",
    "transformation  = 1\n",
    "vline = Span(location=0, dimension='height', line_color='black', line_width=2)\n",
    "hline = Span(location=0, dimension='width', line_color='black', line_width=2)\n",
    "\n",
    "fig.renderers.extend([vline, hline])\n",
    "fig.add_layout(Arrow(end=NormalHead(fill_color=\"black\"),\n",
    "                       x_start=0,\n",
    "                       y_start=0,\n",
    "                       x_end=2,\n",
    "                       y_end=5 \n",
    "                    ))\n",
    "\n",
    "fig.text(x=vec_x, y =vec_y, text =[\"original \\n vector\"])\n",
    "fig.text(x=trans_vec[0][0], y =(trans_vec[0][1])-3.0, text =[\"transformed \\n vector \" ])\n",
    "\n",
    "fig.add_layout(Arrow(end=NormalHead(fill_color=\"green\", line_color = \"green\" ),\n",
    "                       x_start=0,\n",
    "                       y_start=0,\n",
    "                       x_end=trans_vec[0][0],\n",
    "                       y_end=trans_vec[0][1] \n",
    "                    ))\n",
    "\n",
    "\n",
    "show(fig)\n"
   ]
  },
  {
   "cell_type": "markdown",
   "metadata": {},
   "source": [
    "The original vector is transformed due to the transformed to the green vector. We can apply different types of transformations to vector  𝐱 . Now what we are saying with equation (1) is that can we find a vector which is going to point in the same direction as the original vector but it scales by a value  𝜆  In order to find such a vector we are going to solve the linear system-\n",
    "\n",
    "(𝐴−𝜆𝐼)𝐱=0\n",
    " \n",
    "where-  𝐼  is the identity matrix\n",
    "\n",
    "The solution to this will come in the form of us getting values of of  𝜆  which will be the eigenvalues.\n",
    "\n",
    "## Calculating eigenvalues\n",
    "Now for equation (2) to be true you need one of two things to be true either  𝐱=0  or  (𝐴−𝜆𝐼)=0 . Since the first condition will not be true (we are effectively making this choice). The second condition must be true. Hence we will have the condition that-\n",
    "\n",
    "det(𝐴−𝜆𝐼)=0\n",
    " \n",
    "where we have\n",
    "det(𝐴−𝜆𝐼)=det([𝑎11−𝜆𝑎21𝑎12𝑎22−𝜆])=0\n",
    " \n",
    "we can do some simple algebra and get\n",
    "\n",
    "det(𝐴−𝜆𝐼)=𝜆2−𝜆(𝑎11+𝑎22)+𝑎11𝑎22−𝑎12𝑎21=0\n",
    " \n",
    "Well there are only two solutions to this equation. They are-\n",
    "𝜆1=12[(𝑎11+𝑎22)+(4𝑎12𝑎21+(𝑎11−𝑎22)2)⎯⎯⎯⎯⎯⎯⎯⎯⎯⎯⎯⎯⎯⎯⎯⎯⎯⎯⎯⎯⎯⎯⎯⎯⎯⎯⎯⎯⎯⎯⎯⎯⎯⎯⎯⎯⎯⎯⎯√]𝜆2=12[(𝑎11+𝑎22)−(4𝑎12𝑎21+(𝑎11−𝑎22)2)⎯⎯⎯⎯⎯⎯⎯⎯⎯⎯⎯⎯⎯⎯⎯⎯⎯⎯⎯⎯⎯⎯⎯⎯⎯⎯⎯⎯⎯⎯⎯⎯⎯⎯⎯⎯⎯⎯⎯√]\n",
    "So now we have our eigenvalues for a  2×2  matrix. We can use this procedure to calculate the eigenvalues \"by hand\" for larger matrices but if you try it you will find that finding solutions for more that a  3×3  matrix will quickly become rather challenging. Thankfully python gives us a quick way of calculating eigenvalues for a given matrix. Below is some code on how to get eigenvalues for a  2×2  and a  4×4  -"
   ]
  },
  {
   "cell_type": "code",
   "execution_count": 38,
   "metadata": {},
   "outputs": [
    {
     "name": "stdout",
     "output_type": "stream",
     "text": [
      " eigenvalues of the 2 by 2 matrix [3.73205081 0.26794919]\n",
      " eigenvalues of the 4 by 4 matrix [18.00284658 -0.09828708  4.79597699  3.29946351]\n"
     ]
    }
   ],
   "source": [
    "# 2 by 2 matrix \n",
    "test_mat_2 = np.array([[2,1],[3,2]])\n",
    "print(\" eigenvalues of the 2 by 2 matrix {}\".format(np.linalg.eigvals(test_mat_2)))\n",
    "\n",
    "\n",
    "# 4 by 4 matrix \n",
    "test_mat_4 = np.array([[8,5,2,3],[4,9, 6, 3], [4,7, 3, 1],[2,1,5,6]])\n",
    "print(\" eigenvalues of the 4 by 4 matrix {}\".format(np.linalg.eigvals(test_mat_4)))"
   ]
  },
  {
   "cell_type": "markdown",
   "metadata": {},
   "source": [
    "## Calculating eigenvectors¶\n",
    "Now that we the eigenvalues we can get the eigenvectors. The full scope of how we get the eigen vectors is beyond the scope of this notebook, we will show you how you can get those eigenvectors from python directly. So, if we take the  2×2  and the  4×4  matrix from above, the eigenvectors would be-"
   ]
  },
  {
   "cell_type": "code",
   "execution_count": 39,
   "metadata": {},
   "outputs": [
    {
     "name": "stdout",
     "output_type": "stream",
     "text": [
      "the eigen vectors for the 2 by 2 matrix are(array([[ 0.5      , -0.5      ],\n",
      "       [ 0.8660254,  0.8660254]]),)\n",
      " eigenvalues of the 4 by 4 matrix (array([[-0.5133916 , -0.27966899,  0.76085192, -0.655923  ],\n",
      "       [-0.64471836,  0.37315332, -0.53758366,  0.26987163],\n",
      "       [-0.45973711, -0.66886331, -0.25838121, -0.16213823],\n",
      "       [-0.33077046,  0.57893326,  0.25563121,  0.68603609]]),)\n"
     ]
    }
   ],
   "source": [
    "# 2 by 2 matrix \n",
    "test_mat_2 = np.array([[2,1],[3,2]])\n",
    "eigenvectors = np.linalg.eig(test_mat_2)[1::]\n",
    "print(\"the eigen vectors for the 2 by 2 matrix are{}\" .format(eigenvectors)) \n",
    "\n",
    "\n",
    "# 4 by 4 matrix \n",
    "test_mat_4 = np.array([[8,5,2,3],[4,9, 6, 3], [4,7, 3, 1],[2,1,5,6]])\n",
    "print(\" eigenvalues of the 4 by 4 matrix {}\".format(np.linalg.eig(test_mat_4)[1::]  ))"
   ]
  },
  {
   "cell_type": "markdown",
   "metadata": {},
   "source": [
    "So you can see that for a  2×2  matrix we are going to have a two eigenvectors. Each eigenvector will be 2 units long. For the  4×4  vector we have four eigenvectors and four eigenvalues."
   ]
  },
  {
   "cell_type": "code",
   "execution_count": null,
   "metadata": {},
   "outputs": [],
   "source": []
  }
 ],
 "metadata": {
  "kernelspec": {
   "display_name": "Python 3",
   "language": "python",
   "name": "python3"
  },
  "language_info": {
   "codemirror_mode": {
    "name": "ipython",
    "version": 3
   },
   "file_extension": ".py",
   "mimetype": "text/x-python",
   "name": "python",
   "nbconvert_exporter": "python",
   "pygments_lexer": "ipython3",
   "version": "3.7.6"
  }
 },
 "nbformat": 4,
 "nbformat_minor": 4
}
