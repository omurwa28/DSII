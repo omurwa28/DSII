{
 "cells": [
  {
   "cell_type": "markdown",
   "metadata": {},
   "source": [
    "# Measures of Central Tendency and Central Limit Theorem\n",
    "## Measures of Central Tendency\n",
    "In most experiments conducted in science and associated research, we note certain occurence of events and facts associated with the events or objects involved in it. This quantified or qualified information we document are often called 'observations'.\n",
    "\n",
    "For any event or system, there are certain inputs/conditions which affect the way the event ends or the way the system acts. What we observe at the end of the experiment can be called an 'output'. Observing a certain output may be dependent upon the type of conditions maintained during the event, or in other words, the 'inputs' given to the system.\n",
    "\n",
    "When the experiment is repeated by observing these specific conditions in order to collect an output observation each time, we get a series of observations. For various combinations of inputs we may get various outputs. If the system gives the same output, under any combination of inputs, then it would be a definitive system, with no uncertainty in the type of output that we could see.\n",
    "\n",
    "However, when the observation value changes each time the experiment is repeated, then the series of observations we have record would have a 'variance' in them. These observations when plotted on a coordinate system would be spread across, due to the variation in values. This is called as a 'distribution'.\n",
    "\n",
    "Distributions are often studied by plotting all the observations on coordinate axes. One common observation in many real life experiments is that when these observations are divided in buckets, some buckets tend to have a lot more observations than others. That is, there is higher concentration of observations around a specific value. Lets look at an example to understand more.\n",
    "\n",
    "Observe the heights of all individuals (full grown, adults) in this world. If we plot all the individual heights, we may possibly get a range with lowest value around 2 feet and heighest value around 8 or 9 feet depending upon the height of the tallest known man. Now, it is rare for us to find adults who are 2 or 3 feet tall and also rare for us to find someone who is 7 feet or taller. These are extermities and don't occur too often. The more commonly observed individuals are between 5 feet and 6 feet mark.\n",
    "\n",
    "Given we randomly pick 100 inviduals from anywhere in the world, the average height of these individuals may probably fall between 5 feet and 6 feet. Hence if the mean lies between 5 and 6 feet mark, then the density of observations is generally higher around this mark. It is for this reason that any such metric which tries to identify a commonly occurring observation value is called \"a measure of central tendency\". This denotes that this average value is referred to as a normal value and most observations tend to be around this, making it the center. Hence, it is called central tendency.\n",
    "\n",
    "## Mean\n",
    "Mean, or average, is one of the measures of central tendency. It is one of the most common measures of central tendency. If for an experiment  A , I have the following set of observations  a1,a2,a3...an , then the average of sample space of  A  is given by  a¯  as:\n",
    "\n",
    "a¯=∑ni=1an \n",
    "Here,  a¯  is called sample mean, whereas population mean is denoted by ' μ '.\n",
    "\n",
    "Mean of an array of numbers can be calculated in python using the 'np.mean()' function from numpy."
   ]
  },
  {
   "cell_type": "code",
   "execution_count": 1,
   "metadata": {},
   "outputs": [
    {
     "data": {
      "text/plain": [
       "4.0"
      ]
     },
     "execution_count": 1,
     "metadata": {},
     "output_type": "execute_result"
    }
   ],
   "source": [
    "import numpy as np\n",
    "\n",
    "a = np.array([1,2,3,4,5,6,7])\n",
    "\n",
    "np.mean(a)"
   ]
  },
  {
   "cell_type": "markdown",
   "metadata": {},
   "source": [
    "## Median\n",
    "The median is another measure of central tendency. In order to calculate the median of a sample, all the observations are required to be arranged in increasing or decreasing order of magnitude. Once all observations are arranged in an order, the observation in the middle of the sample, which splits the sample into equal halves is the \"median\" of the sample. Here, if the sample has an odd number of observations, then the observation in the middle, the median, would have equal number of observations which would be less than it in magnitude and equal observations which would be greater than it in magnitude. If there are even number of observations in the sample, then the median would be the average of the two middle values (as there would not be one single middle value in case of even number of observations, See below example to understand).\n",
    "\n",
    "Taking the example of a sample set of people and their heights, the median in the example used earlier would be as follows:"
   ]
  },
  {
   "cell_type": "code",
   "execution_count": 3,
   "metadata": {},
   "outputs": [
    {
     "name": "stdout",
     "output_type": "stream",
     "text": [
      "4.0 4.5\n"
     ]
    }
   ],
   "source": [
    "import numpy as np\n",
    "\n",
    "a = np.array([1,2,3,4,5,6,7])\n",
    "b = np.array([1,2,3,4,5,6,7,8])\n",
    "\n",
    "print(np.mean(a),np.median(b))"
   ]
  },
  {
   "cell_type": "code",
   "execution_count": 4,
   "metadata": {},
   "outputs": [
    {
     "data": {
      "text/plain": [
       "1.75"
      ]
     },
     "execution_count": 4,
     "metadata": {},
     "output_type": "execute_result"
    }
   ],
   "source": [
    "import numpy as np\n",
    "\n",
    "a = np.array([1.7, 1.8, 2.0, 1.6, 1.8, 1.5, 2.0, 1.7, 1.7, 1.9])\n",
    "\n",
    "np.median(a)"
   ]
  },
  {
   "cell_type": "markdown",
   "metadata": {},
   "source": [
    "## Mode\n",
    "The mode of a sample of observations is nothing but the most frequent observation among the set of observations. This specific measure of central tendency assumes that the observation which has been repeated the most number of times has higher probability of occurring again and hence holds the property of central tendency of observations.\n",
    "\n",
    "A distribution which has a single element as the highest repeating observation is called a 'unimodal distribution'. If there are two values which have repeated equally frequently, then such a distribution is called a 'bimodal distribution' and so on.\n",
    "\n",
    "Going back to the example of a sample set of people and their heights, the mode in the example used earlier would be as follows:"
   ]
  },
  {
   "cell_type": "code",
   "execution_count": 5,
   "metadata": {},
   "outputs": [
    {
     "name": "stdout",
     "output_type": "stream",
     "text": [
      "ModeResult(mode=array([2]), count=array([7]))\n"
     ]
    }
   ],
   "source": [
    "from scipy import stats\n",
    "\n",
    "a = np.array([1,2,3,4,2,3,6,2,1,3,5,7,4,2,2,4,3,2,4,7,8,4,2,5,1,6])\n",
    "\n",
    "print(stats.mode(a))\n"
   ]
  },
  {
   "cell_type": "markdown",
   "metadata": {},
   "source": [
    "The above output states that mode is '2' (in the output it is depicted as the array with single element 2. In case of bimodal distribution this array would have 2 elements) and count is '7', i.e. 2 repeats as an observation for 7 times (this is again an array as it would have more frequency counts in case of multiple modes)"
   ]
  },
  {
   "cell_type": "markdown",
   "metadata": {},
   "source": [
    "## Why and When?\n",
    "### Why do we have 3 different measures of central tendency? Which one is the best?\n",
    "There exist these 3 different measures of central tendency because no single measure of tendency is good in all scenarios. Depending upon the type of data we are dealing with and the objective of our data analysis, we are required to use different measures of central tendency. Hence, there is no single best measure of tendency.\n",
    "\n",
    "### When do we use each of the measures discussed above?\n",
    "The mean, median and mode, each have their own pros and cons. An interesting point to observe is that:\n",
    "\n",
    "The Mean of a sample may or may not be the value of any real observations in the sample, as it is a calculated value.\n",
    "The Median of a sample will be one of the observations if the sample has odd number of observations and will not be any of the observations in case the sample has even number of observations.\n",
    "The Mode of a sample is always one or more of actual observations from the sample.\n",
    "### Mean: \n",
    "The mean is calculated using all observations of a sample. This means that 'error' (which is defined as the distance between observation and calculated sample mean) from all observations is almost always zero and hence, mean is a better measure to use in case of prediction of observation values. Also, mean is most commonly used when distributions are continuous in nature. This ensures that irrespective of what the calculated value of mean is, there is every possibility that an observation can actually have the exact value as the mean.\n",
    "\n",
    "However, by nature of the calculation that mean emerges from, it is affected by every observation of the sample. And if the sample has extreme observations, called outliers, then the mean is significantly affected by this and may not present an appropriate representation of the data.\n",
    "\n",
    "### Median: \n",
    "The median is calculated after arranging the observations in increasing or decreasing order of magnitude, but the magnitudes themselves do not affect the position of the middle observation, which is the median. Hence, median is (almost) unaffected by outliers. It is for this reason that a median is a good measure of central tendency when the sample distribution is skewed (heavy towards one side). Median is a good measure for both discrete and continuous distributions.\n",
    "\n",
    "### Mode: \n",
    "The mode is the most frequent observation in the given sample. It is most suited for 'nominal' data. In case of continuous disctributions, it is highly unlikely to have the exact same value to repeat multiple times. Observations may be close, but not exactly of the same value. This would mean that we would have many observations close to each other and each of them may have equal frequency count to be the mode.\n",
    "\n",
    "Another drawback with mode is that if the frequently repeated value is isolated from most other observations in the sample, then it would not be representative of the actual magnitudes of the observations. i.e., Assume that in a given sample, an outlier/extremity has the highest frequency count, it would be the mode of the sample, however it would be an inappropriate measure of central tendency in this case. It is for this reason that mode is much more appropriate for 'nominal' data."
   ]
  },
  {
   "cell_type": "markdown",
   "metadata": {},
   "source": [
    "# Central Limit Theorem\n",
    "The main reason why statistical analysis is conducted, is to infer properties of a population by looking at the characteristics of its samples. It is said (and proved) that if the sample size is large enough, then the sample statistics tend to be more representative of the population parameters, i.e., as the size of the sample approaches the population size, the magnitude of the sample statistics (such as mean, variance, standard deviation etc.) approach the population parameters (such as population mean, variance and standard deviation).\n",
    "\n",
    "Now the central limit theorem states that if  x1¯,x2¯,x3¯...xn¯  are sample means of  n  different samples randomly drawn from the population, if  n  is large enough then, the mean of  x1¯,x2¯,x3¯...xn¯  (all the sample means) tends to approach the population mean  μ .\n",
    "\n",
    "## Importance of Central Limit Theorem\n",
    "As mentioned above, as the sample size tends to the population size, the sample mean also tends towards the population mean. However, in most real-life scenarios it is impractical to assume that we could have samples whose size would even be comparable to the population. The cost of data collection is really high and hence it would defeat the whole idea of application of any statistical model within a reasonable budget. It is for this reason, we should be able to determine the degree or extent to which the sample in hand is representative of the population. The central limit theorem, through the concept of sampling distribution tries to determine how far away a sample statistic is from its corresponding population parameter. This is measured using a score referred to as the 'Z score'.\n",
    "\n",
    "Given,\n",
    "{ x1,x2,x3...xn } are observations in the sample size   \n",
    "X  is the mean of  x1,x2,x3...xn , i.e. It is the sample mean   \n",
    "μ  is the population mean   \n",
    "σ  is the population variance   \n",
    "n  is the sample size, i.e. number of observations in the sample   \n",
    "\n",
    "then,\n",
    "\n",
    "Z-score is given by:\n",
    "\n",
    "Z=X−μ(σ/√n) \n",
    "The Z-score is calculated by normalizing the sampling distribution over the sample standard deviation. By normalize we mean, we relatively shrink (or grow) the distribution such that the total area under the distribution curve would be 1.\n",
    "\n",
    "Why would we normalize the sampling distribution? We normalize because we would like to determine the \"likelihood\" that a sample actually belongs to the population and to what degree it is representative of its population. This likelihood is calculated using probability - given all possible sample statistic values in the population, what is the possibility that my current sample is similar and representative of the population distribution. As total probability value is 1, we normalize the distribution. The total area under the curve would be equivalent to the total probability (which is 1), and the 'area under the curve', until the position of the Z-score, would be the likelihood/probability of the sample being representative of the population. Hence, the area under the curve gives us the likelihood. This is also called as 'p-value'."
   ]
  },
  {
   "cell_type": "markdown",
   "metadata": {},
   "source": [
    "The code given below provides evidence to the concept of central limit theorem. Irrespective of the population distribution, the sampling distribution of means is always normal. Execute the code given to observe this concept in action."
   ]
  },
  {
   "cell_type": "code",
   "execution_count": 6,
   "metadata": {},
   "outputs": [
    {
     "data": {
      "image/png": "[encoded data removed]",
      "text/plain": [
       "<Figure size 936x792 with 6 Axes>"
      ]
     },
     "metadata": {},
     "output_type": "display_data"
    }
   ],
   "source": [
    "# Importing all libraries and packages \n",
    "from random import sample\n",
    "\n",
    "import numpy as np\n",
    "import numpy.random as nr\n",
    "import seaborn as sns\n",
    "import matplotlib.pyplot as plt\n",
    "\n",
    "%matplotlib inline\n",
    "\n",
    "# Defining function to calculate means of various random samples\n",
    "def sampling_distribution(p,n,m):\n",
    "    smean_dist = []\n",
    "    for i in range(0,m):\n",
    "        smean_dist.append(np.mean(np.array(sample(list(p),n))))\n",
    "    return smean_dist\n",
    "\n",
    "\n",
    "# Population a having exponential distribution\n",
    "a = nr.exponential(10,50000)\n",
    "\n",
    "# Population b having uniform distribution\n",
    "b = nr.uniform(0,10,50000)\n",
    "\n",
    "# Population c having normal distribution\n",
    "c = nr.normal(0,5,50000)\n",
    "\n",
    "# List of means of a 1000 random samples from population a\n",
    "dist_1 = sampling_distribution(a,2000,1000)\n",
    "\n",
    "# List of means of a 1000 random samples from population b\n",
    "dist_2 = sampling_distribution(b,2000,1000)\n",
    "\n",
    "# List of means of a 1000 random samples from population c\n",
    "dist_3 = sampling_distribution(c,2000,1000)\n",
    "\n",
    "# Preset for seaborn plots\n",
    "sns.set(style=\"white\", palette=\"muted\", color_codes=True)\n",
    "\n",
    "# Set up the matplotlib figure\n",
    "f, axes = plt.subplots(3, 2, figsize=(13, 11))\n",
    "sns.despine(left=True)\n",
    "\n",
    "# Plotting distribution for population a\n",
    "sns.distplot(a, color=\"b\", ax=axes[0, 0], axlabel=\"Exponential\")\n",
    "\n",
    "# Plotting sampling distribution of means for various samples of a\n",
    "sns.distplot(dist_1, color=\"b\", ax=axes[0, 1], axlabel=\"Sampling Distribution for Exponential\")\n",
    "\n",
    "# Plotting distribution for population b\n",
    "sns.distplot(b, color=\"g\", ax=axes[1, 0], axlabel=\"Uniform\")\n",
    "\n",
    "# Plotting sampling distribution of means for various samples of b\n",
    "sns.distplot(dist_2, color=\"g\", ax=axes[1, 1], axlabel=\"Sampling Distribution for Uniform\")\n",
    "\n",
    "# Plotting distribution for population c\n",
    "sns.distplot(c, color=\"m\", ax=axes[2, 0], axlabel=\"Normal\")\n",
    "\n",
    "# Plotting sampling distribution of means for various samples of c\n",
    "sns.distplot(dist_3, color=\"m\", ax=axes[2, 1], axlabel=\"Sampling Distribution for Normal\")\n",
    "\n",
    "plt.setp(axes, yticks=[])\n",
    "plt.tight_layout()"
   ]
  },
  {
   "cell_type": "code",
   "execution_count": 7,
   "metadata": {},
   "outputs": [
    {
     "data": {
      "text/html": [
       "        <script type=\"text/javascript\">\n",
       "        window.PlotlyConfig = {MathJaxConfig: 'local'};\n",
       "        if (window.MathJax) {MathJax.Hub.Config({SVG: {font: \"STIX-Web\"}});}\n",
       "        if (typeof require !== 'undefined') {\n",
       "        require.undef(\"plotly\");\n",
       "        requirejs.config({\n",
       "            paths: {\n",
       "                'plotly': ['https://cdn.plot.ly/plotly-latest.min']\n",
       "            }\n",
       "        });\n",
       "        require(['plotly'], function(Plotly) {\n",
       "            window._Plotly = Plotly;\n",
       "        });\n",
       "        }\n",
       "        </script>\n",
       "        "
      ]
     },
     "metadata": {},
     "output_type": "display_data"
    },
    {
     "data": {
      "text/html": [
       "\n",
       "    <div class=\"bk-root\">\n",
       "        <a href=\"https://bokeh.org\" target=\"_blank\" class=\"bk-logo bk-logo-small bk-logo-notebook\"></a>\n",
       "        <span id=\"1001\">Loading BokehJS ...</span>\n",
       "    </div>"
      ]
     },
     "metadata": {},
     "output_type": "display_data"
    },
    {
     "data": {
      "application/javascript": [
       "\n",
       "(function(root) {\n",
       "  function now() {\n",
       "    return new Date();\n",
       "  }\n",
       "\n",
       "  var force = true;\n",
       "\n",
       "  if (typeof root._bokeh_onload_callbacks === \"undefined\" || force === true) {\n",
       "    root._bokeh_onload_callbacks = [];\n",
       "    root._bokeh_is_loading = undefined;\n",
       "  }\n",
       "\n",
       "  var JS_MIME_TYPE = 'application/javascript';\n",
       "  var HTML_MIME_TYPE = 'text/html';\n",
       "  var EXEC_MIME_TYPE = 'application/vnd.bokehjs_exec.v0+json';\n",
       "  var CLASS_NAME = 'output_bokeh rendered_html';\n",
       "\n",
       "  /**\n",
       "   * Render data to the DOM node\n",
       "   */\n",
       "  function render(props, node) {\n",
       "    var script = document.createElement(\"script\");\n",
       "    node.appendChild(script);\n",
       "  }\n",
       "\n",
       "  /**\n",
       "   * Handle when an output is cleared or removed\n",
       "   */\n",
       "  function handleClearOutput(event, handle) {\n",
       "    var cell = handle.cell;\n",
       "\n",
       "    var id = cell.output_area._bokeh_element_id;\n",
       "    var server_id = cell.output_area._bokeh_server_id;\n",
       "    // Clean up Bokeh references\n",
       "    if (id != null && id in Bokeh.index) {\n",
       "      Bokeh.index[id].model.document.clear();\n",
       "      delete Bokeh.index[id];\n",
       "    }\n",
       "\n",
       "    if (server_id !== undefined) {\n",
       "      // Clean up Bokeh references\n",
       "      var cmd = \"from bokeh.io.state import curstate; print(curstate().uuid_to_server['\" + server_id + \"'].get_sessions()[0].document.roots[0]._id)\";\n",
       "      cell.notebook.kernel.execute(cmd, {\n",
       "        iopub: {\n",
       "          output: function(msg) {\n",
       "            var id = msg.content.text.trim();\n",
       "            if (id in Bokeh.index) {\n",
       "              Bokeh.index[id].model.document.clear();\n",
       "              delete Bokeh.index[id];\n",
       "            }\n",
       "          }\n",
       "        }\n",
       "      });\n",
       "      // Destroy server and session\n",
       "      var cmd = \"import bokeh.io.notebook as ion; ion.destroy_server('\" + server_id + \"')\";\n",
       "      cell.notebook.kernel.execute(cmd);\n",
       "    }\n",
       "  }\n",
       "\n",
       "  /**\n",
       "   * Handle when a new output is added\n",
       "   */\n",
       "  function handleAddOutput(event, handle) {\n",
       "    var output_area = handle.output_area;\n",
       "    var output = handle.output;\n",
       "\n",
       "    // limit handleAddOutput to display_data with EXEC_MIME_TYPE content only\n",
       "    if ((output.output_type != \"display_data\") || (!output.data.hasOwnProperty(EXEC_MIME_TYPE))) {\n",
       "      return\n",
       "    }\n",
       "\n",
       "    var toinsert = output_area.element.find(\".\" + CLASS_NAME.split(' ')[0]);\n",
       "\n",
       "    if (output.metadata[EXEC_MIME_TYPE][\"id\"] !== undefined) {\n",
       "      toinsert[toinsert.length - 1].firstChild.textContent = output.data[JS_MIME_TYPE];\n",
       "      // store reference to embed id on output_area\n",
       "      output_area._bokeh_element_id = output.metadata[EXEC_MIME_TYPE][\"id\"];\n",
       "    }\n",
       "    if (output.metadata[EXEC_MIME_TYPE][\"server_id\"] !== undefined) {\n",
       "      var bk_div = document.createElement(\"div\");\n",
       "      bk_div.innerHTML = output.data[HTML_MIME_TYPE];\n",
       "      var script_attrs = bk_div.children[0].attributes;\n",
       "      for (var i = 0; i < script_attrs.length; i++) {\n",
       "        toinsert[toinsert.length - 1].firstChild.setAttribute(script_attrs[i].name, script_attrs[i].value);\n",
       "      }\n",
       "      // store reference to server id on output_area\n",
       "      output_area._bokeh_server_id = output.metadata[EXEC_MIME_TYPE][\"server_id\"];\n",
       "    }\n",
       "  }\n",
       "\n",
       "  function register_renderer(events, OutputArea) {\n",
       "\n",
       "    function append_mime(data, metadata, element) {\n",
       "      // create a DOM node to render to\n",
       "      var toinsert = this.create_output_subarea(\n",
       "        metadata,\n",
       "        CLASS_NAME,\n",
       "        EXEC_MIME_TYPE\n",
       "      );\n",
       "      this.keyboard_manager.register_events(toinsert);\n",
       "      // Render to node\n",
       "      var props = {data: data, metadata: metadata[EXEC_MIME_TYPE]};\n",
       "      render(props, toinsert[toinsert.length - 1]);\n",
       "      element.append(toinsert);\n",
       "      return toinsert\n",
       "    }\n",
       "\n",
       "    /* Handle when an output is cleared or removed */\n",
       "    events.on('clear_output.CodeCell', handleClearOutput);\n",
       "    events.on('delete.Cell', handleClearOutput);\n",
       "\n",
       "    /* Handle when a new output is added */\n",
       "    events.on('output_added.OutputArea', handleAddOutput);\n",
       "\n",
       "    /**\n",
       "     * Register the mime type and append_mime function with output_area\n",
       "     */\n",
       "    OutputArea.prototype.register_mime_type(EXEC_MIME_TYPE, append_mime, {\n",
       "      /* Is output safe? */\n",
       "      safe: true,\n",
       "      /* Index of renderer in `output_area.display_order` */\n",
       "      index: 0\n",
       "    });\n",
       "  }\n",
       "\n",
       "  // register the mime type if in Jupyter Notebook environment and previously unregistered\n",
       "  if (root.Jupyter !== undefined) {\n",
       "    var events = require('base/js/events');\n",
       "    var OutputArea = require('notebook/js/outputarea').OutputArea;\n",
       "\n",
       "    if (OutputArea.prototype.mime_types().indexOf(EXEC_MIME_TYPE) == -1) {\n",
       "      register_renderer(events, OutputArea);\n",
       "    }\n",
       "  }\n",
       "\n",
       "  \n",
       "  if (typeof (root._bokeh_timeout) === \"undefined\" || force === true) {\n",
       "    root._bokeh_timeout = Date.now() + 5000;\n",
       "    root._bokeh_failed_load = false;\n",
       "  }\n",
       "\n",
       "  var NB_LOAD_WARNING = {'data': {'text/html':\n",
       "     \"<div style='background-color: #fdd'>\\n\"+\n",
       "     \"<p>\\n\"+\n",
       "     \"BokehJS does not appear to have successfully loaded. If loading BokehJS from CDN, this \\n\"+\n",
       "     \"may be due to a slow or bad network connection. Possible fixes:\\n\"+\n",
       "     \"</p>\\n\"+\n",
       "     \"<ul>\\n\"+\n",
       "     \"<li>re-rerun `output_notebook()` to attempt to load from CDN again, or</li>\\n\"+\n",
       "     \"<li>use INLINE resources instead, as so:</li>\\n\"+\n",
       "     \"</ul>\\n\"+\n",
       "     \"<code>\\n\"+\n",
       "     \"from bokeh.resources import INLINE\\n\"+\n",
       "     \"output_notebook(resources=INLINE)\\n\"+\n",
       "     \"</code>\\n\"+\n",
       "     \"</div>\"}};\n",
       "\n",
       "  function display_loaded() {\n",
       "    var el = document.getElementById(\"1001\");\n",
       "    if (el != null) {\n",
       "      el.textContent = \"BokehJS is loading...\";\n",
       "    }\n",
       "    if (root.Bokeh !== undefined) {\n",
       "      if (el != null) {\n",
       "        el.textContent = \"BokehJS \" + root.Bokeh.version + \" successfully loaded.\";\n",
       "      }\n",
       "    } else if (Date.now() < root._bokeh_timeout) {\n",
       "      setTimeout(display_loaded, 100)\n",
       "    }\n",
       "  }\n",
       "\n",
       "\n",
       "  function run_callbacks() {\n",
       "    try {\n",
       "      root._bokeh_onload_callbacks.forEach(function(callback) {\n",
       "        if (callback != null)\n",
       "          callback();\n",
       "      });\n",
       "    } finally {\n",
       "      delete root._bokeh_onload_callbacks\n",
       "    }\n",
       "    console.debug(\"Bokeh: all callbacks have finished\");\n",
       "  }\n",
       "\n",
       "  function load_libs(css_urls, js_urls, callback) {\n",
       "    if (css_urls == null) css_urls = [];\n",
       "    if (js_urls == null) js_urls = [];\n",
       "\n",
       "    root._bokeh_onload_callbacks.push(callback);\n",
       "    if (root._bokeh_is_loading > 0) {\n",
       "      console.debug(\"Bokeh: BokehJS is being loaded, scheduling callback at\", now());\n",
       "      return null;\n",
       "    }\n",
       "    if (js_urls == null || js_urls.length === 0) {\n",
       "      run_callbacks();\n",
       "      return null;\n",
       "    }\n",
       "    console.debug(\"Bokeh: BokehJS not loaded, scheduling load and callback at\", now());\n",
       "    root._bokeh_is_loading = css_urls.length + js_urls.length;\n",
       "\n",
       "    function on_load() {\n",
       "      root._bokeh_is_loading--;\n",
       "      if (root._bokeh_is_loading === 0) {\n",
       "        console.debug(\"Bokeh: all BokehJS libraries/stylesheets loaded\");\n",
       "        run_callbacks()\n",
       "      }\n",
       "    }\n",
       "\n",
       "    function on_error() {\n",
       "      console.error(\"failed to load \" + url);\n",
       "    }\n",
       "\n",
       "    for (var i = 0; i < css_urls.length; i++) {\n",
       "      var url = css_urls[i];\n",
       "      const element = document.createElement(\"link\");\n",
       "      element.onload = on_load;\n",
       "      element.onerror = on_error;\n",
       "      element.rel = \"stylesheet\";\n",
       "      element.type = \"text/css\";\n",
       "      element.href = url;\n",
       "      console.debug(\"Bokeh: injecting link tag for BokehJS stylesheet: \", url);\n",
       "      document.body.appendChild(element);\n",
       "    }\n",
       "\n",
       "    for (var i = 0; i < js_urls.length; i++) {\n",
       "      var url = js_urls[i];\n",
       "      var element = document.createElement('script');\n",
       "      element.onload = on_load;\n",
       "      element.onerror = on_error;\n",
       "      element.async = false;\n",
       "      element.src = url;\n",
       "      console.debug(\"Bokeh: injecting script tag for BokehJS library: \", url);\n",
       "      document.head.appendChild(element);\n",
       "    }\n",
       "  };var element = document.getElementById(\"1001\");\n",
       "  if (element == null) {\n",
       "    console.error(\"Bokeh: ERROR: autoload.js configured with elementid '1001' but no matching script tag was found. \")\n",
       "    return false;\n",
       "  }\n",
       "\n",
       "  function inject_raw_css(css) {\n",
       "    const element = document.createElement(\"style\");\n",
       "    element.appendChild(document.createTextNode(css));\n",
       "    document.body.appendChild(element);\n",
       "  }\n",
       "\n",
       "  \n",
       "  var js_urls = [\"https://cdn.pydata.org/bokeh/release/bokeh-1.4.0.min.js\", \"https://cdn.pydata.org/bokeh/release/bokeh-widgets-1.4.0.min.js\", \"https://cdn.pydata.org/bokeh/release/bokeh-tables-1.4.0.min.js\", \"https://cdn.pydata.org/bokeh/release/bokeh-gl-1.4.0.min.js\"];\n",
       "  var css_urls = [];\n",
       "  \n",
       "\n",
       "  var inline_js = [\n",
       "    function(Bokeh) {\n",
       "      Bokeh.set_log_level(\"info\");\n",
       "    },\n",
       "    function(Bokeh) {\n",
       "    \n",
       "    \n",
       "    }\n",
       "  ];\n",
       "\n",
       "  function run_inline_js() {\n",
       "    \n",
       "    if (root.Bokeh !== undefined || force === true) {\n",
       "      \n",
       "    for (var i = 0; i < inline_js.length; i++) {\n",
       "      inline_js[i].call(root, root.Bokeh);\n",
       "    }\n",
       "    if (force === true) {\n",
       "        display_loaded();\n",
       "      }} else if (Date.now() < root._bokeh_timeout) {\n",
       "      setTimeout(run_inline_js, 100);\n",
       "    } else if (!root._bokeh_failed_load) {\n",
       "      console.log(\"Bokeh: BokehJS failed to load within specified timeout.\");\n",
       "      root._bokeh_failed_load = true;\n",
       "    } else if (force !== true) {\n",
       "      var cell = $(document.getElementById(\"1001\")).parents('.cell').data().cell;\n",
       "      cell.output_area.append_execute_result(NB_LOAD_WARNING)\n",
       "    }\n",
       "\n",
       "  }\n",
       "\n",
       "  if (root._bokeh_is_loading === 0) {\n",
       "    console.debug(\"Bokeh: BokehJS loaded, going straight to plotting\");\n",
       "    run_inline_js();\n",
       "  } else {\n",
       "    load_libs(css_urls, js_urls, function() {\n",
       "      console.debug(\"Bokeh: BokehJS plotting callback run at\", now());\n",
       "      run_inline_js();\n",
       "    });\n",
       "  }\n",
       "}(window));"
      ],
      "application/vnd.bokehjs_load.v0+json": "\n(function(root) {\n  function now() {\n    return new Date();\n  }\n\n  var force = true;\n\n  if (typeof root._bokeh_onload_callbacks === \"undefined\" || force === true) {\n    root._bokeh_onload_callbacks = [];\n    root._bokeh_is_loading = undefined;\n  }\n\n  \n\n  \n  if (typeof (root._bokeh_timeout) === \"undefined\" || force === true) {\n    root._bokeh_timeout = Date.now() + 5000;\n    root._bokeh_failed_load = false;\n  }\n\n  var NB_LOAD_WARNING = {'data': {'text/html':\n     \"<div style='background-color: #fdd'>\\n\"+\n     \"<p>\\n\"+\n     \"BokehJS does not appear to have successfully loaded. If loading BokehJS from CDN, this \\n\"+\n     \"may be due to a slow or bad network connection. Possible fixes:\\n\"+\n     \"</p>\\n\"+\n     \"<ul>\\n\"+\n     \"<li>re-rerun `output_notebook()` to attempt to load from CDN again, or</li>\\n\"+\n     \"<li>use INLINE resources instead, as so:</li>\\n\"+\n     \"</ul>\\n\"+\n     \"<code>\\n\"+\n     \"from bokeh.resources import INLINE\\n\"+\n     \"output_notebook(resources=INLINE)\\n\"+\n     \"</code>\\n\"+\n     \"</div>\"}};\n\n  function display_loaded() {\n    var el = document.getElementById(\"1001\");\n    if (el != null) {\n      el.textContent = \"BokehJS is loading...\";\n    }\n    if (root.Bokeh !== undefined) {\n      if (el != null) {\n        el.textContent = \"BokehJS \" + root.Bokeh.version + \" successfully loaded.\";\n      }\n    } else if (Date.now() < root._bokeh_timeout) {\n      setTimeout(display_loaded, 100)\n    }\n  }\n\n\n  function run_callbacks() {\n    try {\n      root._bokeh_onload_callbacks.forEach(function(callback) {\n        if (callback != null)\n          callback();\n      });\n    } finally {\n      delete root._bokeh_onload_callbacks\n    }\n    console.debug(\"Bokeh: all callbacks have finished\");\n  }\n\n  function load_libs(css_urls, js_urls, callback) {\n    if (css_urls == null) css_urls = [];\n    if (js_urls == null) js_urls = [];\n\n    root._bokeh_onload_callbacks.push(callback);\n    if (root._bokeh_is_loading > 0) {\n      console.debug(\"Bokeh: BokehJS is being loaded, scheduling callback at\", now());\n      return null;\n    }\n    if (js_urls == null || js_urls.length === 0) {\n      run_callbacks();\n      return null;\n    }\n    console.debug(\"Bokeh: BokehJS not loaded, scheduling load and callback at\", now());\n    root._bokeh_is_loading = css_urls.length + js_urls.length;\n\n    function on_load() {\n      root._bokeh_is_loading--;\n      if (root._bokeh_is_loading === 0) {\n        console.debug(\"Bokeh: all BokehJS libraries/stylesheets loaded\");\n        run_callbacks()\n      }\n    }\n\n    function on_error() {\n      console.error(\"failed to load \" + url);\n    }\n\n    for (var i = 0; i < css_urls.length; i++) {\n      var url = css_urls[i];\n      const element = document.createElement(\"link\");\n      element.onload = on_load;\n      element.onerror = on_error;\n      element.rel = \"stylesheet\";\n      element.type = \"text/css\";\n      element.href = url;\n      console.debug(\"Bokeh: injecting link tag for BokehJS stylesheet: \", url);\n      document.body.appendChild(element);\n    }\n\n    for (var i = 0; i < js_urls.length; i++) {\n      var url = js_urls[i];\n      var element = document.createElement('script');\n      element.onload = on_load;\n      element.onerror = on_error;\n      element.async = false;\n      element.src = url;\n      console.debug(\"Bokeh: injecting script tag for BokehJS library: \", url);\n      document.head.appendChild(element);\n    }\n  };var element = document.getElementById(\"1001\");\n  if (element == null) {\n    console.error(\"Bokeh: ERROR: autoload.js configured with elementid '1001' but no matching script tag was found. \")\n    return false;\n  }\n\n  function inject_raw_css(css) {\n    const element = document.createElement(\"style\");\n    element.appendChild(document.createTextNode(css));\n    document.body.appendChild(element);\n  }\n\n  \n  var js_urls = [\"https://cdn.pydata.org/bokeh/release/bokeh-1.4.0.min.js\", \"https://cdn.pydata.org/bokeh/release/bokeh-widgets-1.4.0.min.js\", \"https://cdn.pydata.org/bokeh/release/bokeh-tables-1.4.0.min.js\", \"https://cdn.pydata.org/bokeh/release/bokeh-gl-1.4.0.min.js\"];\n  var css_urls = [];\n  \n\n  var inline_js = [\n    function(Bokeh) {\n      Bokeh.set_log_level(\"info\");\n    },\n    function(Bokeh) {\n    \n    \n    }\n  ];\n\n  function run_inline_js() {\n    \n    if (root.Bokeh !== undefined || force === true) {\n      \n    for (var i = 0; i < inline_js.length; i++) {\n      inline_js[i].call(root, root.Bokeh);\n    }\n    if (force === true) {\n        display_loaded();\n      }} else if (Date.now() < root._bokeh_timeout) {\n      setTimeout(run_inline_js, 100);\n    } else if (!root._bokeh_failed_load) {\n      console.log(\"Bokeh: BokehJS failed to load within specified timeout.\");\n      root._bokeh_failed_load = true;\n    } else if (force !== true) {\n      var cell = $(document.getElementById(\"1001\")).parents('.cell').data().cell;\n      cell.output_area.append_execute_result(NB_LOAD_WARNING)\n    }\n\n  }\n\n  if (root._bokeh_is_loading === 0) {\n    console.debug(\"Bokeh: BokehJS loaded, going straight to plotting\");\n    run_inline_js();\n  } else {\n    load_libs(css_urls, js_urls, function() {\n      console.debug(\"Bokeh: BokehJS plotting callback run at\", now());\n      run_inline_js();\n    });\n  }\n}(window));"
     },
     "metadata": {},
     "output_type": "display_data"
    }
   ],
   "source": [
    "import numpy as np \n",
    "from scipy.spatial import distance\n",
    "\n",
    "from ipywidgets import interact, interactive, fixed, interact_manual\n",
    "import ipywidgets as widgets\n",
    " \n",
    "from plotly.offline import download_plotlyjs, init_notebook_mode, plot, iplot\n",
    "from plotly import graph_objs as go\n",
    "init_notebook_mode(connected=True)\n",
    "import numpy as np\n",
    "\n",
    "import random\n",
    "\n",
    "from IPython.display import display, Math\n",
    "\n",
    "from bokeh.io import show, output_notebook, reset_output\n",
    "from bokeh.plotting import figure, show\n",
    "from scipy.stats import norm \n",
    "from bokeh import plotting as pl\n",
    "from bokeh.models import HoverTool, Arrow, OpenHead, NormalHead, VeeHead, Span, ColumnDataSource, PointDrawTool, TableColumn,  DataTable\n",
    "\n",
    "reset_output()\n",
    "output_notebook()"
   ]
  },
  {
   "cell_type": "markdown",
   "metadata": {},
   "source": [
    "# Introduction to Statistics\n",
    "In order for us to apply anything in statistics we first need to speak the language of statistics. With that in mind, in this notebook we are going to cover the following core concepts and vocabulary -\n",
    "\n",
    "Basic definitions - Population and sampling   \n",
    "Sampling distributions   \n",
    "Standard Error   \n",
    "## Basic Definitions- Population and Sampling\n",
    "One of the most important concepts to understand in statistics is the concept of population.\n",
    "\n",
    "A population is typically a collection of information with at least one property being in common. For this lets take a simple example- take for example a dataset of people's weights. We will call this population P. Let's say P is -\n",
    "\n",
    "[87,343,43,45,24,234,24,25,53,93] all in the units of pounds\n",
    "\n",
    "A single number in the population P is called an element. In population P, the common property between each element is that each element represents the weight of a person. Without this similarity, it would be difficult for us to make any use of a population, since we have nothing in common between each element of the population.\n",
    "\n",
    "Let us now go to a more complex example. Time to go to our old friend - the iris dataset."
   ]
  },
  {
   "cell_type": "code",
   "execution_count": 8,
   "metadata": {},
   "outputs": [
    {
     "name": "stdout",
     "output_type": "stream",
     "text": [
      "The size of the iris dataset is: 150 elements long\n"
     ]
    },
    {
     "data": {
      "text/html": [
       "<div>\n",
       "<style scoped>\n",
       "    .dataframe tbody tr th:only-of-type {\n",
       "        vertical-align: middle;\n",
       "    }\n",
       "\n",
       "    .dataframe tbody tr th {\n",
       "        vertical-align: top;\n",
       "    }\n",
       "\n",
       "    .dataframe thead th {\n",
       "        text-align: right;\n",
       "    }\n",
       "</style>\n",
       "<table border=\"1\" class=\"dataframe\">\n",
       "  <thead>\n",
       "    <tr style=\"text-align: right;\">\n",
       "      <th></th>\n",
       "      <th>sepal length (cm)</th>\n",
       "      <th>sepal width (cm)</th>\n",
       "      <th>petal length (cm)</th>\n",
       "      <th>petal width (cm)</th>\n",
       "    </tr>\n",
       "  </thead>\n",
       "  <tbody>\n",
       "    <tr>\n",
       "      <th>0</th>\n",
       "      <td>5.1</td>\n",
       "      <td>3.5</td>\n",
       "      <td>1.4</td>\n",
       "      <td>0.2</td>\n",
       "    </tr>\n",
       "    <tr>\n",
       "      <th>1</th>\n",
       "      <td>4.9</td>\n",
       "      <td>3.0</td>\n",
       "      <td>1.4</td>\n",
       "      <td>0.2</td>\n",
       "    </tr>\n",
       "    <tr>\n",
       "      <th>2</th>\n",
       "      <td>4.7</td>\n",
       "      <td>3.2</td>\n",
       "      <td>1.3</td>\n",
       "      <td>0.2</td>\n",
       "    </tr>\n",
       "    <tr>\n",
       "      <th>3</th>\n",
       "      <td>4.6</td>\n",
       "      <td>3.1</td>\n",
       "      <td>1.5</td>\n",
       "      <td>0.2</td>\n",
       "    </tr>\n",
       "    <tr>\n",
       "      <th>4</th>\n",
       "      <td>5.0</td>\n",
       "      <td>3.6</td>\n",
       "      <td>1.4</td>\n",
       "      <td>0.2</td>\n",
       "    </tr>\n",
       "  </tbody>\n",
       "</table>\n",
       "</div>"
      ],
      "text/plain": [
       "   sepal length (cm)  sepal width (cm)  petal length (cm)  petal width (cm)\n",
       "0                5.1               3.5                1.4               0.2\n",
       "1                4.9               3.0                1.4               0.2\n",
       "2                4.7               3.2                1.3               0.2\n",
       "3                4.6               3.1                1.5               0.2\n",
       "4                5.0               3.6                1.4               0.2"
      ]
     },
     "execution_count": 8,
     "metadata": {},
     "output_type": "execute_result"
    }
   ],
   "source": [
    "from sklearn import datasets\n",
    "import pandas as pd \n",
    "\n",
    "iris = datasets.load_iris()\n",
    "iris_dataframe = pd.DataFrame(data = iris.data, columns=iris.feature_names)\n",
    "print(\"The size of the iris dataset is:\",len(iris_dataframe), \"elements long\")\n",
    "iris_dataframe.head()"
   ]
  },
  {
   "cell_type": "markdown",
   "metadata": {},
   "source": [
    "Question: If we consider the iris dataset as a population, what do you think would be the common property of the population? What would you consider as a single element of the population?\n",
    "\n",
    "Answer: The common property within the iris dataset is the flower measurements. Each row of the data has the same features- [sepal length , sepal width , petal length, petal width ]. We can safely assume that each entry in this dataset corresponds to the measurements of a flower. That also answers our section question- unlike the weights dataset, where a single number was the element of the population, here a single row of the dataset is a single element of the population.\n",
    "\n",
    "Now that we have defined a population, we can start talking about sampling. Let us go back to our population P. We can break our population into smaller group of numbers. This process is called sampling. For example, from P if we pick two elements such that\n",
    "P = [87,343,43,45,24,234,24,25,53,93]\n",
    "Q = [24, 53]\n",
    "\n",
    "In statistical language we would say that Q is a sample of the population P. This is because Q contains a few elements of the population P.\n",
    "\n",
    "Let us look at another example that may help you visualize this. Let us suppose there are 100 balls in a bucket. These 100 balls in the bucket would be the population. Selecting 20 balls from that bucket is the process of sampling from the population, and the collection of 20 balls would be called a sample of the population.\n",
    "\n",
    "So the process of sampling from the population can be done in really two ways- Random sampling and Non-random sampling. Random sampling is when we pick sample from the population at random. What we did previously in generating Q was an example of random sampling, where we just decided, let us pick two elements from the population and create the sample Q. The point is that there was no bias in picking those numbers. We did not, for example, pick two numbers just because they were next to each other. Nor did we say that we pick the largest number and the smallest number and generate a sample out of them, that would be an example of non-random sampling.\n",
    "\n",
    "How would you do Random sampling on a computer? - In case of P we would assign an index to each element of the population and then use a random number generator to generate two random numbers. Pull those values for those indicies and viola, we would have our set.\n",
    "\n",
    "Let us try this with P - For this exercise we will introduce the python package called random. This package, amongst other rather invaluable functions, lets us generate random numbers."
   ]
  },
  {
   "cell_type": "code",
   "execution_count": 9,
   "metadata": {},
   "outputs": [
    {
     "name": "stdout",
     "output_type": "stream",
     "text": [
      "randomly generated indices  3 10\n",
      "The sample Q of the poplution P is [43, 93]\n"
     ]
    }
   ],
   "source": [
    "import random\n",
    "\n",
    "P = [87,343,43,45,24,234,24,25,53,93] \n",
    "\n",
    "# we can assign a index to each element of P. In some way, since its a list, its already indexed. \n",
    "# For example 87 is the 1st element of P,  343 is the 2nd element, 43 is the 3rd element and so on \n",
    "# So lets start by generating two random numbers between 1 and 10. \n",
    "\n",
    "random.seed(1)\n",
    "index_1 =  random.randint(1,10)\n",
    "index_2  = random.randint(1,10)\n",
    "\n",
    "print(\"randomly generated indices \", index_1, index_2)\n",
    "\n",
    "# note these numbers will change if you change the random seed. \n",
    "#If you dont provide a random seed you will not be able to generate the same random numbers \n",
    "#Now that we have the random numbers, lets build a sample from our population. \n",
    "\n",
    "Q = [ P[index_1-1],  P[index_2-1]] \n",
    "\n",
    "print(\"The sample Q of the poplution P is\",  Q )\n",
    "\n",
    "# you can change the seed value to generate new samples of population P "
   ]
  },
  {
   "cell_type": "markdown",
   "metadata": {},
   "source": [
    "### The 'Pythonic' way\n",
    "Of course since you are using python, there is always a clever and lazy way of doing this which is to use the sample function in \"random\" library"
   ]
  },
  {
   "cell_type": "code",
   "execution_count": 10,
   "metadata": {},
   "outputs": [
    {
     "data": {
      "text/plain": [
       "[343, 24]"
      ]
     },
     "execution_count": 10,
     "metadata": {},
     "output_type": "execute_result"
    }
   ],
   "source": [
    "random.sample(P,2)   "
   ]
  },
  {
   "cell_type": "markdown",
   "metadata": {},
   "source": [
    "#### Exercise\n",
    "Question : Now that we have seen how to generate random samples from a datasets, can you generate 5 random samples from the population P?"
   ]
  },
  {
   "cell_type": "code",
   "execution_count": 11,
   "metadata": {},
   "outputs": [
    {
     "name": "stdout",
     "output_type": "stream",
     "text": [
      "5 samples from population P - [343, 25] [25, 93] [24, 45] [343, 25] [87, 24]\n"
     ]
    }
   ],
   "source": [
    "sample1 =  random.sample(P,2)\n",
    "sample2 =  random.sample(P,2)\n",
    "sample3 =  random.sample(P,2)\n",
    "sample4 =  random.sample(P,2)\n",
    "sample5 =  random.sample(P,2)\n",
    "\n",
    "print(\"5 samples from population P -\", sample1, sample2, sample3, sample4, sample5)"
   ]
  },
  {
   "cell_type": "markdown",
   "metadata": {},
   "source": [
    "Now that you know how to randomly sample from population P lets try to see if you can do the same with the iris dataset. Keep in mind that the iris dataset is NOT a list, its a pandas dataframe. As a reminder, Just run type(iris_dataframe) to check its type.\n",
    "\n",
    "#### Exercise\n",
    "Question: Can you randomly sample the iris_dataframe?\n",
    "\n"
   ]
  },
  {
   "cell_type": "code",
   "execution_count": 12,
   "metadata": {},
   "outputs": [
    {
     "data": {
      "text/html": [
       "<div>\n",
       "<style scoped>\n",
       "    .dataframe tbody tr th:only-of-type {\n",
       "        vertical-align: middle;\n",
       "    }\n",
       "\n",
       "    .dataframe tbody tr th {\n",
       "        vertical-align: top;\n",
       "    }\n",
       "\n",
       "    .dataframe thead th {\n",
       "        text-align: right;\n",
       "    }\n",
       "</style>\n",
       "<table border=\"1\" class=\"dataframe\">\n",
       "  <thead>\n",
       "    <tr style=\"text-align: right;\">\n",
       "      <th></th>\n",
       "      <th>sepal length (cm)</th>\n",
       "      <th>sepal width (cm)</th>\n",
       "      <th>petal length (cm)</th>\n",
       "      <th>petal width (cm)</th>\n",
       "    </tr>\n",
       "  </thead>\n",
       "  <tbody>\n",
       "    <tr>\n",
       "      <th>14</th>\n",
       "      <td>5.8</td>\n",
       "      <td>4.0</td>\n",
       "      <td>1.2</td>\n",
       "      <td>0.2</td>\n",
       "    </tr>\n",
       "    <tr>\n",
       "      <th>98</th>\n",
       "      <td>5.1</td>\n",
       "      <td>2.5</td>\n",
       "      <td>3.0</td>\n",
       "      <td>1.1</td>\n",
       "    </tr>\n",
       "  </tbody>\n",
       "</table>\n",
       "</div>"
      ],
      "text/plain": [
       "    sepal length (cm)  sepal width (cm)  petal length (cm)  petal width (cm)\n",
       "14                5.8               4.0                1.2               0.2\n",
       "98                5.1               2.5                3.0               1.1"
      ]
     },
     "execution_count": 12,
     "metadata": {},
     "output_type": "execute_result"
    }
   ],
   "source": [
    "df_sample = iris_dataframe.sample(n=2,random_state=1)\n",
    "df_sample.head()"
   ]
  },
  {
   "cell_type": "markdown",
   "metadata": {},
   "source": [
    "In the above code, argument n is the number of elements in the sample and the the random_state helps us fix the sequence of random numbers that are being generated. This is fairly useful feature, especially when you want to test our certain approaches on the sample elements of a dataset. The random_state argument is equivalent to the seed function in the \"random\" library\n",
    "\n",
    "Of course, there is no reason that our sample has to be 2 units large, we can have samples of various sizes. In case of the iris set, just change the value of \"n\" and you can generate samples of whatever length you desire.\n",
    "\n",
    "#### Question : \n",
    "One question to ponder over would be, what is the largest sample that you can pull from a population. So given the iris dataset, what would be the size of the largest sample?\n",
    "\n",
    "#### Answer: \n",
    "This is actually a super interesting question. The answer to this question leads us nicely to our next topic of discussion. To answer this lets actually try it out. So the iris dataset is 150 elements long. When we type in \"n =151\" we get an interesting error."
   ]
  },
  {
   "cell_type": "code",
   "execution_count": 13,
   "metadata": {},
   "outputs": [
    {
     "ename": "ValueError",
     "evalue": "Cannot take a larger sample than population when 'replace=False'",
     "output_type": "error",
     "traceback": [
      "\u001b[1;31m---------------------------------------------------------------------------\u001b[0m",
      "\u001b[1;31mValueError\u001b[0m                                Traceback (most recent call last)",
      "\u001b[1;32m<ipython-input-13-4ba15a231c81>\u001b[0m in \u001b[0;36m<module>\u001b[1;34m\u001b[0m\n\u001b[1;32m----> 1\u001b[1;33m \u001b[0miris_dataframe\u001b[0m\u001b[1;33m.\u001b[0m\u001b[0msample\u001b[0m\u001b[1;33m(\u001b[0m\u001b[0mn\u001b[0m\u001b[1;33m=\u001b[0m\u001b[1;36m151\u001b[0m\u001b[1;33m,\u001b[0m \u001b[0mrandom_state\u001b[0m\u001b[1;33m=\u001b[0m\u001b[1;36m2\u001b[0m\u001b[1;33m,\u001b[0m\u001b[0mreplace\u001b[0m\u001b[1;33m=\u001b[0m\u001b[1;32mFalse\u001b[0m\u001b[1;33m)\u001b[0m\u001b[1;33m\u001b[0m\u001b[1;33m\u001b[0m\u001b[0m\n\u001b[0m",
      "\u001b[1;32m~\\anaconda3\\lib\\site-packages\\pandas\\core\\generic.py\u001b[0m in \u001b[0;36msample\u001b[1;34m(self, n, frac, replace, weights, random_state, axis)\u001b[0m\n\u001b[0;32m   5059\u001b[0m             )\n\u001b[0;32m   5060\u001b[0m \u001b[1;33m\u001b[0m\u001b[0m\n\u001b[1;32m-> 5061\u001b[1;33m         \u001b[0mlocs\u001b[0m \u001b[1;33m=\u001b[0m \u001b[0mrs\u001b[0m\u001b[1;33m.\u001b[0m\u001b[0mchoice\u001b[0m\u001b[1;33m(\u001b[0m\u001b[0maxis_length\u001b[0m\u001b[1;33m,\u001b[0m \u001b[0msize\u001b[0m\u001b[1;33m=\u001b[0m\u001b[0mn\u001b[0m\u001b[1;33m,\u001b[0m \u001b[0mreplace\u001b[0m\u001b[1;33m=\u001b[0m\u001b[0mreplace\u001b[0m\u001b[1;33m,\u001b[0m \u001b[0mp\u001b[0m\u001b[1;33m=\u001b[0m\u001b[0mweights\u001b[0m\u001b[1;33m)\u001b[0m\u001b[1;33m\u001b[0m\u001b[1;33m\u001b[0m\u001b[0m\n\u001b[0m\u001b[0;32m   5062\u001b[0m         \u001b[1;32mreturn\u001b[0m \u001b[0mself\u001b[0m\u001b[1;33m.\u001b[0m\u001b[0mtake\u001b[0m\u001b[1;33m(\u001b[0m\u001b[0mlocs\u001b[0m\u001b[1;33m,\u001b[0m \u001b[0maxis\u001b[0m\u001b[1;33m=\u001b[0m\u001b[0maxis\u001b[0m\u001b[1;33m)\u001b[0m\u001b[1;33m\u001b[0m\u001b[1;33m\u001b[0m\u001b[0m\n\u001b[0;32m   5063\u001b[0m \u001b[1;33m\u001b[0m\u001b[0m\n",
      "\u001b[1;32mmtrand.pyx\u001b[0m in \u001b[0;36mmtrand.RandomState.choice\u001b[1;34m()\u001b[0m\n",
      "\u001b[1;31mValueError\u001b[0m: Cannot take a larger sample than population when 'replace=False'"
     ]
    }
   ],
   "source": [
    "iris_dataframe.sample(n=151, random_state=2,replace=False)"
   ]
  },
  {
   "cell_type": "markdown",
   "metadata": {},
   "source": [
    "Let us read this error carefully. Firstly this is a value error, which means that some number stored with in sample function is wrong, secondly we know that the error is in the sample function since...well python tells us so. The value error also gives us a suggestion- \"Cannot take a larger sample than population when 'replace=False'\". What is this whole business of setting \"replace = False\"."
   ]
  },
  {
   "cell_type": "markdown",
   "metadata": {},
   "source": [
    "# Sampling with and without replacement\n",
    "So as we take random samples from a population there are two ways that we can do it-\n",
    "With replacement - where we add elements of the same value back into population <\\li>\n",
    "Without replacement- where once we remove them from the population we do not replace the elements <\\li>\n",
    "So for example going back to our population P, when we create the sample Q from P, we were doing that with replacement. What we did was we took out two elements from P and put back the same elements, at the same spot, back into P. The second part of that statement is super important. We put the elements back at the same spot. We did NOT change the order of the the elements in the population. This is an essentially trait of the with replacement process.\n",
    "\n",
    "If we do this without replacement, we would end up with something like this -\n",
    "\n",
    "P = [87,343,43,45,234,24,25,93] Q = [24, 53]\n",
    "\n",
    "Now there are just 8 elements in P, since we have removed two elements from P and formed the sample Q. Since P is a finite dataset, there are only so many times that we can sample from P. In this case basically about 5 times. Beyond that, we can sample it since P will be empty, i.e it becomes a null set.\n",
    "\n",
    "Now here is a fun question to think about -\n",
    "\n",
    "Question: What happens if you sample with replacement from an infinite dataset, for example- collection of all real numbers?\n",
    "\n",
    "Answer: This is where an already definition of with and without replacement comes in. We can say that with replacement essentially lets us choose an element of a population infinite number of times whereas without replacement lets us choose that number only once.\n",
    "\n",
    "Another thing to keep in mind is that population can themselves be finite or infinite. As we alluded to above, P is an finite population. The collection of all real numbers is an infinite population.\n",
    "\n",
    "Question: Is the collection of all coin tosses a finite or infinite population?\n",
    "\n",
    "Answer: All coin tosses would be an infinite population since I can keep tossing coins forever. The thing is that I really cannot count how many coins are there and how many times have I tossed them. Now If I fix the number of times I toss a coin and the number of coins I am tossing then its finite, BUT that is a sample of an infinite population which represent all coin tosses. Its a mind bender if you really think about it!\n",
    "\n",
    "# Sampling Distributions\n",
    "So far we have been talking about sampling from a population and samples. The reason we care about samples is because most of the time in real life we can get information about population. For example, if we want to study the problem of obesity in the world, there are only so many people whose weights we can know. We can go to every hospital in the world, collect all the data about patients, even then we would not have the information about everyone. Its just not feasible of to do so. At best we are going to have data of about 80% or 90% of all the people in the world. In the language of statistics, we would essentially have a sample whose size is 80% or 90% the size of the population.\n",
    "\n",
    "Once we have a sample we can do various measurements on the sample. These measurements (or more formally referred to as measures ) are called statistics. For example the mean of sample would be a type of \"statistic\", other examples of measures are-standard deviation, standard error. We will look at some of these in a little while.\n",
    "\n",
    "Since we do not always have access to population, the measurements we make on the sample, we say, is representative of the measurements we make on the population. This leads to the idea that sample is representative of the population. Of course, it is our responsibility to ensure that the sample large enough represent the population. A sample size of 1 element would not be a a representation of the population.\n",
    "\n",
    "In order to discuss sampling distribution, let us look at a finite population where we randomly sample with replacement.\n",
    "\n",
    "Lets do this with the iris dataset, suppose we take N samples from the iris dataset, and then take means of each sample. We can plot these means in an distribution, such a distribution is called a sampling distribution. More specifically this would be a sampling distribution of means.\n",
    "\n",
    "We will make things easier by just looking at 1 feature (i.e column) of the iris dataset. In the visualization below we can select for which column of the dataset we want the sampling distribution of means. We also have slider that controls the number number of times we are sampling from the population and the sample size as well."
   ]
  },
  {
   "cell_type": "code",
   "execution_count": 14,
   "metadata": {},
   "outputs": [
    {
     "data": {
      "application/vnd.jupyter.widget-view+json": {
       "model_id": "f66ebaf39b1349268794d22bcdfcd2ac",
       "version_major": 2,
       "version_minor": 0
      },
      "text/plain": [
       "interactive(children=(RadioButtons(description='Iris Column', options=('sepal length (cm)', 'sepal width (cm)'…"
      ]
     },
     "metadata": {},
     "output_type": "display_data"
    },
    {
     "data": {
      "text/plain": [
       "<function __main__.bin_count_variation(x, ssize, nsamples)>"
      ]
     },
     "execution_count": 14,
     "metadata": {},
     "output_type": "execute_result"
    }
   ],
   "source": [
    "def for_column(x,ssize, nsamples): \n",
    "    \n",
    "    \n",
    "    population  = iris_dataframe[x]\n",
    "    samples = []\n",
    "    means= [] \n",
    "    \n",
    "    for i in range(0,nsamples):\n",
    "        single_sample =population.sample(n = ssize) \n",
    "        samples.append(single_sample) \n",
    "        means.append(single_sample.mean())\n",
    "\n",
    "    \n",
    "        \n",
    "    return x,means\n",
    "\n",
    "\n",
    "def bin_count_variation(x, ssize, nsamples):\n",
    "    x,means = for_column(x,ssize, nsamples)\n",
    "    counts,sample_means= np.histogram(means,20)\n",
    "    normalized_counts = counts/sum(counts)\n",
    "    \n",
    "    data = [go.Bar( x=sample_means, y=normalized_counts)]\n",
    "    layout = go.Layout(title=\"Sampling distribution of mean\", xaxis = {\"title\": \"Sample means\",\n",
    "                                                                        \"range\": [0,8]}\n",
    "                                                            , yaxis= {\"title\": \"Count\" ,         \n",
    "                                                                       \"range\": [0,0.3]         \n",
    "                                                                                })\n",
    "    figure = go.Figure(data = data, layout = layout)\n",
    "    iplot(figure,filename = \"sampling distribution of mean\")\n",
    "    \n",
    "    return \n",
    "\n",
    "\n",
    "\n",
    "\n",
    "interact(bin_count_variation,\n",
    "        x=  widgets.RadioButtons(options=[x for x in  iris_dataframe.columns] ,\n",
    "            description='Iris Column',\n",
    "            disabled=False\n",
    "            ),  \n",
    "        ssize=widgets.IntSlider(min=5,max=30,step=1,value=10, description = \"Sample_size\", continuous_update =False), \n",
    "        nsamples=widgets.IntSlider(min=10,max=10000,step=1,value=10, description = \"Num of samples\", continuous_update =False), continuous_update =False)\n",
    "\n"
   ]
  },
  {
   "cell_type": "markdown",
   "metadata": {},
   "source": [
    "Question : Next let us do some fun sanity check with our sampling distribution. Can you calculate the mean of the the sampling distribution of the mean. Compare it with the mean of the population? Now this is a hard question so let me break it down a bit. What you have to do first is -\n",
    "\n",
    "1) Calculate the sample distribution of means   \n",
    "2) Find the mean of sample distribution   \n",
    "3) Calculate the mean of the full population i.e the column from which you are calculating the sample distribution of means   \n",
    "\n",
    "So for this purpose I would just pick the first column which is sepal length"
   ]
  },
  {
   "cell_type": "code",
   "execution_count": 15,
   "metadata": {},
   "outputs": [
    {
     "name": "stdout",
     "output_type": "stream",
     "text": [
      " mean of the sample distribution  5.882 \n",
      " mean of the popluation 5.843333333333335\n"
     ]
    }
   ],
   "source": [
    "sepal_length_population  = iris_dataframe[\"sepal length (cm)\"]\n",
    "samples = []\n",
    "means= [] \n",
    "sample_size =5 \n",
    "times_sample = int(len(sepal_length_population)/ sample_size)\n",
    "\n",
    "for i in range(0,times_sample):\n",
    "    single_sample =sepal_length_population.sample(n = 5, replace=\"False\") \n",
    "    samples.append(single_sample) \n",
    "    means.append(single_sample.mean())\n",
    "\n",
    "\n",
    "print(\" mean of the sample distribution \", np.mean(means), \"\\n mean of the popluation\",  sepal_length_population.mean()) \n"
   ]
  },
  {
   "cell_type": "markdown",
   "metadata": {},
   "source": [
    "The above code we see that there is a small difference between the sample distribution mean and the population mean. So this is because of how we are sampling. Suppose we divide the population exactly N number of samples, take the mean of those samples which will give us a sampling distribution of means and then take the mean of that, it will give us the population mean."
   ]
  },
  {
   "cell_type": "code",
   "execution_count": 16,
   "metadata": {},
   "outputs": [
    {
     "name": "stdout",
     "output_type": "stream",
     "text": [
      " mean of the sample distribution  5.843333333333334 \n",
      " mean of the popluation 5.843333333333335\n"
     ]
    }
   ],
   "source": [
    "df_split = np.array_split(sepal_length_population, 5)\n",
    "sampling_dist_mean= [x.mean() for x in df_split]\n",
    "print(\" mean of the sample distribution \", np.mean(sampling_dist_mean), \"\\n mean of the popluation\",  sepal_length_population.mean()) \n"
   ]
  },
  {
   "cell_type": "markdown",
   "metadata": {},
   "source": [
    "Honestly that is pretty clumsy to state all that we have stated in words so let us do this with notation. For example our whole statement \"mean of population is the same as the mean of the sampling distribution\" idea can be easily written down as-\n",
    "\n",
    "𝜇⎯⎯⎯⎯=𝜇𝑃\n",
    " \n",
    "\n",
    "\n",
    "\n",
    "where\n",
    "𝜇𝑃  - is the mean of the population   \n",
    "𝜇⎯⎯⎯⎯  - is the mean of the sampling distribution\n",
    "\n",
    "## Standard error\n",
    "So far we have been speaking a single statistic and its sampling distribution- mean  𝜇 . There are other statistics that we can define, for example - we can draw a sampling distribution of proportions where are proportion is the number of success in a trail. For example, think of coin flip, were in a sample we take a ratio of successes and failures. But we are not going to go into that since thats beyond the scope of what we want to talk about here. We would encourage you to explore that further on your own.\n",
    "\n",
    "What we would want to take away from the above is that the idea of a sampling distribution is not specific to just mean as a statistic. Other statistics could also be used. That leads to us to our next idea. We can get the error for a given statistics by simply looking at the standard deviation of the sampling distribution-\n",
    "\n",
    "the standard deviation of the population is proportional to the standard error of the sampling distribution for a given statistic\n",
    "\n",
    "For the statistic mean, the standard error is -\n",
    "\n",
    "𝜎⎯⎯⎯=𝜎𝑃𝑛⎯⎯√\n",
    " \n",
    "\n",
    "\n",
    "where\n",
    "𝜎⎯⎯⎯  - is known as the standard error of the population   \n",
    "𝜎𝑃  - is the standard deviation of the sampling distribution   \n",
    "𝑛  is the sample size NOT the size of the population!   \n",
    "\n",
    "So yeah we defined standard error, but why do we care? The reason we care is that the standard error helps us put error on a give measurement. So lets actually do this.\n",
    "\n",
    "Question: Calculate the standard error of sampling distribution of the mean for sepal length?"
   ]
  },
  {
   "cell_type": "code",
   "execution_count": 17,
   "metadata": {},
   "outputs": [
    {
     "name": "stdout",
     "output_type": "stream",
     "text": [
      "standard error of the sampling distribution of mean-  0.37032243040470836\n"
     ]
    }
   ],
   "source": [
    "# answer \n",
    "# for a given sample size of 5 the standard error will be \n",
    "sepal_length_population  = iris_dataframe[\"sepal length (cm)\"]\n",
    "print(\"standard error of the sampling distribution of mean- \", sepal_length_population.std()/np.sqrt(5)) "
   ]
  },
  {
   "cell_type": "markdown",
   "metadata": {},
   "source": [
    "Easy right, now we can do this another way.\n",
    "Question: Generate the sampling distribution of mean for sepal length and take its std dev? use a large number of samples like 10000 also make sure that you set replace=\"True\" since we want to sample with replacement. The large number of samples helps us generate a smoother distribution. Wait why do we need a smoother distribution?"
   ]
  },
  {
   "cell_type": "code",
   "execution_count": 18,
   "metadata": {},
   "outputs": [
    {
     "name": "stdout",
     "output_type": "stream",
     "text": [
      "standard deviation of the sampling distribution of mean-  0.3680454859715033\n"
     ]
    }
   ],
   "source": [
    "sepal_length_population  = iris_dataframe[\"sepal length (cm)\"]\n",
    "samples = []\n",
    "means= [] \n",
    "sample_size =5\n",
    "times_sample = 10000\n",
    "\n",
    "for i in range(0,times_sample):\n",
    "    single_sample =sepal_length_population.sample(n = sample_size, replace=\"True\") \n",
    "    samples.append(single_sample) \n",
    "    means.append(single_sample.mean())\n",
    "\n",
    "\n",
    "# means is the sampling disribution of means \n",
    "print(\"standard deviation of the sampling distribution of mean- \", np.std(means)) \n"
   ]
  },
  {
   "cell_type": "markdown",
   "metadata": {},
   "source": [
    "If you compare the answers for the last two questions, you will find that that the answers are really really close. This is because, in essence what you have shown is- the standard deviation of the sampling distribution of mean is the same as the standard error. Oh I did not answer the second question. I really do want you to think about it!\n",
    "\n",
    "BUT WHY IS IT IMPORTANT?\n",
    "\n",
    "Here comes the super important part. See in the above case that we knew what the population was. Many times when you collect data, you do not know what the population mean or the population standard deviation is. Actually this will almost always be the case. If I ask you to find the standard deviation of the age of all children in world, you can't do that. You can however pull samples, calculate a sampling distribution of the mean, take its standard deviation and then multiply it with  (⎯⎯√𝑛)  where  𝑛  is your sample size and get that standard deviation. We infer information about the population from the data we have about samples. That is the power of statistics!\n",
    "\n",
    "## Finite population correction factor\n",
    "There is one small addendum to all standard error calculation that we have done. That is to include the idea of finite population correction factor. So whenever the sample size  𝑛  is greater than 5% of the total population size then we include the finite population of correction factor when we calculate the standard error -\n",
    "\n",
    "𝜎⎯⎯⎯=𝜎𝑃𝑛⎯⎯√𝑁𝑃−𝑛𝑁𝑃−1⎯⎯⎯⎯⎯⎯⎯⎯⎯⎯⎯⎯⎯√\n",
    " \n",
    "where -\n",
    "\n",
    "\n",
    "𝜎⎯⎯⎯  - is known as the standard error of the population\n",
    "𝜎𝑃  - is the standard deviation of the sampling distribution\n",
    "𝑛  is the sample size  𝑁𝑃  is the population size\n",
    "\n",
    "In the above equation, factor of  𝑁𝑃−𝑛𝑁𝑃−1⎯⎯⎯⎯⎯⎯⎯⎯⎯⎯⎯⎯⎯√  is called the finite population correction (FPC) factor. I am going to call it FPC. So what FPC does is, let us relate the standard error for a process where we are sampling without replacement to the standard error of a process where we are sampling with replacement-\n",
    "\n",
    "SE(with replacement )  ∝  fpc SE(without replacement)\n",
    "\n",
    "where SE- is standard error\n",
    "\n",
    "rough code"
   ]
  },
  {
   "cell_type": "code",
   "execution_count": 19,
   "metadata": {},
   "outputs": [
    {
     "data": {
      "text/plain": [
       "<BarContainer object of 20 artists>"
      ]
     },
     "execution_count": 19,
     "metadata": {},
     "output_type": "execute_result"
    },
    {
     "data": {
      "image/png": "[encoded data removed]",
      "text/plain": [
       "<Figure size 432x288 with 1 Axes>"
      ]
     },
     "metadata": {},
     "output_type": "display_data"
    }
   ],
   "source": [
    "import matplotlib.pyplot as plt\n",
    "sepal_length_population  = iris_dataframe[\"sepal length (cm)\"]\n",
    "samples = []\n",
    "means= [] \n",
    "sample_size =5\n",
    "\n",
    "times_sample = 100\n",
    "\n",
    "for i in range(0,times_sample):\n",
    "    single_sample =sepal_length_population.sample(n = sample_size, replace=\"True\") \n",
    "    samples.append(single_sample) \n",
    "    means.append(single_sample.mean())\n",
    "\n",
    "vcounts1, x1 = np.histogram(means, 20)\n",
    "norm_vcounts1= vcounts1/sum(vcounts1)\n",
    "\n",
    "times_sample = 10000\n",
    "\n",
    "for i in range(0,times_sample):\n",
    "    single_sample =sepal_length_population.sample(n = sample_size, replace=\"True\") \n",
    "    samples.append(single_sample) \n",
    "    means.append(single_sample.mean())\n",
    "\n",
    "vcounts2, x2 = np.histogram(means, 20)\n",
    "norm_vcounts2= vcounts2/sum(vcounts2)\n",
    "\n",
    "\n",
    "plt.bar(x1[:-1], norm_vcounts1, x1[1]-x1[0])"
   ]
  },
  {
   "cell_type": "markdown",
   "metadata": {},
   "source": [
    "### Drawing a larger sample\n"
   ]
  },
  {
   "cell_type": "code",
   "execution_count": 20,
   "metadata": {},
   "outputs": [
    {
     "data": {
      "text/plain": [
       "<BarContainer object of 20 artists>"
      ]
     },
     "execution_count": 20,
     "metadata": {},
     "output_type": "execute_result"
    },
    {
     "data": {
      "image/png": "[encoded data removed]",
      "text/plain": [
       "<Figure size 432x288 with 1 Axes>"
      ]
     },
     "metadata": {},
     "output_type": "display_data"
    }
   ],
   "source": [
    "plt.bar(x2[:-1], norm_vcounts2, x2[1]-x2[0])"
   ]
  },
  {
   "cell_type": "code",
   "execution_count": null,
   "metadata": {},
   "outputs": [],
   "source": []
  }
 ],
 "metadata": {
  "kernelspec": {
   "display_name": "Python 3",
   "language": "python",
   "name": "python3"
  },
  "language_info": {
   "codemirror_mode": {
    "name": "ipython",
    "version": 3
   },
   "file_extension": ".py",
   "mimetype": "text/x-python",
   "name": "python",
   "nbconvert_exporter": "python",
   "pygments_lexer": "ipython3",
   "version": "3.7.6"
  }
 },
 "nbformat": 4,
 "nbformat_minor": 4
}
