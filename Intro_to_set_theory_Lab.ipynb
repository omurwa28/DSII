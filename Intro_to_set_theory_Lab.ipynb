{
 "cells": [
  {
   "cell_type": "markdown",
   "metadata": {},
   "source": [
    "#### Oscar Omurwa\n",
    "#### DSII: Lab - Introduction to Set Theory\n",
    "#### Date: 10/2/2020"
   ]
  },
  {
   "cell_type": "markdown",
   "metadata": {},
   "source": [
    "## Part 1"
   ]
  },
  {
   "cell_type": "code",
   "execution_count": null,
   "metadata": {},
   "outputs": [],
   "source": [
    "Create a Set with the given list arr = [9,'g', 'h', 7, 5,'b', 8,'d', 0,'f', 1, 8,'e', 0,'a', 9, 2].\n",
    "\n",
    "Use python functions to create the following subsets from the set arr.\n",
    "\n",
    "2 sets -\n",
    "all_chars: all the charaters from arr\n",
    "all_int: all the integers from arr\n",
    "A set of any 2 characters and all integers from arr, name it \"2char_int_set\"\n",
    "A set of any 2 ints and any 3 characters from arr, name it \"2char_3int_set\"\n",
    "A set named \"random_set\" from arr"
   ]
  },
  {
   "cell_type": "code",
   "execution_count": 70,
   "metadata": {},
   "outputs": [
    {
     "name": "stdout",
     "output_type": "stream",
     "text": [
      "{0, 1, 2, 5, 'g', 7, 8, 9, 'h', 'd', 'e', 'b', 'f', 'a'}\n"
     ]
    }
   ],
   "source": [
    "arr = [9,'g', 'h', 7, 5,'b', 8,'d', 0,'f', 1, 8,'e', 0,'a', 9, 2]\n",
    "arr_set = set(arr)\n",
    "print(arr_set)"
   ]
  },
  {
   "cell_type": "code",
   "execution_count": 71,
   "metadata": {},
   "outputs": [
    {
     "name": "stdout",
     "output_type": "stream",
     "text": [
      "All characters in the english langauge {'m', 'z', 't', 'n', 'f', 'p', 'i', 'c', 'y', 'h', 'e', 'o', 's', 'q', 'g', 'd', 'x', 'j', 'l', 'r', 'u', 'b', 'w', 'k', 'a', 'v'}\n"
     ]
    }
   ],
   "source": [
    "import string\n",
    "\n",
    "set_letters = set(string.ascii_lowercase)\n",
    "print(\"All characters in the english langauge {}\".format(set_letters))"
   ]
  },
  {
   "cell_type": "code",
   "execution_count": 72,
   "metadata": {},
   "outputs": [
    {
     "name": "stdout",
     "output_type": "stream",
     "text": [
      "Set of numbers {0, 1, 2, 3, 4, 5, 6, 7, 8, 9}\n"
     ]
    }
   ],
   "source": [
    "import numpy as np \n",
    "\n",
    "set_numbers = set(np.arange(10))\n",
    "print(\"Set of numbers {}\".format(set_numbers))"
   ]
  },
  {
   "cell_type": "code",
   "execution_count": 73,
   "metadata": {},
   "outputs": [
    {
     "name": "stdout",
     "output_type": "stream",
     "text": [
      "Difference {0, 1, 2, 5, 7, 8, 9}\n",
      "Set of only numbers None\n"
     ]
    }
   ],
   "source": [
    "set_only_numbers = print(\"Difference\", arr_set-set_letters)\n",
    "print(\"Set of only numbers {}\".format(set_only_numbers))"
   ]
  },
  {
   "cell_type": "code",
   "execution_count": 74,
   "metadata": {},
   "outputs": [
    {
     "name": "stdout",
     "output_type": "stream",
     "text": [
      "Set of only letters ('Difference', {'g', 'd', 'h', 'e', 'b', 'f', 'a'})\n"
     ]
    }
   ],
   "source": [
    "# How do we get only letters from the array? \n",
    "set_only_letters = (\"Difference\", arr_set-set_numbers)\n",
    "print(\"Set of only letters {}\".format(set_only_letters))"
   ]
  },
  {
   "cell_type": "code",
   "execution_count": 76,
   "metadata": {},
   "outputs": [
    {
     "name": "stdout",
     "output_type": "stream",
     "text": [
      "One possible combination of is the following set ('Union:', {0, 1, 2, 3, 4, 5, 6, 7, 8, 'd', 9, 'e'})\n"
     ]
    }
   ],
   "source": [
    "# How do we get 2 chars and rest letters from the array? \n",
    "# pick two alphabets and make a set\n",
    "letters = [\"d\",\"e\"]\n",
    "alpha_subset = set(letters)\n",
    "twochar_set = (\"Union:\", alpha_subset |set_numbers) \n",
    "print(\"One possible combination of is the following set {}\".format(twochar_set))"
   ]
  },
  {
   "cell_type": "code",
   "execution_count": 77,
   "metadata": {},
   "outputs": [
    {
     "name": "stdout",
     "output_type": "stream",
     "text": [
      "One possible combination of is the following set ('Union:', {2, 'g', 'm', 9, 'z', 't', 'd', 'n', 'f', 'x', 'p', 'j', 'l', 'i', 'r', 'c', 'y', 'h', 'e', 'u', 'o', 'b', 's', 'q', 'w', 'k', 'a', 'v'})\n"
     ]
    }
   ],
   "source": [
    "# How do we get 2 chars and rest letters from the array? \n",
    "\n",
    "# pick two alphabets and make a set\n",
    "numero = [2,9]\n",
    "num_subset = set(numero)\n",
    "twonum_set = (\"Union:\",num_subset |set_letters)\n",
    "print(\"One possible combination of is the following set {}\".format(twonum_set))"
   ]
  },
  {
   "cell_type": "code",
   "execution_count": 78,
   "metadata": {},
   "outputs": [
    {
     "name": "stdout",
     "output_type": "stream",
     "text": [
      " Subsample from arr_set [2, 'd', 1, 'g', 'b']\n"
     ]
    }
   ],
   "source": [
    "# Next is random sampling from a set. We can do this by doing using the random sample function\n",
    "# from the random library \n",
    "import random\n",
    "\n",
    "# Make sure that random seed is set to 1  \n",
    "random.seed(1)\n",
    "## the module random has a function sample use that to get 5 elements from arr_set\n",
    "subsample = random.sample(arr_set,5) \n",
    "print(\" Subsample from arr_set {}\".format(subsample))"
   ]
  },
  {
   "cell_type": "markdown",
   "metadata": {},
   "source": [
    "## Part 2\n"
   ]
  },
  {
   "cell_type": "code",
   "execution_count": 79,
   "metadata": {},
   "outputs": [],
   "source": [
    "P = [4,6,12,1,6,7,14,17,5,13,8,9,19,16,19,5,15,15,0,18]\n",
    "S = [5,0,3,11,3,7,9,3,5,2]\n",
    "# Check if S is the subset of P"
   ]
  },
  {
   "cell_type": "code",
   "execution_count": 80,
   "metadata": {},
   "outputs": [
    {
     "name": "stdout",
     "output_type": "stream",
     "text": [
      "S is a subset of P: False\n"
     ]
    }
   ],
   "source": [
    "P_set = set(P)\n",
    "S_set = set(S)\n",
    "\n",
    "\n",
    "is_subset = S_set.issubset(P_set)\n",
    "\n",
    "print(\"S is a subset of P: {}\".format(is_subset))"
   ]
  },
  {
   "cell_type": "code",
   "execution_count": 81,
   "metadata": {},
   "outputs": [
    {
     "name": "stdout",
     "output_type": "stream",
     "text": [
      "S is a subset of P: True\n"
     ]
    }
   ],
   "source": [
    "# If S is not a subset of P then create a new set with elements of S which also exist in P, using set operations.\n",
    "\n",
    "P = [4,6,12,1,6,7,14,17,5,13,8,9,19,16,19,5,15,15,0,18]\n",
    "S= [17,5,13,8,9,19,16]\n",
    "\n",
    "P_set = set(P)\n",
    "S_set = set(S)\n",
    "\n",
    "\n",
    "is_subset = S_set.issubset(P_set)\n",
    "\n",
    "print(\"S is a subset of P: {}\".format(is_subset))"
   ]
  },
  {
   "cell_type": "code",
   "execution_count": 82,
   "metadata": {},
   "outputs": [
    {
     "name": "stdout",
     "output_type": "stream",
     "text": [
      "Elements common to both P and S are ('Intersection:', {5, 8, 9, 13, 16, 17, 19})\n"
     ]
    }
   ],
   "source": [
    "P_intersect_S = (\"Intersection:\", P_set & S_set) \n",
    "print(\"Elements common to both P and S are {}\".format(P_intersect_S))"
   ]
  },
  {
   "cell_type": "code",
   "execution_count": 88,
   "metadata": {},
   "outputs": [
    {
     "data": {
      "text/plain": [
       "('Union:', {0, 1, 4, 5, 6, 7, 8, 9, 12, 13, 14, 15, 16, 17, 18, 19})"
      ]
     },
     "execution_count": 88,
     "metadata": {},
     "output_type": "execute_result"
    }
   ],
   "source": [
    "### For the sets P and S calculate:\n",
    "# Union of Sets - S  ∪  P\n",
    "union_PS = (\"Union:\",S_set |P_set)\n",
    "union_PS\n"
   ]
  },
  {
   "cell_type": "code",
   "execution_count": 90,
   "metadata": {},
   "outputs": [
    {
     "data": {
      "text/plain": [
       "{0, 1, 4, 6, 7, 12, 14, 15, 18}"
      ]
     },
     "execution_count": 90,
     "metadata": {},
     "output_type": "execute_result"
    }
   ],
   "source": [
    "# Difference of Sets - Both S-P and P-S\n",
    "difference_PS = (P_set-S_set)\n",
    "difference_PS\n"
   ]
  },
  {
   "cell_type": "code",
   "execution_count": 92,
   "metadata": {},
   "outputs": [
    {
     "data": {
      "text/plain": [
       "set()"
      ]
     },
     "execution_count": 92,
     "metadata": {},
     "output_type": "execute_result"
    }
   ],
   "source": [
    "difference_SP = (S_set-P_set)\n",
    "difference_SP\n"
   ]
  },
  {
   "cell_type": "code",
   "execution_count": 93,
   "metadata": {},
   "outputs": [
    {
     "name": "stdout",
     "output_type": "stream",
     "text": [
      "Union of set P and S : ('Union:', {0, 1, 4, 5, 6, 7, 8, 9, 12, 13, 14, 15, 16, 17, 18, 19})\n",
      "Difference of set P and S : {0, 1, 4, 6, 7, 12, 14, 15, 18}\n",
      "Difference of set S and P : set()\n"
     ]
    }
   ],
   "source": [
    "print(\"Union of set P and S : {}\".format(union_PS))\n",
    "print(\"Difference of set P and S : {}\".format(difference_PS))\n",
    "print(\"Difference of set S and P : {}\".format(difference_SP))"
   ]
  },
  {
   "cell_type": "code",
   "execution_count": null,
   "metadata": {},
   "outputs": [],
   "source": []
  }
 ],
 "metadata": {
  "kernelspec": {
   "display_name": "Python 3",
   "language": "python",
   "name": "python3"
  },
  "language_info": {
   "codemirror_mode": {
    "name": "ipython",
    "version": 3
   },
   "file_extension": ".py",
   "mimetype": "text/x-python",
   "name": "python",
   "nbconvert_exporter": "python",
   "pygments_lexer": "ipython3",
   "version": "3.7.6"
  }
 },
 "nbformat": 4,
 "nbformat_minor": 4
}
