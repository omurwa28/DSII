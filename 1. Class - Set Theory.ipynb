{
 "cells": [
  {
   "cell_type": "code",
   "execution_count": 1,
   "metadata": {
    "scrolled": true
   },
   "outputs": [
    {
     "name": "stdout",
     "output_type": "stream",
     "text": [
      "{'Grapes', 'Apples', 'Peaches', 'Bananas', 'Mangoes'}\n"
     ]
    }
   ],
   "source": [
    "a = {\"Apples\",\"Bananas\",\"Peaches\",\"Grapes\",\"Bananas\",\"Mangoes\",\"Bananas\"}\n",
    "# or\n",
    "a = set([\"Apples\",\"Bananas\",\"Peaches\",\"Grapes\",\"Bananas\",\"Mangoes\",\"Bananas\"])\n",
    "\n",
    "print(a)"
   ]
  },
  {
   "cell_type": "code",
   "execution_count": 2,
   "metadata": {},
   "outputs": [
    {
     "name": "stdout",
     "output_type": "stream",
     "text": [
      "<class 'set'>\n"
     ]
    }
   ],
   "source": [
    "print(type(a))"
   ]
  },
  {
   "cell_type": "code",
   "execution_count": 4,
   "metadata": {},
   "outputs": [
    {
     "name": "stdout",
     "output_type": "stream",
     "text": [
      "Grapes\n",
      "Apples\n",
      "Peaches\n",
      "Bananas\n",
      "Mangoes\n"
     ]
    }
   ],
   "source": [
    "for x in a:\n",
    "    print(x)"
   ]
  },
  {
   "cell_type": "code",
   "execution_count": 6,
   "metadata": {},
   "outputs": [
    {
     "name": "stdout",
     "output_type": "stream",
     "text": [
      "<class 'set'> <class 'set'>\n"
     ]
    }
   ],
   "source": [
    "A = {1,2,3,4}\n",
    "B= {1,2}\n",
    "print(type(A),type(B))"
   ]
  },
  {
   "cell_type": "code",
   "execution_count": 7,
   "metadata": {},
   "outputs": [
    {
     "data": {
      "text/plain": [
       "False"
      ]
     },
     "execution_count": 7,
     "metadata": {},
     "output_type": "execute_result"
    }
   ],
   "source": [
    "A.issubset(B)"
   ]
  },
  {
   "cell_type": "code",
   "execution_count": 8,
   "metadata": {},
   "outputs": [
    {
     "data": {
      "text/plain": [
       "True"
      ]
     },
     "execution_count": 8,
     "metadata": {},
     "output_type": "execute_result"
    }
   ],
   "source": [
    "B.issubset(A)"
   ]
  },
  {
   "cell_type": "code",
   "execution_count": 11,
   "metadata": {},
   "outputs": [
    {
     "data": {
      "text/plain": [
       "True"
      ]
     },
     "execution_count": 11,
     "metadata": {},
     "output_type": "execute_result"
    }
   ],
   "source": [
    "A.issuperset(B)"
   ]
  },
  {
   "cell_type": "code",
   "execution_count": null,
   "metadata": {},
   "outputs": [],
   "source": [
    "#Exercise\n",
    "# Initialize the following sets:\n",
    "\n",
    "A={1,2,3,4,5,6,7,8,9,0} \n",
    "B={2,4,6,8} \n",
    "C  as a Null set\n",
    "# Verify the following:\n",
    "\n",
    "# Is  A  the subset of  B ?\n",
    "# Is  B  the superset of  C ?\n",
    "# Is  A  the superset of  B ?\n",
    "# Is  C  the subset of  A ?\n",
    "\n",
    "\n"
   ]
  },
  {
   "cell_type": "code",
   "execution_count": 14,
   "metadata": {},
   "outputs": [
    {
     "name": "stdout",
     "output_type": "stream",
     "text": [
      "False True True True\n"
     ]
    }
   ],
   "source": [
    "A = {1,2,3,4,5,6,7,8,9,0}\n",
    "B = {2,4,6,8}\n",
    "C = set()\n",
    "\n",
    "print(A.issubset(B),B.issuperset(C),A.issuperset(B),C.issubset(A))"
   ]
  },
  {
   "cell_type": "code",
   "execution_count": 15,
   "metadata": {},
   "outputs": [],
   "source": [
    "A={3,6,4,8,2,0,5,1,9,7}\n",
    "A.add(10)"
   ]
  },
  {
   "cell_type": "code",
   "execution_count": 17,
   "metadata": {},
   "outputs": [],
   "source": [
    "A.remove(3)"
   ]
  },
  {
   "cell_type": "code",
   "execution_count": 19,
   "metadata": {},
   "outputs": [
    {
     "name": "stdout",
     "output_type": "stream",
     "text": [
      "{0, 1, 2, 4, 5, 6, 7, 8, 9, 10}\n"
     ]
    }
   ],
   "source": [
    "print(A)"
   ]
  },
  {
   "cell_type": "code",
   "execution_count": 21,
   "metadata": {},
   "outputs": [
    {
     "name": "stdout",
     "output_type": "stream",
     "text": [
      "Python 3.7.6\n"
     ]
    }
   ],
   "source": [
    "!python --version"
   ]
  },
  {
   "cell_type": "code",
   "execution_count": 26,
   "metadata": {
    "scrolled": true
   },
   "outputs": [
    {
     "name": "stdout",
     "output_type": "stream",
     "text": [
      "{'Mangoes', 'Apples', 'Bananas'}\n"
     ]
    }
   ],
   "source": [
    "A.discard(5)\n",
    "print(A)"
   ]
  },
  {
   "cell_type": "markdown",
   "metadata": {},
   "source": [
    "## Union of Sets¶\n"
   ]
  },
  {
   "cell_type": "code",
   "execution_count": 23,
   "metadata": {},
   "outputs": [
    {
     "name": "stdout",
     "output_type": "stream",
     "text": [
      "Union: {0, 1, 2, 3, 4, 5, 6, 8}\n"
     ]
    }
   ],
   "source": [
    "# Union of Sets\n",
    "# A union of two sets is a collective set containing every element of both sets. The operation to be used is | for union.\n",
    "\n",
    "# Given sets A and B\n",
    "A = {0, 2, 4, 6, 8}\n",
    "B = {1, 2, 3, 4, 5}\n",
    "print(\"Union:\", A | B) "
   ]
  },
  {
   "cell_type": "code",
   "execution_count": 25,
   "metadata": {},
   "outputs": [
    {
     "name": "stdout",
     "output_type": "stream",
     "text": [
      "union: {'Tomatoes', 'Bananas', 'Potatoes', 'Mangoes', 'Apples'}\n"
     ]
    }
   ],
   "source": [
    "A={\"Apples\",\"Bananas\",\"Mangoes\"} \n",
    "B={\"Bananas\",\"Tomatoes\",\"Apples\",\"Potatoes\"}\n",
    "\n",
    "# Print the union of both the sets\n",
    "\n",
    "print(\"union:\",A|B)"
   ]
  },
  {
   "cell_type": "markdown",
   "metadata": {},
   "source": [
    "## Intersection Of Sets¶\n"
   ]
  },
  {
   "cell_type": "code",
   "execution_count": 29,
   "metadata": {},
   "outputs": [
    {
     "name": "stdout",
     "output_type": "stream",
     "text": [
      "Intersection: {2, 4}\n"
     ]
    }
   ],
   "source": [
    "# An intersection of two or more sets is the collection of all elements that are common in all of the individual sets. \n",
    "# The operator to be used is '&' for intersection.\n",
    "\n",
    "# Given sets A and B\n",
    "A = {0, 2, 4, 6, 8}\n",
    "B = {1, 2, 3, 4, 5}\n",
    "print(\"Intersection:\", A & B) \n",
    "\n"
   ]
  },
  {
   "cell_type": "code",
   "execution_count": 30,
   "metadata": {},
   "outputs": [
    {
     "name": "stdout",
     "output_type": "stream",
     "text": [
      "Intersection: {'Apples', 'Bananas'}\n"
     ]
    }
   ],
   "source": [
    "# Given two sets A and B as\n",
    "\n",
    "A={\"Apples\",\"Bananas\",\"Mangoes\"}\n",
    "B={\"Bananas\",\"Tomatoes\",\"Apples\",\"Potatoes\"}\n",
    "\n",
    "# Print the intersection of both the sets\n",
    "\n",
    "A = {\"Apples\",\"Bananas\",\"Mangoes\"} \n",
    "B = {\"Bananas\",\"Tomatoes\",\"Apples\",\"Potatoes\"}\n",
    "\n",
    "# Intersection\n",
    "print(\"Intersection:\", A & B)"
   ]
  },
  {
   "cell_type": "markdown",
   "metadata": {},
   "source": [
    "## Difference between two sets¶\n"
   ]
  },
  {
   "cell_type": "code",
   "execution_count": 32,
   "metadata": {},
   "outputs": [
    {
     "name": "stdout",
     "output_type": "stream",
     "text": [
      "Difference: {0, 8, 6}\n",
      "Difference: {1, 3, 5}\n"
     ]
    }
   ],
   "source": [
    "# When a set  B  is subtracted from the set  A , we get a set which is a collection of all elements belonging to set  A , which do not appear in set  B . Similarly, the difference between  B  and  A , i.e.  B−A  is the set of all elements that appear in  B  but do not appear in  A . The operator to be used is '-' (minus) for difference.\n",
    "\n",
    "# Given sets A and B\n",
    "A = {0, 2, 4, 6, 8}\n",
    "B = {1, 2, 3, 4, 5}\n",
    "print(\"Difference:\", A - B)\n",
    "\n",
    "# Output\n",
    "#  Difference: {0, 8, 6}\n",
    "\n",
    "print(\"Difference:\", B - A)\n",
    "\n",
    "# Output\n",
    "# Difference: {1, 3, 5}"
   ]
  },
  {
   "cell_type": "code",
   "execution_count": 33,
   "metadata": {},
   "outputs": [
    {
     "name": "stdout",
     "output_type": "stream",
     "text": [
      "Differences: {'Mangoes'} {'Tomatoes', 'Potatoes'}\n"
     ]
    }
   ],
   "source": [
    "# sets are defined \n",
    "A = {\"Apples\",\"Bananas\",\"Mangoes\"} \n",
    "B = {\"Bananas\",\"Tomatoes\",\"Apples\",\"Potatoes\"}\n",
    "\n",
    "# Intersection\n",
    "print(\"Differences:\", A-B, B-A)"
   ]
  },
  {
   "cell_type": "markdown",
   "metadata": {},
   "source": [
    "## Symmetric Difference\n"
   ]
  },
  {
   "cell_type": "code",
   "execution_count": 34,
   "metadata": {},
   "outputs": [
    {
     "name": "stdout",
     "output_type": "stream",
     "text": [
      "Symmetric difference: {0, 1, 3, 5, 6, 8}\n"
     ]
    }
   ],
   "source": [
    "# A symmetric difference of two sets is a collection of elements which occur in either of the sets but not both, \n",
    "# i.e. Symmetric difference is the difference of a union of two sets and their intersection: Union-Intersection. \n",
    "# The operation to be used is ^ for Symmetric difference.\n",
    "\n",
    "# Given sets A and B\n",
    "A = {0, 2, 4, 6, 8}\n",
    "B = {1, 2, 3, 4, 5}\n",
    "print(\"Symmetric difference:\", A ^ B)\n",
    "\n"
   ]
  },
  {
   "cell_type": "code",
   "execution_count": 35,
   "metadata": {},
   "outputs": [
    {
     "name": "stdout",
     "output_type": "stream",
     "text": [
      "Symmetric difference: {'Tomatoes', 'Potatoes', 'Mangoes'}\n"
     ]
    }
   ],
   "source": [
    "# sets are defined \n",
    "A = {\"Apples\",\"Bananas\",\"Mangoes\"} \n",
    "B = {\"Bananas\",\"Tomatoes\",\"Apples\",\"Potatoes\"}\n",
    "\n",
    "# Intersection\n",
    "print(\"Symmetric difference:\", A^B)"
   ]
  },
  {
   "cell_type": "markdown",
   "metadata": {},
   "source": [
    "## Groups and Group Theory"
   ]
  },
  {
   "cell_type": "code",
   "execution_count": null,
   "metadata": {},
   "outputs": [],
   "source": []
  }
 ],
 "metadata": {
  "kernelspec": {
   "display_name": "Python 3",
   "language": "python",
   "name": "python3"
  },
  "language_info": {
   "codemirror_mode": {
    "name": "ipython",
    "version": 3
   },
   "file_extension": ".py",
   "mimetype": "text/x-python",
   "name": "python",
   "nbconvert_exporter": "python",
   "pygments_lexer": "ipython3",
   "version": "3.7.6"
  }
 },
 "nbformat": 4,
 "nbformat_minor": 4
}
